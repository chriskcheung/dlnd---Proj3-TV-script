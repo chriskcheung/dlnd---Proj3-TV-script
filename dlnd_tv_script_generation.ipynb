{
 "cells": [
  {
   "cell_type": "markdown",
   "metadata": {
    "deletable": true,
    "editable": true
   },
   "source": [
    "# TV Script Generation\n",
    "In this project, you'll generate your own [Simpsons](https://en.wikipedia.org/wiki/The_Simpsons) TV scripts using RNNs.  You'll be using part of the [Simpsons dataset](https://www.kaggle.com/wcukierski/the-simpsons-by-the-data) of scripts from 27 seasons.  The Neural Network you'll build will generate a new TV script for a scene at [Moe's Tavern](https://simpsonswiki.com/wiki/Moe's_Tavern).\n",
    "## Get the Data\n",
    "The data is already provided for you.  You'll be using a subset of the original dataset.  It consists of only the scenes in Moe's Tavern.  This doesn't include other versions of the tavern, like \"Moe's Cavern\", \"Flaming Moe's\", \"Uncle Moe's Family Feed-Bag\", etc.."
   ]
  },
  {
   "cell_type": "code",
   "execution_count": 12,
   "metadata": {
    "collapsed": false,
    "deletable": true,
    "editable": true
   },
   "outputs": [],
   "source": [
    "\"\"\"\n",
    "DON'T MODIFY ANYTHING IN THIS CELL\n",
    "\"\"\"\n",
    "import helper\n",
    "\n",
    "data_dir = './data/simpsons/moes_tavern_lines.txt'\n",
    "text = helper.load_data(data_dir)\n",
    "# Ignore notice, since we don't use it for analysing the data\n",
    "text = text[81:]"
   ]
  },
  {
   "cell_type": "markdown",
   "metadata": {
    "deletable": true,
    "editable": true
   },
   "source": [
    "## Explore the Data\n",
    "Play around with `view_sentence_range` to view different parts of the data."
   ]
  },
  {
   "cell_type": "code",
   "execution_count": 13,
   "metadata": {
    "collapsed": false,
    "deletable": true,
    "editable": true
   },
   "outputs": [
    {
     "name": "stdout",
     "output_type": "stream",
     "text": [
      "Dataset Stats\n",
      "Roughly the number of unique words: 11492\n",
      "Number of scenes: 262\n",
      "Average number of sentences in each scene: 15.251908396946565\n",
      "Number of lines: 4258\n",
      "Average number of words in each line: 11.50164396430249\n",
      "\n",
      "The sentences 0 to 10:\n",
      "\n",
      "Moe_Szyslak: (INTO PHONE) Moe's Tavern. Where the elite meet to drink.\n",
      "Bart_Simpson: Eh, yeah, hello, is Mike there? Last name, Rotch.\n",
      "Moe_Szyslak: (INTO PHONE) Hold on, I'll check. (TO BARFLIES) Mike Rotch. Mike Rotch. Hey, has anybody seen Mike Rotch, lately?\n",
      "Moe_Szyslak: (INTO PHONE) Listen you little puke. One of these days I'm gonna catch you, and I'm gonna carve my name on your back with an ice pick.\n",
      "Moe_Szyslak: What's the matter Homer? You're not your normal effervescent self.\n",
      "Homer_Simpson: I got my problems, Moe. Give me another one.\n",
      "Moe_Szyslak: Homer, hey, you should not drink to forget your problems.\n",
      "Barney_Gumble: Yeah, you should only drink to enhance your social skills.\n",
      "\n"
     ]
    }
   ],
   "source": [
    "view_sentence_range = (0, 10)\n",
    "\n",
    "\"\"\"\n",
    "DON'T MODIFY ANYTHING IN THIS CELL\n",
    "\"\"\"\n",
    "import numpy as np\n",
    "\n",
    "print('Dataset Stats')\n",
    "print('Roughly the number of unique words: {}'.format(len({word: None for word in text.split()})))\n",
    "scenes = text.split('\\n\\n')\n",
    "print('Number of scenes: {}'.format(len(scenes)))\n",
    "sentence_count_scene = [scene.count('\\n') for scene in scenes]\n",
    "print('Average number of sentences in each scene: {}'.format(np.average(sentence_count_scene)))\n",
    "\n",
    "sentences = [sentence for scene in scenes for sentence in scene.split('\\n')]\n",
    "print('Number of lines: {}'.format(len(sentences)))\n",
    "word_count_sentence = [len(sentence.split()) for sentence in sentences]\n",
    "print('Average number of words in each line: {}'.format(np.average(word_count_sentence)))\n",
    "\n",
    "print()\n",
    "print('The sentences {} to {}:'.format(*view_sentence_range))\n",
    "print('\\n'.join(text.split('\\n')[view_sentence_range[0]:view_sentence_range[1]]))"
   ]
  },
  {
   "cell_type": "markdown",
   "metadata": {
    "deletable": true,
    "editable": true
   },
   "source": [
    "## Implement Preprocessing Functions\n",
    "The first thing to do to any dataset is preprocessing.  Implement the following preprocessing functions below:\n",
    "- Lookup Table\n",
    "- Tokenize Punctuation\n",
    "\n",
    "### Lookup Table\n",
    "To create a word embedding, you first need to transform the words to ids.  In this function, create two dictionaries:\n",
    "- Dictionary to go from the words to an id, we'll call `vocab_to_int`\n",
    "- Dictionary to go from the id to word, we'll call `int_to_vocab`\n",
    "\n",
    "Return these dictionaries in the following tuple `(vocab_to_int, int_to_vocab)`"
   ]
  },
  {
   "cell_type": "code",
   "execution_count": 36,
   "metadata": {
    "collapsed": false,
    "deletable": true,
    "editable": true
   },
   "outputs": [
    {
     "name": "stdout",
     "output_type": "stream",
     "text": [
      "<<<< vocab_to_int >>>> \n",
      " {'not': 0, 'drink': 1, 'social': 69, 'should': 2, 'one': 3, 'back': 4, 'i': 32, 'give': 7, 'barney_gumble': 8, 'there': 9, 'check': 10, 'hold': 11, 'moe': 13, 'problems': 56, 'gonna': 14, 'your': 15, 'elite': 16, 'mike': 27, 'last': 17, 'on': 18, 'enhance': 61, 'skills': 19, 'meet': 20, 'an': 21, 'where': 22, 'matter': 23, 'you': 24, 'anybody': 44, 'with': 25, 'is': 26, 'hey': 28, \"i'm\": 29, 'hello': 12, 'lately': 31, 'of': 33, 'homer_simpson': 34, 'days': 35, 'these': 36, 'ice': 37, 'my': 38, 'another': 39, 'homer': 67, 'little': 40, 'pick': 41, 'bart_simpson': 65, 'seen': 43, 'carve': 45, 'moe_szyslak': 66, 'name': 64, 'me': 53, \"moe's\": 5, 'puke': 47, 'yeah': 48, 'normal': 68, 'effervescent': 49, 'to': 50, 'eh': 51, 'rotch': 55, 'catch': 30, 'whats': 57, 'listen': 58, 'got': 59, 'and': 60, \"you're\": 62, 'has': 63, 'the': 6, 'self': 52, 'only': 54, 'forget': 42, 'tavern': 46, \"i'll\": 70}\n",
      "<<<< int_to_vocab >>>> \n",
      " {0: 'not', 1: 'drink', 2: 'should', 3: 'one', 4: 'back', 5: \"moe's\", 6: 'the', 7: 'give', 8: 'barney_gumble', 9: 'there', 10: 'check', 11: 'hold', 12: 'hello', 13: 'moe', 14: 'gonna', 15: 'your', 16: 'elite', 17: 'last', 18: 'on', 19: 'skills', 20: 'meet', 21: 'an', 22: 'where', 23: 'matter', 24: 'you', 25: 'with', 26: 'is', 27: 'mike', 28: 'hey', 29: \"i'm\", 30: 'catch', 31: 'lately', 32: 'i', 33: 'of', 34: 'homer_simpson', 35: 'days', 36: 'these', 37: 'ice', 38: 'my', 39: 'another', 40: 'little', 41: 'pick', 42: 'forget', 43: 'seen', 44: 'anybody', 45: 'carve', 46: 'tavern', 47: 'puke', 48: 'yeah', 49: 'effervescent', 50: 'to', 51: 'eh', 52: 'self', 53: 'me', 54: 'only', 55: 'rotch', 56: 'problems', 57: 'whats', 58: 'listen', 59: 'got', 60: 'and', 61: 'enhance', 62: \"you're\", 63: 'has', 64: 'name', 65: 'bart_simpson', 66: 'moe_szyslak', 67: 'homer', 68: 'normal', 69: 'social', 70: \"i'll\"}\n",
      "Tests Passed\n"
     ]
    }
   ],
   "source": [
    "import numpy as np\n",
    "import problem_unittests as tests\n",
    "\n",
    "def create_lookup_tables(text):\n",
    "    \"\"\"\n",
    "    Create lookup tables for vocabulary\n",
    "    :param text: The text of tv scripts split into words\n",
    "    :return: A tuple of dicts (vocab_to_int, int_to_vocab)\n",
    "    \"\"\"\n",
    "    # TODO: Implement Function\n",
    "    unique_words  = set(text)\n",
    "    unique_words_num = 0\n",
    "    #print(\"<<<< text >>>> \\n\", text[:30])\n",
    "    #print(\"<<<< unique >>>> \\n\", set(unique_words))\n",
    "    vocab_to_int  = {word:i for i, word in enumerate(unique_words)}\n",
    "    int_to_vocab  = {i:word for word, i in vocab_to_int.items()}\n",
    "    print(\"<<<< vocab_to_int >>>> \\n\", vocab_to_int )\n",
    "    print(\"<<<< int_to_vocab >>>> \\n\", int_to_vocab )\n",
    "    return vocab_to_int, int_to_vocab\n",
    "\n",
    "\n",
    "\"\"\"\n",
    "DON'T MODIFY ANYTHING IN THIS CELL THAT IS BELOW THIS LINE\n",
    "\"\"\"\n",
    "tests.test_create_lookup_tables(create_lookup_tables)"
   ]
  },
  {
   "cell_type": "markdown",
   "metadata": {
    "deletable": true,
    "editable": true
   },
   "source": [
    "### Tokenize Punctuation\n",
    "We'll be splitting the script into a word array using spaces as delimiters.  However, punctuations like periods and exclamation marks make it hard for the neural network to distinguish between the word \"bye\" and \"bye!\".\n",
    "\n",
    "Implement the function `token_lookup` to return a dict that will be used to tokenize symbols like \"!\" into \"||Exclamation_Mark||\".  Create a dictionary for the following symbols where the symbol is the key and value is the token:\n",
    "- Period ( . )\n",
    "- Comma ( , )\n",
    "- Quotation Mark ( \" )\n",
    "- Semicolon ( ; )\n",
    "- Exclamation mark ( ! )\n",
    "- Question mark ( ? )\n",
    "- Left Parentheses ( ( )\n",
    "- Right Parentheses ( ) )\n",
    "- Dash ( -- )\n",
    "- Return ( \\n )\n",
    "\n",
    "This dictionary will be used to token the symbols and add the delimiter (space) around it.  This separates the symbols as it's own word, making it easier for the neural network to predict on the next word. Make sure you don't use a token that could be confused as a word. Instead of using the token \"dash\", try using something like \"||dash||\"."
   ]
  },
  {
   "cell_type": "code",
   "execution_count": 37,
   "metadata": {
    "collapsed": false,
    "deletable": true,
    "editable": true
   },
   "outputs": [
    {
     "name": "stdout",
     "output_type": "stream",
     "text": [
      "Tests Passed\n"
     ]
    }
   ],
   "source": [
    "def token_lookup():\n",
    "    \"\"\"\n",
    "    Generate a dict to turn punctuation into a token.\n",
    "    :return: Tokenize dictionary where the key is the punctuation and the value is the token\n",
    "    \"\"\"\n",
    "    # TODO: Implement Function\n",
    "    token_punct = { '.': '||Period||',\\\n",
    "                    ',': '||Comma||',\\\n",
    "                    '\"': '||Quotation_Mark||',\\\n",
    "                    ';': '||Semicolon||',\\\n",
    "                    '!': '||Exclamation_Mark||', \\\n",
    "                    '?': '||Question_Mark||', \\\n",
    "                    '(': '||Left_Parentheses||', \\\n",
    "                    ')': '||Right_Parentheses||', \\\n",
    "                    '--': '||Dash||', \\\n",
    "                    '\\n':'Return'}\n",
    "    return token_punct\n",
    "\n",
    "\"\"\"\n",
    "DON'T MODIFY ANYTHING IN THIS CELL THAT IS BELOW THIS LINE\n",
    "\"\"\"\n",
    "tests.test_tokenize(token_lookup)"
   ]
  },
  {
   "cell_type": "markdown",
   "metadata": {
    "deletable": true,
    "editable": true
   },
   "source": [
    "## Preprocess all the data and save it\n",
    "Running the code cell below will preprocess all the data and save it to file."
   ]
  },
  {
   "cell_type": "code",
   "execution_count": 38,
   "metadata": {
    "collapsed": false,
    "deletable": true,
    "editable": true
   },
   "outputs": [
    {
     "name": "stdout",
     "output_type": "stream",
     "text": [
      "<<<< vocab_to_int >>>> \n",
      " {'motel': 0, 'naval': 1, 'payments': 2, 'desperate': 3, 'blows': 4, 'race': 5, 'anderson': 3351, 'captain:': 6, \"father's\": 3353, 'singing': 7, 'confused': 3354, 'jazz': 3355, 'single-mindedness': 8, 'uh': 9, 'guilt': 10, 'sagely': 11, 'easy': 3139, 'jeff': 12, \"secret's\": 3356, 'mostrar': 3357, 'stinky': 13, 'kill': 3358, 'duel': 14, 'with': 3359, 'vulgar': 6174, 'harm': 15, 'studied': 6175, 'seek': 6713, 'chapel': 3361, 'show': 16, '21': 6176, 'liquor': 3362, 'twenty-six': 18, '1973': 3363, 'careful': 3364, 'children': 19, 'jury': 3365, 'female_inspector:': 21, 'tail': 23, 'parrot': 24, 'booking': 25, 'guy': 3366, 'compadre': 4444, 'snapping': 26, \"ain't\": 27, 'sharity': 28, 'generously': 29, 'knit': 30, 're:': 31, 'generous': 32, 'tropical': 3369, 'blinds': 33, \"homer's\": 34, 'prize': 3370, 'jerk-ass': 5591, 'tenuous': 3371, 'successful': 3372, 'discuss': 3374, 'nameless': 35, 'closes': 6668, 'brothers': 3375, 'sell': 36, 'newspaper': 5593, 'inquiries': 6628, 'squeeze': 3376, 'souvenir': 3377, 'sissy': 37, 'pip': 3378, 'desire': 38, 'lobster-politans': 39, 'infestation': 40, 'disapproving': 5594, 'scores': 41, 'newsletter': 42, 'revenge': 6455, 'thoughts': 3379, 'links': 43, 'worldly': 44, 'fierce': 655, 'staying': 3380, 'forbids': 3381, 'sports': 6380, 'doctor': 5595, 'earpiece': 45, 'three-man': 46, 'corkscrew': 47, 'len-ny': 3383, 'blissful': 547, 'said': 49, 'mice': 50, 'moesy': 3385, \"takin'\": 548, 'smug': 51, 'easter': 52, 'bagged': 3387, 'irishman': 3388, 'french': 53, 'video': 3389, 'wife-swapping': 3390, 'mudflap': 3391, 'purveyor': 6593, 'kissing': 54, 'phone': 2828, 'space-time': 55, 'exact': 3392, 'genuinely': 56, 'manipulation': 5596, 'washed': 58, 'pickle': 59, 'glorious': 60, 'feminine': 3394, 'clammy': 3395, 'halvsies': 5448, 'urban': 61, 'byrne': 3396, 'plaintive': 62, 'upbeat': 3397, 'shout': 4451, 'impending': 63, 'caper': 6180, 'snake_jailbird:': 3398, 'exited': 5793, 'odor': 64, 'stooges': 3399, 'owe': 65, 'ten': 66, 'date': 67, 'shall': 3403, 'evil': 68, 'dull': 3404, 'arm': 6638, 'movie': 69, \"won't\": 3405, 'bottle': 70, 'breaks': 71, 'tie': 3406, 'renee': 3407, 'mug': 73, 'speaking': 74, 'decent': 75, 'afford': 3360, 'swallowed': 3411, 'depending': 3412, 'cup': 77, 'marched': 1112, 'ratio': 78, 'olive': 6183, 'oh-ho': 2103, 'thanks': 79, 'undies': 3413, 'try': 80, 'button-pusher': 3414, '||quotation_mark||': 81, 'gregor': 3415, 'stiffening': 82, 'pocket': 3416, 'woooooo': 83, 'injury': 84, 'menace': 3417, 'shag': 85, 'finale': 86, 'different': 87, 'pus-bucket': 3418, 'ahead': 88, 'change': 90, 'go-near-': 91, 'england': 92, \"makin'\": 93, 'website': 5603, 'crazy': 17, 'taylor': 94, 'short_man:': 3420, 'fancy': 3421, 'slurps': 95, 'seamstress': 3423, 'oughta': 5904, 'thirty-thousand': 96, 'guys': 5604, 'dea-d-d-dead': 97, 'grin': 3425, 'heroism': 98, 'ridiculous': 99, 'feedbag': 100, 'clenched': 101, 'hibachi': 3426, 'slyly': 102, 'ribbon': 103, 'hostile': 1701, 'cakes': 3427, 'something:': 104, 'freaky': 105, 'oopsie': 3430, 'heliotrope': 3431, 'fledgling': 107, 'moe-ron': 108, 'hydrant': 3433, 'already': 109, 'tab': 1117, 'priority': 3434, 'solely': 3435, 'california': 110, 'debonair': 3436, 'figure': 111, \"i'll\": 3437, 'frescas': 112, 'allowed': 3440, 'mccall': 113, \"cupid's\": 114, 'jar': 3442, 'trench': 3444, 'aziz': 3445, 'suspended': 115, 'oil': 116, 'room': 117, 'proposition': 6188, 'incredulous': 118, 'cobra': 3446, 'seas': 119, 'diet': 120, 'seeing': 3447, 'memory': 6344, 'pee': 121, 'hug': 3448, 'ralph': 122, 'great': 3450, 'alcoholic': 20, 'title': 123, 'indifferent': 124, 'hair': 3452, 'territorial': 5014, 'dictator': 3453, 'flanders': 3454, 'limericks': 22, 'pawed': 128, 'legoland': 129, 'tribute': 130, 'intriguing': 3456, 'usual': 131, 'cerebral': 3457, 'hanging': 132, 'phasing': 133, 'comic_book_guy:': 565, 'he': 135, 'sec_agent_#1:': 136, 'fellas': 137, 'let': 138, 'alien': 139, 'men:': 140, 'tyson/secretariat': 3461, 'lawyer': 567, 'cute': 3462, 'kemi:': 3936, 'koi': 3463, 'refiero': 3464, 'microwave': 3465, 'dice': 141, 'simon': 3466, 'smelling': 142, 'aggie': 143, 'tanking': 1706, 'nectar': 145, 'disturbing': 146, 'b-day': 6196, 'pall': 147, 'muttering': 3468, 'baritone': 3469, 'starve': 572, 'appeals': 148, 'fake': 3470, '70': 149, 'conspiratorial': 3471, 'post-suicide': 6197, 'socialize': 150, 'blinded': 3368, 'flashbacks': 151, 'moonlight': 152, 'cruiser': 3473, \"showin'\": 3474, 'chipper': 574, 'jeter': 3475, 'raging': 153, 'gutenberg': 154, 'bridges': 3477, 'boneheaded': 155, 'outrageous': 3479, 'jer': 3480, 'supply': 3481, 'newsies': 6199, 'snake': 3482, 'happier': 5610, 'medieval': 157, 'fuhgetaboutit': 3484, 'tipsy': 3485, 'tang': 5744, 'insulted': 3486, \"buyin'\": 4408, 'sucking': 3487, 'scornfully': 1122, 'donuts': 158, 'rid': 3489, 'nantucket': 3490, 'sober': 3491, 'isotopes': 3492, 'mild': 3493, 'eighty-seven': 577, '7g': 159, 'explanation': 160, \"'er\": 6483, 'germany': 3495, 'wrestling': 161, 'isle': 6002, 'this:': 6625, 'lincoln': 579, 'actor': 3496, 'divorced': 162, 'repressed': 3497, \"bashir's\": 1593, 'bedbugs': 164, 'flower': 165, 'kisser': 166, 'richer': 167, 'guinea': 3498, \"who'da\": 168, 'dipping': 3500, 'occurred': 3501, 'life-partner': 169, 'girl-bart': 170, 'tells': 3502, 'e-z': 3738, 'believer': 1125, 'conditioning': 3503, 'ordered': 3504, 'tv_daughter:': 3943, 'veteran': 3505, 'thing': 171, 'yo': 3507, 'sanitation': 172, 'reality': 173, 'soir': 5695, 'annus': 3509, 'losing': 174, 'insecure': 1294, 'overturned': 3511, 'thirty': 175, 'neighborhood': 176, 'write': 5644, 'pack': 177, 'sympathy': 3512, 'theatrical': 3513, 'difficult': 3515, \"goin'\": 3064, 'hafta': 3516, 'risquã©': 3517, 'rekindle': 3373, 'sweetheart': 178, 'level': 5024, 'dejected_barfly:': 179, 'found': 6201, 'bowling': 180, 'gee': 3519, 'slaves': 1614, 'finish': 6202, 'mr': 5025, 'placing': 3520, 'heartless': 181, 'smile': 3521, '1-800-555-hugs': 3522, 'midge:': 182, 'everything': 183, 'brag': 3523, 'jackpot-thief': 3524, 'lighter': 2472, 'bright': 184, 'holy': 3525, 'bread': 185, 'reckless': 3526, 'roz:': 186, 'bulletin': 187, 'last': 3527, 'permitting': 5796, 'stu': 189, 'bartenders': 5029, 'meyerhof': 3528, 'eminence': 3529, 'provide': 190, 'sing': 191, 'monster': 193, 'sweden': 3530, 'eight': 3531, 'dropping': 195, 'cupid': 196, '_eugene_blatz:': 3533, 'emotional': 197, 'page': 587, 'living': 199, 'little': 3534, 'eww': 6066, 'sideshow_mel:': 200, 'painting': 1713, 'smiles': 202, 'starving': 203, 'beady': 3535, 'artie_ziff:': 204, 'bad-mouth': 3536, 'november': 3537, 'snackie': 3539, 'mines': 5622, 'force': 3540, 'padre': 3541, 'rest': 3542, 'faces': 5623, 'voyager': 3543, 'device': 3544, 'mini-beret': 3546, 'kentucky': 205, 'chuckling': 3547, 'coyly': 3548, 'male_inspector:': 3549, 'weeks': 3550, 'enter': 3551, 'oils': 207, 'taste': 3553, 'warm_female_voice:': 6422, 'single': 208, 'manjula_nahasapeemapetilon:': 209, 'people': 3554, 'laugh': 6623, 'wieners': 210, 'sweetest': 3555, 'eve': 3556, 'bigger': 3557, 'dog': 2259, 'gumbel': 211, 'country-fried': 212, 'lucky': 3558, 'office': 213, 'un-sults': 214, 'lifestyle': 3559, 'amused': 1719, 'red': 215, 'ice': 216, \"we're\": 217, 'put': 6410, 'stamp': 3563, 'six-barrel': 218, 'seen': 3564, 'first': 220, 'dallas': 3565, \"weren't\": 221, 'yea': 223, 'humiliation': 225, 'audience': 3567, 'reunion': 226, 'title:': 3568, 'stole': 3569, 'mop': 227, 'ronstadt': 3570, \"gentleman's\": 228, \"dyin'\": 5630, \"others'\": 3571, 'cheat': 3572, 'liver': 3573, 'awwww': 229, 'pronounce': 230, 'fonda': 3575, 'eurotrash': 231, 'heather': 3578, 'life:': 3579, 'caricature': 232, 'bounced': 3580, 'distaste': 3581, 'noooooooooo': 3582, 'ahem': 233, 'encores': 3584, 'orgasmville': 3585, 'ashamed': 3586, 'virtual': 3587, 'abusive': 234, 'hops': 235, 'multi-national': 236, 'file': 4153, \"floatin'\": 237, 'gargoyle': 238, 'midge': 239, 'e': 240, 'gas': 3591, 'superdad': 5924, 'hammer': 5634, 'whoa-ho': 1134, 'all-all-all': 241, 'sent': 242, 'tommy': 243, 'badmouth': 244, 'zone': 3593, 'crushed': 3594, 'horror': 245, 'yellow-belly': 246, \"poundin'\": 3595, 'minors': 3597, \"callin'\": 3598, 'ruined': 4483, 'spit-backs': 247, 'statue': 248, 'disposal': 3599, 'bathed': 249, 'terrific': 250, 'pays': 251, 'night': 252, 'darn': 253, 'scout': 256, \"santa's\": 257, 'p-k': 3602, 'thighs': 3382, 'hustle': 258, 'notice': 5638, 'humanity': 259, 'soul': 260, 'retain': 6295, 'rock': 3603, 'aer': 3604, 'aerosmith': 48, 'lear': 3606, 'bleak': 261, 'spotting': 3607, 'danish': 262, 'stretch': 3608, 'bookie': 3609, 'toys': 263, 'swimmers': 264, 'deliberately': 265, 'court': 3610, 'sense': 267, 'gone': 268, 'minimum': 269, 'piling': 3611, 'boo': 270, 'manatee': 3612, 'and:': 3613, 'lowest': 3614, 'mimes': 271, 'everywhere': 6050, 'evergreen': 272, 'impressed': 3615, 'afterglow': 5042, 'homer_': 3618, 'safer': 273, 'enveloped': 3619, 'k-zug': 5043, 'smugglers': 3620, 'albert': 274, 'felony': 3622, 'bring': 600, 'belly': 275, 'contractors': 3623, \"gettin'\": 3624, 'fantastic': 3627, 'accurate': 3626, 'owes': 276, 'salvador': 3628, 'neither': 3629, 'beer-dorf': 3630, '||right_parentheses||': 277, 'for': 278, 'slaps': 3631, 'fat_in_the_hat:': 1250, \"what's\": 279, 'respect': 280, 'busiest': 1143, 'painted': 281, 'soup': 282, 'parents': 283, 'vehicle': 3633, 'clips': 3634, 'send': 284, 'gruesome': 285, \"wife's\": 286, 'punk': 3635, 'loved': 287, 'disgusted': 3637, 'patented': 1146, 'sister': 3441, 'i': 3638, 'anxious': 288, 'rainier_wolfcastle:': 3639, 'coined': 289, 'theatah': 3640, 'f-l-a-n-r-d-s': 290, 'snort': 291, 'jig': 3641, 'cheated': 3642, 'wayne:': 3643, \"mtv's\": 293, 'father': 3645, \"ladies'\": 3646, 'nelson': 3647, 'carl:': 3648, 'hawaii': 3649, 'spews': 5411, 'fireworks': 6224, 'fausto': 3650, 'mull': 295, 'bachelor': 296, 'insist': 3651, 'yourse': 3652, 'falcons': 3655, 'company': 3654, 'crowbar': 299, 'forty-two': 3656, 'specials': 6595, 'most:': 3657, 'test-': 300, 'game': 433, 'tell': 5064, 'linda': 3658, 'forecast': 301, 'ladies': 3660, 'flames': 302, 'mistake': 3661, 'fuss': 3662, 'recipe': 3663, \"something's\": 1733, 'voicemail': 304, 'here-here-here': 3664, 'brightening': 305, 'called': 3665, 'mustard': 3666, 'juice': 306, 'declan': 307, 'points': 3668, 'trees': 3669, 'joint': 3670, 'softer': 5764, 'vestigial': 3671, 'slobs': 3672, \"comin'\": 308, 'sleigh-horses': 3675, 'stomach': 6046, 'missed': 6039, 'wikipedia': 310, 'snotball': 311, 'chauffeur:': 3676, 'son-of-a': 312, 'syrup': 314, 'nurse': 316, 'popping': 5650, 'stick': 317, \"stabbin'\": 5055, 'placed': 3677, 'pas': 57, 'dean': 3678, 'customers': 3679, 'chilly': 4701, 'forced': 3680, 'hero': 318, 'swigmore': 319, 'inclination': 3681, 'sniper': 5438, 'porn': 320, 'satisfaction': 6230, 'novelty': 3682, '_zander:': 785, 'step': 3683, 'rugged': 321, 'furiously': 322, 'portentous': 323, \"yesterday's\": 324, 'effect': 325, 'kahlua': 3686, 'glad': 3687, 'ma': 3688, 'ali': 3689, 'perfect': 326, 'coupon': 327, 'king': 328, 'nap': 608, 'dumpster': 5059, 'presents': 6227, 'obsessive-compulsive': 329, 'bite': 3690, 'sitting': 3393, 'michelin': 330, 'past': 3691, 'wrap': 3692, 'cushion': 3693, 'united': 331, 'ivory': 332, 'selfish': 3696, 'roller': 3697, 'diapers': 3698, 'items': 333, 'wiggum': 334, 'sponsoring': 3701, 'license': 3702, 'drift': 3703, 'spouses': 5061, 'burt_reynolds:': 3704, \"buffalo's\": 3705, 'handsome': 3707, 'heh': 6235, 'tar-paper': 3708, 'sassy': 3710, 'think': 335, 'delicious': 336, 'everybody': 1161, 'hat': 3712, 'warned': 3713, 'yee-haw': 2280, 'weekend': 3714, 'mabel': 337, 'waitress': 3717, 'honored': 338, 'ape-like': 339, \"patrick's\": 3718, 'wizard': 3719, 'crummy': 340, 'wasting': 341, 'friendship': 342, 'dã¼ff': 6238, 'heard': 343, 'polenta': 3720, 'fink': 3721, 'dumbass': 344, 'loaded': 3722, 'occupation': 6240, 'funeral': 345, 'occupied': 346, 'dollface': 3724, 'youse': 3725, 'thank': 347, 'ugly': 348, 'firing': 3726, 'skills': 349, 'started': 3727, 'henry': 350, 'hundreds': 351, 'reach': 3729, 'renders': 3730, 'fun': 352, 'whatever': 3731, \"nick's\": 1163, 'society_matron:': 353, 'thunder': 3733, 'god': 3734, 'rotten': 354, 'barstools': 355, 'meeting': 356, 'lipo': 358, 'enlightened': 361, 'roses': 359, 'dear': 360, 'beans': 362, 'bank': 3737, 'close': 1744, 'passports': 365, 'flash-fry': 3739, 'dennis_conroy:': 3400, 'uses': 366, 'voted': 5659, 'call': 6388, 'it': 3741, 'dancing': 3401, 'celebrity': 367, 'spending': 368, 'playing': 369, 'luckily': 3743, 'conditioners': 3744, 'bonding': 370, 'lisa_simpson:': 2670, 'freshened': 3745, 'exploiter': 371, 'process': 5686, 'reminded': 373, '||left_parentheses||': 374, 'minus': 376, 'cap': 377, 'struggling': 3748, 'shred': 378, 'delighted': 3750, 'hitler': 3751, 'part-time': 3752, \"lenny's\": 379, 'spreads': 380, 'frankenstein': 3976, 'fresh': 381, 'mad': 382, 'hours': 3753, 'puff': 3754, 'burt': 3757, 'proudly': 5660, 'throwing': 2867, 'bubbles-in-my-nose-y': 383, 'hottest': 6205, 'paper': 384, 'a-b-': 616, 'shutup': 385, 'telegraph': 3759, 'disguised': 386, 'citizens': 387, 'name': 3977, 'endorsed': 389, 'usually': 3761, 'especially': 390, 'booth': 392, 'neighbors': 393, 'grab': 394, 'sealed': 3625, 'drank': 396, 'gentle': 397, 'bumpy-like': 398, 'carl_carlson:': 399, 'ninth': 3766, 'all-american': 1720, 'gargoyles': 3767, 'itself': 3768, 'inspiring': 5527, 'doors': 5784, 'microphone': 6210, 'moonshine': 400, 'colonel:': 401, 'fast-paced': 3769, 'boxers': 3770, 'ooh': 6493, 'was': 5069, 'cotton': 402, 'gus': 403, 'professor': 404, 'crack': 405, 'belt': 406, 'hang': 407, \"wino's\": 3773, 'countryman': 408, 'proves': 3774, 'bears': 3775, 'burp': 409, 'gum': 3776, 'jerking': 1753, 'weep': 4508, 'ratted': 410, 'half': 3980, 'goldarnit': 3777, 'drummer': 3778, 'wisconsin': 3779, 'widow': 3982, 'decide:': 411, 'shoulda': 412, 'fault': 3782, 'surgeonnn': 2011, 'gibson': 3783, '_timothy_lovejoy:': 413, 'die': 3784, 'slight': 5808, 'edge': 6243, 'presided': 414, 'these': 3785, 'absolutely': 6244, 'developed': 3786, 'things': 72, 'learn': 3787, 'holding': 3408, 'intense': 415, 'ton': 3789, 'thoughtless': 416, 'chocolate': 417, 'scully': 3791, 'complaining': 621, 'picked': 3792, 'reactions': 418, 'checking': 3794, 'dinner': 419, 'twenty-four': 1168, 'committee': 420, 'rough': 3796, 'no': 3409, 'taught': 3797, 'tow': 6087, 'anywhere': 421, 'lizard': 423, 'interested': 3798, 'peeved': 3799, 'massive': 427, 'bills': 428, 'agree': 3801, 'sentimonies': 3802, 'puffy': 3803, 'crapmore': 5627, 'stan': 3804, \"everyone's\": 3805, 'easier': 76, 'wheeeee': 3806, 'hats': 2874, 'brewed': 3807, \"crawlin'\": 3808, 'compared': 5668, 'calmly': 429, 'ad': 430, \"can't\": 431, 'resigned': 432, 'whaaaa': 434, 'good': 3810, 'screw': 3811, 'pigtown': 4514, 'taps': 3812, 'cent': 435, 'sang': 3814, 'scary': 3815, 'gore': 436, 'hammy': 1946, 'planned': 437, 'soaps': 438, 'pull': 5673, 'contemplated': 3816, 'wear': 3817, 'crowded': 627, \"'til\": 3818, 'total': 6733, 'vulnerable': 3819, 'hoping': 628, 'round': 3820, 'noise': 6494, 'coach:': 439, '3rd_voice:': 3821, 'napkins': 440, 'blurbs': 3822, 'bon': 3823, 'confidential': 442, 'other_book_club_member:': 3824, 'administration': 3825, 'old': 443, 'drivers': 5145, 'inning': 3826, 'pepsi': 6488, 'realized': 3827, 'orders': 444, 'direction': 445, 'marge': 3990, 'whim': 6249, \"hawkin'\": 447, 'rule': 448, 'their': 449, 'scratcher': 450, 'patron_#1:': 3829, 'innocent': 453, 'moon': 3830, 'beanbag': 630, 'empty': 454, 'stagey': 3831, 'tubman': 3832, 'watered-down': 3833, 'nickels': 455, 'ihop': 456, 'extended': 3834, 'child': 6237, 'crayola': 457, 'strain': 3836, 'prolonged': 3837, 'louisiana': 3838, 'renew': 458, 'diddilies': 459, 'tv_father:': 3840, 'caught': 3841, 'strips': 460, 'tonic': 3842, 'numbers': 3843, 'issuing': 461, 'dame': 3844, 'twentieth': 5079, 'alright': 462, 'ziffcorp': 1520, \"'pu\": 463, 'song': 3846, 'imaginary': 464, \"couldn't\": 6162, 'jackson': 5948, \"ridin'\": 465, \"'evening\": 467, 'batmobile': 3847, 'renovations': 468, 'unlucky': 3848, 'disgrace': 5680, 'average-looking': 3850, 'hosting': 3851, \"'now\": 469, 'poulet': 470, 'assassination': 5681, \"soakin's\": 471, \"larry's\": 472, 'ivanna': 473, 'chuckles': 3852, 'compressions': 3853, 'sleeps': 474, 'installed': 3854, 'rub': 475, 'sigh': 476, 'glamour': 3856, 'correction': 3857, 'cleaning': 3858, 'sales': 3859, 'crew': 3860, 'extract': 89, 'micronesian': 477, 'scruffy_blogger:': 478, 'junebug': 479, 'bedridden': 480, 'although': 3863, 'come': 3864, 'dammit': 481, 'absorbent': 482, 'wishes': 5750, 'rapidly': 636, 'certificate': 6236, 'gig': 4640, 'inside': 483, 'carll': 3866, 'like': 3867, 'massage': 484, 'evils': 3868, 'cajun': 3869, 'neanderthal': 485, 'pal': 486, 'patty': 488, 'waterfront': 490, 'canyonero': 491, 'background': 493, 'drinking': 3871, 'they': 495, 'product': 496, 'rector': 3872, 'startup': 5988, 'sixteen': 497, 'junkyard': 498, 'sue': 499, 'wishing': 5521, 'wars': 3873, 'sadistic_barfly:': 5220, 'reads': 500, 'duty': 3419, 'longest': 503, 'bannister': 3874, 'never': 504, 'somehow': 3875, \"thing's\": 3876, 'shtick': 5085, 'lumpa': 4772, 'friction': 506, 'nervous': 3877, 'branding': 3878, 'rumaki': 508, 'coms': 3879, 'dreamed': 509, 'booze-bags': 510, 'truth': 511, 'moe-lennium': 5086, 'negative': 512, 'intervention': 513, 'a-a-b-b-a': 2888, \"games'd\": 3880, 'bartending': 3881, 'dignity': 3882, 'innocuous': 514, 'creepy': 515, 'burning': 516, 'stools': 3884, 'soothing': 3886, 'divine': 517, 'fifty': 3887, \"c'mom\": 3888, 'looking': 518, 'fistiana': 3889, 'key': 3890, 'stupid': 6257, 'hemorrhage-amundo': 3891, 'omit': 2306, 'cheer': 520, 'airport': 3892, 'crisis': 3893, 'consoling': 3894, 'badmouths': 521, 'pleasure': 522, 'feat': 3895, 'farthest': 523, 'wild': 3896, 'teacup': 3897, 'known': 524, 'sunk': 525, 'protecting': 526, 'foundation': 3899, 'george': 528, 'bee': 3422, 'limber': 529, 'pulled': 530, 'remodel': 3900, 'elaborate': 531, 'despite': 3901, \"doin'\": 3902, 'barbara': 532, 'johnny': 3903, 'mid-seventies': 3904, 'chips': 533, 'today': 3906, 'th-th-th-the': 3907, 'securities': 5687, 'project': 3909, 'fury': 3910, 'carlson': 534, 'grey': 3911, 'starters': 3912, 'reserved': 4529, 'surprising': 535, 'espn': 3914, 'homeland': 3916, 'quick': 3917, 'hope': 536, 'cell': 3918, 'football': 537, 'blessing': 538, 'sadder': 3424, 'sees/': 539, 'industry': 3919, 'late': 641, 'literary': 541, 'wasted': 4530, 'modestly': 3920, 'woman:': 542, 'measure': 543, 'hey': 3921, 'supervising': 544, 'dumb': 3922, 'jacksons': 3923, 'breakfast': 1181, 'polishing': 545, 'impatient': 3924, 'shill': 546, 'plucked': 3926, 'hunka': 3927, 'tourist': 549, 'charlie': 550, 'margarita': 1183, 'displeased': 552, 'sister-in-law': 4004, 'test': 553, 'addiction': 554, 'parked': 3929, \"kearney's_dad:\": 5691, 'investor': 5095, 'forgot': 1184, 'thrilled': 555, 'stillwater:': 556, 'ventriloquism': 3930, 'seminar': 3931, 'laid': 557, 'williams': 558, 'unhappy': 559, 'stands': 4537, 'harvard': 560, 'clown-like': 3933, 'assent': 3934, 'whaaa': 561, 'donate': 3428, 'shelf': 562, 'africa': 563, 'housework': 5967, 'instrument': 564, 'princess': 566, \"tv'll\": 4007, 'klingon': 3935, 'nearly': 569, 'priest': 571, 'girl': 570, 'texas': 3937, 'shaky': 3938, 'stool': 3939, 'air': 573, 'tease': 3941, 'brow': 3942, 'pressure': 575, 'face': 576, 'accent': 578, 'strongly': 580, 'held': 3944, 'pained': 582, 'tv': 583, 'homer_doubles:': 584, 'melodramatic': 5697, 'darkness': 6688, 'chinese': 585, 'louie:': 586, 'passion': 3945, 'womb': 588, 'duke': 589, 'bob': 5698, 'mock': 590, 'flailing': 6271, 'billiard': 3699, 'grimly': 3947, 'option': 591, 'schemes': 5700, 'contact': 3948, 'president': 592, 'much': 5242, 'possibly': 593, 'drag': 3949, 'benefits': 3950, \"hobo's\": 594, 'x-men': 5101, \"he's\": 4762, 'feels': 3952, \"they'll\": 3953, 'stripe': 106, 'cousin': 6616, 'murdered': 3954, 'day': 3955, 'skoal': 595, 'plum': 596, 'glum': 597, 'starla': 3956, 'conference': 598, 'grrrreetings': 599, 'shoo': 3957, 'haircuts': 601, 'teeth': 5703, 'concentrate': 3958, 'fuzzlepitch': 602, 'sooner': 603, 'anguished': 3959, 'pour': 3960, \"seein'\": 604, 'choices': 3961, 'musses': 1661, 'sucks': 5304, 'reaching': 605, 'favor': 3962, 'fumes': 606, 'delightfully': 3963, 'cough': 607, 'slab': 3964, 'herself': 6273, 'envy-tations': 611, 'public': 610, 'pissed': 3965, \"elmo's\": 5119, 'add': 3966, 'idea': 3967, 'through': 6274, 'lucinda': 612, 'smell': 3969, 'quickly': 613, 'met': 2322, 'gotta': 3970, 'forget-me-shot': 3971, \"watchin'\": 3972, 'war': 3973, 'attack': 614, 'getting': 3974, 'showered': 3975, 'those': 615, 'enthusiastically': 3438, 'appointment': 3978, 'fluoroscope': 1195, \"mecca's\": 617, 'academy': 2325, 'hook': 618, 'unfortunately': 3979, 'male_singers:': 3984, 'appendectomy': 3981, 'wooooo': 3983, 'forty-seven': 620, 'books': 622, 'strap': 623, 'wolveriskey': 624, 'eaten': 625, 'billboard': 626, 'mcbain': 3985, 'versus': 3986, 'nonchalant': 3987, 'mommy': 629, 'laney': 3989, 'sincere': 3991, 'sesame': 1924, 'brooklyn': 632, 'john': 631, 'life-extension': 5708, 'hans:': 3992, 'dying': 3993, 'jacques:': 3994, 'holidays': 6385, 'vegas': 3995, 'favorite': 633, 'o': 1757, 'unavailable': 634, 'alive': 635, 'thanksgiving': 3996, 'whup': 637, 'cozy': 6735, 'devastated': 3997, 'para': 3998, 'wuss': 5108, 'two': 638, 'rolled': 6763, 'affection': 639, 'giving': 640, 'gently': 4001, 'dinks': 4002, 'burg': 642, 'heading': 1789, 'knows': 643, 'listening': 4005, 'kinds': 4006, 'beginning': 644, 'feminist': 645, 'subscriptions': 647, 'valley': 648, 'cobbling': 649, 'aid': 650, 'noggin': 651, '8': 3169, 'acronyms': 652, 'slender': 4008, 'reporter:': 653, 'spiritual': 4009, '7-year-old_brockman:': 4010, 'replaced': 6282, 'xanders': 654, 'understood': 4011, 'mckinley': 4012, 'counting': 4013, 'occasion': 4014, 'majesty': 5715, 'jobs': 4546, 'most': 656, 'plug': 6561, \"donatin'\": 5714, 'car': 657, 'nauseous': 5115, 'breath': 4015, 'tomato': 4016, \"usin'\": 658, \"challengin'\": 4017, 'boxer:': 4018, 'thinking': 659, 'politician': 4019, 'arse': 660, 'tabs': 661, 'wh': 662, 'name:': 663, \"life's\": 664, 'bumbling': 665, 'appearance-altering': 666, 'argue': 4020, 'pep': 4022, 'dryer': 4023, 'blobbo': 667, \"scammin'\": 668, 'dawning': 669, 'rope': 670, 'mushy': 671, 'mixed': 6233, 'fiction': 4029, 'register': 4030, 'history': 672, 'criminal': 4031, 'crank': 673, 'tester': 674, 'ironed': 675, 'form': 677, 'reached': 678, \"nothin'\": 5122, 'mellow': 679, 'grumbling': 680, 'incredible': 681, 'violin': 4033, 'gonna': 4034, 'elizabeth': 4035, 'gives': 4036, 'committing': 4037, 'hungry': 683, 'mitts': 4038, '_hooper:': 4039, 'director:': 684, 'arise': 3449, 'salvation': 6639, 'make': 685, 'story': 6284, 'friday': 4041, 'lib': 686, 'shareholder': 4042, \"'roids\": 3451, 'needs': 687, 'treehouse': 4045, 'selling': 4046, 'prettied': 688, 'sarcastic': 4047, \"springfield's\": 4048, 'judgments': 4049, 'darjeeling': 4050, 'mulder': 689, 'eyesore': 125, 'faulkner': 4051, 'bam': 4052, 'dashes': 4021, 'toss': 4053, 'tanked-up': 690, 'hugh:': 691, 'guns': 4055, 'cow': 692, 'clapping': 5125, 'steampunk': 4025, 'capitol': 694, 'hideous': 695, 'troubles': 4024, 'aside': 4058, 'fireball': 696, 'tin': 1800, 'monroe': 4059, 'chest': 3706, 'naively': 4061, 'species': 1210, 'celeste': 4062, 'switched': 3455, 'peter_buck:': 4063, 'marguerite:': 700, 'bees': 4064, 'seven': 2309, 'cheap': 701, 'gentlemen': 703, 'poetry': 4065, 'statues': 704, 'h': 706, 'natural': 707, \"how'd\": 4026, 'the_edge:': 709, 'nos': 6469, 'official': 4066, 'creeps': 710, 'boxing_announcer:': 4067, 'poin-dexterous': 4068, 'reciting': 711, 'gimmicks': 712, 'lone': 713, 'charge': 714, 'including': 4027, 'premiering': 715, 'born': 716, \"brockman's\": 4069, 'adult_bart:': 717, 'burnside': 4070, 'youuu': 4071, 'determined': 718, 'law': 4073, 'paint': 4074, 'presentable': 5730, 'cuckoo': 4075, 'beyond': 722, 'boyhood': 723, 'lifts': 5128, 'eightball': 724, 'pushing': 725, \"smokin'_joe_frazier:\": 727, 'darkest': 728, 'mm-hmm': 4076, 'chic': 729, 'presto:': 4077, 'chin': 4078, 'offended': 5606, 'normal': 4079, 'cats': 4080, 'adventure': 730, \"money's\": 731, 'leak': 4032, 'pews': 732, 'technical': 733, 'offense': 734, 'wins': 4081, 'w': 6065, 'st': 4082, '||semicolon||': 735, 'theater': 736, \"eatin'\": 4084, 'verticality': 134, 'powered': 676, 'cowardly': 737, 'hospital': 4085, 'updated': 738, 'rhode': 4086, 'congratulations': 6293, 'invite': 739, 'enough': 4088, 'sits': 740, 'play/': 741, 'fumigated': 4089, 'online': 742, 'oh': 3458, 'savagely': 5726, 'macho': 4091, 'saving': 743, 'u2:': 744, 'my': 4092, 'sorts': 4093, 'lloyd': 745, 'cheryl': 746, 'inspired': 4094, 'brown': 747, 'eleven': 4095, 'sighs': 748, 'drapes': 4096, \"hadn't\": 4097, 'disappeared': 749, 'however': 4099, 'cooler': 4100, 'self-made': 4101, 'lovers': 4102, 'crossed': 2345, 'idiots': 4103, 'freedom': 750, 'bit': 5856, 'tearfully': 4104, 'bart_simpson:': 5736, '2': 5566, 'pool': 751, \"doesn't\": 752, 'kool': 4105, 'shrugs': 4106, 'mall': 4107, 'lainie:': 4108, 'ought': 753, 'shard': 4109, 'designer': 756, 'y': 4111, 'guard': 4112, 'hour': 1219, 'disgraceful': 757, 'lifetime': 6285, 'certain': 4113, 'played': 4114, 'simple': 4115, 'tomahto': 3459, 'point': 2933, 'spinning': 3443, 'then': 3460, 'event': 758, 'detective_homer_simpson:': 4116, 'toledo': 682, 'earth': 759, 'loneliness': 5385, 'compete': 760, 'familiar': 761, 'libraries': 762, 'dressing': 4117, 'hooch': 4118, 'civic': 763, 'pepper': 764, 'lot': 765, 'miserable': 4119, 'wanna': 766, 'distract': 767, 'politics': 4120, 'lurks': 4125, 'blamed': 4122, 'malabar': 4123, 'accusing': 4124, 'healthier': 5742, 'skydiving': 4126, 'joey_kramer:': 4127, 'sneak': 769, 'crowd': 770, 'snitch': 4128, \"'tis\": 771, 'vengeful': 772, 'lily-pond': 774, 'happen': 4129, 'accelerating': 6268, 'maximum': 4130, 'snail': 1224, 'pen': 776, 'per': 777, 'judge': 778, \"listenin'\": 4133, 'beast': 4134, 'doreen:': 4135, 'toasting': 4136, 'candy': 4138, 'firmly': 780, \"sittin'\": 782, 'fills': 783, 'motor': 4139, 'forget-me-drinks': 4140, 'skinheads': 4141, 'madman': 4040, 'chow': 4142, 'wiggle': 786, 'higher': 787, 'son': 788, 'stinger': 789, 'derek': 4144, 'cheery': 781, 'drinks': 4145, 'doug:': 790, 'hall': 126, 'confession': 144, 'ease': 4146, 'tokens': 792, 'unhook': 793, 'whatchacallit': 794, 'someone': 4147, \"homer'll\": 5141, \"daughter's\": 4150, 'orifice': 5378, 'reed': 795, 'privacy': 4151, 'window': 797, 'market': 4152, 'hmf': 798, \"it'd\": 5143, 'ready': 799, 'goo': 800, 'shortcomings': 4154, 'speak': 1228, 'andalay': 801, 'fan': 802, 'greetings': 803, \"city's\": 3467, 'young': 4044, 'poorer': 804, 'bupkus': 4156, \"brady's\": 4158, 'left': 805, \"that'll\": 806, 'ã': 807, 'would': 5819, 'believe': 4159, 'perverted': 4160, 'junior': 1230, 'blame': 4493, \"someone's\": 808, 'tomorrow': 809, 'gossipy': 4161, 'two-thirds-empty': 811, 'tonight': 5749, 'milhouses': 812, \"what're\": 4162, 'kennedy': 813, 'sweaty': 3601, 'mumble': 814, \"kids'\": 815, 'capitalists': 5982, 'togetherness': 4164, 'hurts': 4165, 'safety': 4166, 'rhyme': 4003, 'churchy': 6622, 'chug-a-lug': 816, 'hiya': 817, 'lay': 818, 'bold': 6311, 'shaker': 819, 'barney-type': 820, 'nitwit': 4168, 'remorseful': 4169, 'gluten': 4170, 'defected': 4171, 'unexplained': 821, \"family's\": 6313, 'championship': 4172, 'socratic': 822, 'true': 4173, 'mocking': 823, 'life-sized': 824, 'peppy': 825, 'treat': 4174, 'clean': 4175, 'crestfallen': 826, 'pause': 1233, 'bald': 4176, 'anybody': 827, 'hockey-fight': 4177, 'nods': 828, 'poison': 829, 'semi-imported': 5151, \"cheerin'\": 4178, 'manchego': 830, 'beefs': 831, 'hah': 4179, 'remembering': 832, 'dirty': 4180, 'payday': 833, 'drawer': 3472, 'leave': 4181, 'regulations': 4182, 'chubby': 834, 'degradation': 4183, 'cockroaches': 4184, 'sponge:': 4185, 'morning-after': 4186, 'suspicious': 4187, 'incapable': 4188, 'delts': 4189, 'moon-bounce': 1814, 'talked': 835, 'kissingher': 4190, 'gamble': 4191, 'will': 836, 'rickles': 4193, 'pantry': 4194, 'guessing': 837, 'adopted': 1639, 'dads': 838, 'lee': 4195, 'saw': 839, 'nine': 840, 'tale': 3476, 'ehhhhhhhhh': 4196, 'clams': 3583, 'camp': 841, 'manage': 843, 'transfer': 4197, 'random': 846, 'pets': 845, 'very': 4198, 'media': 4199, 'real': 4200, 'cans': 4054, 'sweetie': 4577, 'scoffs': 848, 'gallon': 850, 'european': 851, 'dump': 4201, 'rash': 852, 'stones': 4202, 'upsetting': 4205, 'jubilation': 4204, 'barely': 4206, 'lights': 4208, 'chastity': 4209, 'enforced': 3478, \"poisonin'\": 853, 'annoying': 854, 'lard': 855, 'super-genius': 6714, 'frightened': 1114, 'funds': 693, 'honor': 856, 'neil_gaiman:': 5155, 'load': 857, 'fbi': 4211, 'perking': 858, 'thanking': 4212, 'signal': 4213, 'ruled': 4216, 'insured': 4217, 'check': 859, 'comedy': 860, 'dance': 4218, 'all-star': 4219, 'betty:': 156, 'throats': 4220, 'drop-off': 861, 'chateau': 863, 'stats': 864, 'rockers': 4221, 'foibles': 6530, 'pursue': 866, 'makes': 867, 'talkative': 1412, 'joking': 4222, 'leno': 6168, \"man's_voice:\": 4223, 'affects': 869, 'doooown': 870, 'bellyaching': 4224, 'accepting': 871, 'invisible': 4225, 'profiling': 4226, 'suing': 3483, 'nerd': 6297, 'shot': 872, 'disappointed': 873, 'ballot': 4227, 'commit': 4228, \"you'd\": 4229, 'puzzle': 874, 'tree': 875, 'blown': 878, 'maman': 879, 'fix': 880, 'mister': 881, 'interrupting': 5763, 'only': 882, 'jerry': 883, 'must': 4231, 'chunk': 884, 'remains': 4232, 'whatcha': 4233, 'sings': 885, 'north': 4234, 'enhance': 886, 'complicated': 1239, 'popular': 4236, \"tester's\": 4237, 'yap': 887, 'bell': 697, 'sack': 888, 'talk-sings': 889, \"year's\": 4238, 'charm': 890, 'planted': 892, 'aerospace': 5158, 'does': 5765, 'wiggle-frowns': 893, 'cents': 3488, 'audience:': 4241, 'incarcerated': 4240, 'entrance': 1240, 'maybe': 894, 'briefly': 4242, 'alibi': 1242, 'typing': 895, 'dropped': 896, 'mexicans': 4243, 'conclusions': 897, 'self-satisfied': 3429, 'stripes': 898, 'haws': 899, 'uhhhh': 2424, 'dash': 900, 'manfred': 4245, \"liftin'\": 902, 'be-stainã¨d': 3494, 'disappointing': 903, 'swamp': 4060, \"who'll\": 5392, 'flayvin': 4247, 'muhammad': 4248, 'papa': 904, 'bathroom': 698, 'goods': 905, 'bid': 4249, 'whaddya': 906, 'laney_fontaine:': 907, 'could': 4250, 'sells': 6321, 'princesses': 4251, 'microbrew': 5678, 'inanely': 4253, 'spamming': 5950, \"tonight's\": 908, 'mathis': 909, 'blackjack': 911, 'splattered': 4254, 'queer': 912, 'knuckles': 4595, 'helpful': 5159, 'monday': 913, 'drove': 915, 'box': 4256, 'letters': 917, 'obese': 918, 'robot': 4257, 'intakes': 1826, 'moe-heads': 4258, 'approval': 4259, 'mugs': 4260, 'plywood': 4261, 'here': 4262, 'cockroach': 4263, \"mcstagger's\": 919, 'reptile': 1872, 'woulda': 920, 'louder': 4264, 'jack': 6305, 'engraved': 4265, 'pageant': 921, 'pridesters:': 5160, 'cream': 4750, 'fudd': 922, 'barney-shaped_form:': 1251, 'fine': 705, \"fun's\": 4267, 'connor-politan': 708, 'assert': 926, \"fightin'\": 925, 'beauty': 4268, 'wait': 4269, 'daaaaad': 927, 'dude': 4270, 'cheers': 928, 'bottomless': 1255, 'suds': 929, 'modern': 930, 'both': 931, 'operation': 4271, 'repairman': 933, 'baby': 934, 'tape': 4272, 'tapered': 936, 'against': 937, 'beached': 6326, 'making': 938, 'souped': 939, 'femininity': 4275, 'lou:': 940, 'composer': 4277, '/mr': 4278, 'beaumarchais': 4279, 'ah-ha': 4601, 'wearing': 943, 'sticking': 4280, 'chug': 944, 'is': 4281, 'hounds': 946, \"we'll\": 163, 'noticing': 947, 'cleveland': 948, 'terrified': 4283, 'metal': 949, 'perã³n': 4284, 'life': 4285, 'invented': 950, 'well-wisher': 4286, 'legs': 4287, 'patting': 4288, 'see': 3946, 'play': 5166, 'touchdown': 4289, 'lurleen_lumpkin:': 953, 'super': 4758, 'craphole': 4290, 'aisle': 954, 'than': 4291, 'gil_gunderson:': 957, 'hemoglobin': 958, 'easy-going': 4292, 'mailbox': 721, 'fat_tony:': 4293, 'chauffeur': 959, 'referee': 961, \"sayin'\": 963, \"stayin'\": 4294, 'squirrel': 4295, 'bachelorhood': 3499, 'sanctuary': 4296, 'forgotten': 4297, \"can'tcha\": 966, 'chunky': 5780, 'homunculus': 1310, 'grampa': 6541, 'tiny': 968, 'wide': 969, 'curse': 970, 'error': 972, 'crowds': 4298, 'nightmare': 4299, 'acquaintance': 973, 'pirate': 4300, 'employment': 4301, 'babar': 5169, 'pointing': 975, 'happens': 5781, 'golden': 4303, 'maya': 4304, 'fold': 5170, 'plastered': 4306, '||period||': 720, 'twelveball': 978, 'welcome': 3932, 'answers': 4307, 'mamma': 4308, 'behind': 979, 'depressant': 980, 'therapist': 981, 'beers': 982, 'ceremony': 6337, 'outs': 983, 'hillary': 984, 'deals': 985, 'zeal': 986, 'weird': 987, 'involving': 2387, 'catch-phrase': 4310, 'teddy': 6339, 'ya': 4311, '_marvin_monroe:': 4312, 'mona_simpson:': 988, 'viva': 4313, 'built': 990, 'plans': 991, 'frink-y': 5968, 'reader': 4314, 'wiener': 992, 'rap': 4315, 'tee': 993, 'almost': 4316, 'grandã©': 995, 'engine': 4317, 'coy': 6611, 'tragedy': 3600, 'early': 4318, 'locked': 5174, 'kent_brockman:': 4319, 'perplexed': 997, 'tax': 998, 'nerve': 726, 'squirrels': 2977, 'yello': 1000, 'carl': 4320, 'errrrrrr': 4321, 'virile': 3506, 'brassiest': 1001, 'age': 4322, 'helps': 1259, 'hears': 4323, 'get': 1002, 'loafers': 4324, 'happiness': 2394, 'enemy': 4325, 'layer': 1003, 'effervescent': 5783, 'front': 4327, 'al': 1004, 'decision': 4328, 'local': 1564, 'lemonade': 4329, 'cooking': 976, 'shares': 4331, 'loser': 1260, 'lobster-based': 4333, 'all:': 6341, 'swooning': 3508, 'sued': 1005, 'grains': 4334, 'black': 5177, 'dealer': 4335, 'polite': 4336, 'wash': 4337, 'crunch': 4338, 'quiet': 3510, 'entering': 1007, \"boy's\": 4340, 'choose': 4341, 'carpet': 4342, 'since': 1008, 'road': 4343, 'created': 1009, 'refreshing': 1010, 'asleep': 4043, 'suck': 4344, 'fustigation': 4347, 'nuclear': 4346, 'mountain': 4350, 'snake-handler': 1011, 'stalwart': 4351, 'homesick': 4352, 'wantcha': 1844, 'pickled': 4353, 'windowshade': 4619, 'count': 1012, 'kindly': 5787, \"yieldin'\": 4354, 'bye': 4355, 'restroom': 1013, 'hollye': 4358, \"hangin'\": 1262, 'fritz': 1846, 'sixty-nine': 6345, 'poem': 4359, 'dealie': 4360, 'wolverines': 4361, 'wells': 4362, 'k': 2928, \"s'cuse\": 1015, 'during': 4363, 'adult': 1016, 'grocery': 1017, 'goodnight': 5789, 'homer_simpson:': 4366, 'dive': 4367, 'sleep': 4368, 'afraid': 1019, 'slice': 1020, 'answer': 6347, 'attached': 1021, 'island': 1022, \"battin'\": 4370, 'worst': 4371, 'how': 4372, 'mean': 1264, 'latin': 1024, 'common': 1025, 'whispered': 4374, 'friend': 4375, 'internet': 4376, 'lugs': 1027, 'killjoy': 4378, '_julius_hibbert:': 4379, 'competing': 4380, 'hearts': 1028, 'barney': 1029, 'famous': 4381, 'funniest': 4382, 'alternative': 1030, 'pure': 1031, 'klown': 4383, \"doctor's\": 1032, 'sudden': 5688, 'limited': 4385, 'finally': 5189, 'karaoke_machine:': 1033, 'frankly': 1034, \"wouldn't\": 1035, 'corpses': 4387, 'moxie': 1036, 'delete': 1037, 'made': 3928, 'friends': 1038, 'pouring': 4389, 'nobel': 1040, 'fever': 1041, 'mexican_duffman:': 5790, 'fire': 4390, 'scarf': 4391, 'theme': 1042, 'rationalizing': 1043, 'boned': 4392, 'hits': 4393, 'plants': 4395, 'unsanitary': 4396, 'pizza': 4397, 'counter': 3518, 'fortress': 1045, 'deep': 1046, 'splash': 1047, 'realize': 1048, 'repeated': 4400, 'influence': 6351, 'wiping': 4401, 'up-bup-bup': 1049, 'inspection': 5794, 'waist': 1050, 'officials': 1051, 'outside': 5313, 'quarterback': 1053, \"i'm-so-stupid\": 4404, 'took': 1054, 'thing:': 1055, 'other': 4405, 'backward': 4406, 'depressing': 5543, 'business': 1056, 'traditions': 4407, 'horns': 4409, 'pointed': 4411, 'wipe': 4412, 'tigers': 1058, 'gabriel:': 1268, 'hidden': 1059, 'larry': 1060, 'el': 5193, 'student': 1061, 'open': 1062, 'wore': 4414, 'equal': 4415, 'hunger': 1063, \"calf's\": 4416, 'clientele': 1269, 'wakede': 1064, 'sideshow_bob:': 1065, 'terrorizing': 4419, 'flynt': 1066, 'further': 4420, 'firm': 4421, 'slobbo': 1067, 'diets': 5195, 'prove': 4422, 'obvious': 1068, 'whoa': 1069, 'extra': 6357, 'excuse': 1070, 'marriage': 1071, 'writers': 6657, 'justice': 5653, 'thumb': 1072, 'keys': 4423, 'exasperated': 4424, 'hers': 1075, 'mary': 1074, 'comic': 4425, 'rig': 2830, 'jockey': 1076, 'exhibit': 1077, 'shut': 1078, 'arrange': 1079, 'awed': 4057, 'scare': 5801, 'original': 1080, 'actors': 1081, 'sanitary': 1082, 'western': 4427, 'consulting': 4428, 'flying': 1083, 'shotgun': 4630, 'wagering': 4430, 'birthplace': 1085, 'flush-town': 4431, 'beards': 6288, 'regret': 4432, 'throws': 1086, 'polish': 1087, 'slot': 4434, 'alone': 4437, 'depressed': 4436, 'krabappel': 4438, \"aristotle's\": 1090, 'jay': 1091, 'passes': 1092, 'letter': 4439, 'head-gunk': 1093, 'eliminate': 1094, 'expensive': 1858, 'cure': 1095, 'musta': 1096, 'disguise': 4441, 'hub': 1098, 'tight': 1099, 'cricket': 619, 'quitcher': 6362, 'ga': 5837, 'terrible': 1272, 'source': 1100, 'bliss': 1860, 'figures': 4443, \"time's\": 4448, 'carney': 4445, 'meaningfully': 4446, 'eat': 4447, 'buffet': 1102, 'less': 1103, 'skinny': 1104, 'lime': 1105, 'youngsters': 1106, 'few': 1194, \"bein'\": 1107, 'unkempt': 1108, 'urine': 1109, 'science': 4450, 'sitar': 1110, 'bobo': 3951, \"enjoyin'\": 1878, 'philosophical': 1863, 'yew': 4090, 'groin': 4452, 'freely': 4453, 'unattended': 6366, 'stamps': 4454, 'whale': 1111, 'there': 4455, 'complete': 4456, 'says': 1113, 'underpants': 4457, 'chance': 4458, 'from': 1115, 'al_gore:': 1116, 'asks': 4459, 'anyhoo': 4460, 'coal': 1118, 'dateline:': 4461, \"idea's\": 4462, 'standards': 4463, 'brockelstein': 1119, 'enthusiasm': 3762, 'champ': 1120, 'lush': 4464, 'paramedic:': 4465, 'warily': 4466, \"duff's\": 1121, 'pick': 4467, 'renee:': 4468, 'cops': 5307, 'treasure': 1123, 'sizes': 4469, 'grandkids': 188, 'also': 1124, 'wealthy': 1126, 'fourth': 4470, 'korea': 1127, \"mother's\": 4471, 'poor': 1128, 'quimby': 4472, 'moved': 4473, 'perhaps': 3439, 'boozy': 4474, 'pad': 4475, 'crowd:': 1129, 'leaving': 4477, 'democrats': 1130, 'seat': 5811, 'bluff': 1131, \"ol'\": 1132, 'palmerston': 5200, 'notch': 1133, 'detective': 4643, 'fad': 719, 'shock': 4478, \"aren'tcha\": 4479, 'gambler': 4480, 'pink': 1135, 'ugliness': 4481, 'park': 4482, 'sodas': 1136, 'blubberino': 1137, 'young_barfly:': 4484, 'smithers': 4485, 'friendly': 1138, 'floated': 4486, 'gees': 1139, 'occasional': 5812, '4x4': 4487, 'broadway': 1140, 'buying': 1141, \"betsy'll\": 4098, 'roof': 1144, 'righ': 3068, 'covers': 1145, 'stab': 1281, 'paris': 1447, 'represents': 1147, 'butter': 1148, 'gimmick': 192, 'underwear': 4488, 'teenage': 4489, 'aww': 1149, 'sir': 4490, 'rife': 1150, 'oooh': 4491, 'edison': 4492, 'good-looking': 1151, 'commanding': 1152, 'plus': 1153, 'taken': 1154, 'senator': 1155, 'notorious': 1156, 'record': 4494, 'agency': 4495, 'diving': 1158, 'executive': 1159, 'lady-free': 1160, 'carefully': 4496, 'nucular': 4497, 'haiti': 6458, 'malted': 5206, 'fires': 4498, 'improved': 4499, 'victory': 4500, 'cavern': 4501, 'ooo': 4502, 'diminish': 3532, 'marshmallow': 1052, 'reentering': 1164, 'safely': 1284, 'cable': 4503, 'strawberry': 4504, 'mistakes': 4505, 'ruby-studded': 1165, 'tomatoes': 4506, 'break-up': 4507, 'twice': 4649, 'said:': 6190, 'folk': 1166, 'candidate': 1167, 'pfft': 5209, 'everyday': 5820, 'bear': 6728, 'housewife': 4509, 'hard': 4510, \"fishin'\": 4511, 'hates': 842, 'victim': 4512, 'alcoholism': 4513, 'whole': 1169, 'windex': 4515, 'sass': 5669, 'tactful': 4516, 'vermont': 4517, 'tired': 1170, 'wondering': 1171, 'cloudy': 1172, 'forty-five': 4518, 'rutabaga': 4519, 'yogurt': 4520, 'calvin': 1173, 'kitchen': 1174, 'flustered': 6375, 'understand': 4521, 'droning': 5822, \"ragin'\": 4522, 'karaoke': 4523, 'hooky': 6590, 'gums': 4524, 'actually': 4525, 'had': 1175, 'candles': 4526, 'fella': 4527, 'spoon': 1176, 'launch': 1177, 'pint': 4528, 'fleabag': 1178, 'gunk': 6379, 'nooo': 1179, \"washin'\": 1180, 'stink': 5825, 'maude': 4531, 'witches': 4532, 'fork': 1182, 'idiot': 4533, 'espousing': 4534, 'card': 1288, 'uglier': 4535, 'young_moe:': 1186, 'reopen': 1187, 'crying': 4538, 'swimming': 201, 'storms': 4539, 'new_health_inspector:': 4540, 'mindless': 1188, 'lessons': 1189, 'jeez': 1190, 'sisters': 1191, 'reporter': 4541, 'perverse': 1192, 'norway': 1193, 'private': 4542, 'super-tough': 5216, 'anarchy': 699, 'denser': 1197, 'rules': 4543, 'infatuation': 1198, 'bedroom': 1199, 'man:': 1291, 'shape': 1200, \"hole'\": 4544, 'miles': 4545, 'bubbles': 754, 'twins': 3015, 'sold': 1201, 'the': 4547, 'lives': 4548, 'schizophrenia': 6277, 'picky': 1202, 'mickey': 4549, 'lifters': 1203, 'lewis': 1204, 'aidens': 4550, 'caused': 1205, 'back': 4551, 'scrutinizing': 1206, 'smile:': 4552, 'low-life': 1207, 'har': 3016, 'bitter': 4553, 'platinum': 5830, \"we've\": 1208, 'jewelry': 1209, 'lie': 4110, 'carb': 4554, 'arts': 4555, 'lap': 4556, 'wish': 1211, 'mother': 4557, \"changin'\": 4558, 'unison': 1212, 'duff': 1213, 'hilton': 4559, 'ineffective': 4560, 'chum': 1214, 'two-drink': 1215, 'steaming': 1216, 'moron': 1293, 'joined': 1217, 'designated': 4561, 'associate': 4562, 'collapse': 5056, 'france': 1218, 'affectations': 4563, 'happy': 1220, 'slip': 4564, 'reward': 1221, 'miss': 4565, 'sloppy': 4566, 'poisoning': 4567, 'presumir': 1222, 'sperm': 5834, 'wrapped': 4568, 'thankful': 1223, 'i-i': 4569, 'frogs': 1225, 'running': 4570, 'ball': 1226, 'written': 4571, 'us': 1227, 'wage': 4572, 'muslim': 1229, 'mechanical': 1231, 'mom': 4573, 'muffled': 3545, 'sucker': 1232, 'wooden': 4574, 'order': 4575, 'jukebox_record:': 1234, \"renee's\": 4576, 'show-off': 1235, 'worse': 1236, 'sail': 1237, 'heatherton': 3756, 'handing': 4578, 'anti-lock': 4579, 'voodoo': 4580, 'gruff': 6384, 'regulars': 4581, 'quarry': 4582, 'having': 5718, 'bottoms': 1238, 'break': 4583, 'casual': 4584, 'nasa': 4585, 'sniffing': 4586, 'sumatran': 4587, 'avec': 4668, 'spoken': 4588, 'beer-jerks': 1241, 'dateline': 4589, 'matter': 4590, 'patrons': 5836, 'mariah': 1243, 'we': 2009, 'brockman': 4591, 'montrer': 4592, 'flanders:': 4593, 'woo-hoo': 4670, 'average': 4594, 'contented': 6005, 'indecipherable': 4596, 'sagacity': 4597, 'priceless': 1246, 'next': 1247, \"lookin'\": 4598, 'bashir': 1248, 'harrowing': 1249, 'whoo': 4599, 'ninety-nine': 206, 'harv': 1252, 'wednesday': 4600, 'equivalent': 1253, 'even': 1254, 'navy': 2433, 'in-ground': 4602, \"squeezin'\": 1299, 'crime': 1256, 'consider': 4603, 'murmurs': 1257, 'classy': 4604, 'eyes': 4605, 'slop': 6262, 'aquafresh': 4606, \"somebody's\": 4607, 'pian-ee': 4608, 'correcting': 4609, 'month': 4610, 'wall': 4611, 'jamaican': 1258, 'd': 4612, \"show's\": 4613, 'beard': 4614, 'grudgingly': 4615, 'whip': 3178, 'cameras': 4616, 'mint': 4617, 'voice': 1261, \"o'clock\": 4618, 'santa': 1263, 'prompting': 4620, 'legend': 4621, 'escort': 4622, 'indigenous': 4623, 'formico:': 4083, 'along': 4624, 'wound': 4625, 'buddy': 6387, 'thorough': 1265, 'ago': 4894, 'specific': 1244, 'small': 1267, 'figured': 4626, 'steinbrenner': 5227, 'station': 4627, 'winded': 3027, \"bringin'\": 4628, 'tongue': 1891, 'arm-pittish': 2438, 'crab': 4629, 'legs:': 1271, 'information': 4631, 'uninhibited': 4632, 'either': 1273, 'scum-sucking': 4633, 'why': 1274, 'delicate': 1275, \"'\": 1276, 'middle': 1308, 'lecture': 4634, 'harvey': 4635, \"coffee'll\": 1277, 'bushes': 1278, 'gloop': 4636, 'nash': 4637, '-ry': 4638, 'center': 1279, 'jam': 1280, 'face-macer': 4644, 'four': 4642, 'strains': 1418, 'flush': 4645, 'man': 1283, 'wrecking': 6391, 'ring': 4647, 'secret': 4648, 'nigerian': 4650, 'tsking': 4651, 'recorder': 4652, 'thrust': 1286, 'premise': 1287, 'run': 4653, 'silence': 5756, 'farewell': 4654, 'nightmares': 1289, 'know': 4655, 'drinking:': 4656, 'menlo': 5093, 'alpha-crow': 4657, 'smart': 1290, 'instead': 1292, 'store-bought': 4658, 'easily': 4659, 'town': 768, 'awe': 4660, 'excellent': 4661, 'alfalfa': 5740, 'sob': 1295, 'gotcha': 1296, 'sun': 4662, 'hands': 4663, 'broken:': 4664, 'keep': 4665, 'puke': 4666, 'knees': 1895, 'barflies:': 4669, 'bullet-proof': 4671, 'sounded': 4672, 'failure': 1300, 'bulldozing': 1301, 'continuing': 1302, 'glitterati': 1303, 'housing': 1304, 'mrs': 1305, 'sacrilicious': 1306, 'aims': 5844, 'boys': 1307, \"'round\": 1309, \"tab's\": 4673, 'way:': 1311, 'smitty:': 4678, 'down': 4674, 'macgregor': 1312, 'skin': 4675, 'voice:': 1313, 'fridge': 6396, 'general': 4676, 'lindsay': 4677, 'braun:': 4679, 'your': 4680, 'sneaky': 4682, 'threw': 4712, 'shove': 1314, 'enthused': 6478, 'prepared': 4683, 'swan': 1315, 'edna-lover-one-seventy-two': 4684, 'four-drink': 4685, 'rich': 4686, 'crayon': 4681, 'collateral': 1316, \"they're\": 4687, 'publish': 1317, 'passenger': 4689, 'therapy': 1318, 'willing': 4690, 'eighteen': 1319, '||question_mark||': 6400, 'spacey': 1320, 'furry': 1324, 'him': 3763, 'sat-is-fac-tion': 1323, 'refreshment': 6606, 'drawing': 4691, 'eddie': 4692, 'compare': 4693, 'dutch': 1325, 'big': 3644, 'libido': 4695, 'keeps': 773, 'booger': 1327, 'royal': 219, 'alfred': 1328, 'rotch': 1329, 'trunk': 4696, 'nasty': 1330, 'unless': 4697, 'belch': 6405, 'con': 1331, 'buds': 775, 'trapped': 4698, 'when-i-get-a-hold-of-you': 4699, 'swe-ee-ee-ee-eet': 4700, 'prayer': 1332, 'husband': 3067, 'scent': 1334, 'access': 2447, 'fifteen': 4702, 'nonsense': 4703, 'corner': 4704, 'carnival': 1335, \"tellin'\": 1336, 'who-o-oa': 4705, 'fatty': 6407, 'clinton': 1337, 'shrieks': 3566, 'raking': 1339, 'daughter': 4706, 'eighty-one': 4707, \"tramp's\": 5849, \"'ceptin'\": 4708, 'frontrunner': 1342, 'improv': 1343, 'champs': 1344, 'spied': 1345, 'jasper_beardly:': 4711, 'decadent': 6408, 'bride': 1346, 'specializes': 1903, 'time': 1347, 'methinks': 1348, 'dramatic': 4713, 'excited': 1349, 'scam': 3667, 'dearest': 1350, 'edna': 4715, 'brainiac': 4274, 'thorn': 4717, 'turning': 4719, 'merchants': 1351, 'fail': 1352, 'straight': 4721, 'lodge': 4722, 'abolish': 1353, 'f': 1354, \"kid's\": 4724, 'pretzels': 4725, 'shreda': 2453, 'ignorant': 6498, 'expression': 1355, 'paid': 4726, 'duh': 1356, \"rentin'\": 6414, 'without': 4727, \"pressure's\": 6332, 'brought': 4132, 'easygoing': 1358, 'blue': 1359, 'dumptruck': 4729, 'strolled': 6416, 'principal': 1361, 'killed': 4731, \"how're\": 5852, 'handling': 1362, 'sotto': 1363, 'crowned': 4733, 'standing': 1364, 'apology': 779, 'jacks': 6418, 'whoopi': 4737, 'sunglasses': 1367, 'cell-ee': 4736, 'meanwhile': 3561, 'prime': 4738, 'fund': 4739, \"sippin'\": 2456, 'freak': 4740, 'trustworthy': 4137, 'clandestine': 1369, 'sat': 4741, 'sight-unseen': 5243, 'stewart': 4742, 'resist': 1370, 'recently': 4743, 'choked': 6420, 'highest': 4744, 'gag': 4745, 'focused': 4746, 'ear': 4734, 'kills': 5875, 'lungs': 784, 'delicately': 3367, 'occurs': 4747, 'proper': 1372, \"'kay-zugg'\": 1373, 'handed': 4748, 'sweet': 1374, 'lise:': 1321, 'straighten': 1375, 'freed': 5854, 'cattle': 1376, 'southern': 1322, 'ireland': 1377, 'fights': 1378, 'kids': 1379, 'exits': 3574, 'professor_jonathan_frink:': 4751, 'compliments': 4752, 'shindig': 1381, 'van': 4753, 'table': 4754, 'anthony_kiedis:': 4755, 'ignorance': 1382, 'charlie:': 4756, 'mini-dumpsters': 1383, 'village': 1386, 'side:': 4759, 'surprise': 4760, 'accounta': 3576, 'romance': 4764, 'kent': 1387, 'warmly': 4765, 'guiltily': 1388, 'carey': 1326, 'liable': 1390, 'traffic': 3046, 'hotel': 4766, 'population': 1391, 'comfortable': 4694, 'restaurants': 1392, 'wondered': 4768, 'flexible': 5251, 'insightful': 1393, 'wayne': 4769, 'nascar': 1395, 'stirring': 1396, 'series': 1397, 'contemplates': 4770, 'sweat': 4771, 'surprised/thrilled': 4774, 'please/': 1398, 'if': 4775, 'sooo': 4776, 'disco_stu:': 4777, 'sky': 4778, 'our': 1401, 'giggles': 6496, 'zinged': 4779, 'reflected': 4780, 'lucius': 1404, 'package': 1405, 'decency': 6425, 'increased': 1406, 'bunion': 4781, 'tooth': 4782, 'remain': 6737, 'pope': 1408, 'dad': 1409, 'worthless': 1297, 'rented': 1410, 'coins': 1411, 'pointy': 4783, 'factor': 5858, 'hold': 4784, 'griffith': 4786, 'gay': 1413, 'hems': 4787, 'toilet': 1414, 'daddy': 4788, 'applesauce': 4789, '$42': 914, 'quarter': 1415, 'writer:': 4790, 'impress': 4795, 'gardens': 4793, 'speech': 4794, 'square': 1416, 'charged': 1417, 'crony': 4796, 'magnanimous': 2153, 'any': 1419, 'jack_larson:': 4797, 'row': 4798, 'jay:': 1420, 'chief': 4799, 'bidet': 4801, 'hitchhike': 1421, 'nelson_muntz:': 3432, 'glyco-load': 4803, 'prints': 1422, 'oww': 4805, \"wouldn't-a\": 1424, 'item': 1402, 'ourselves': 1425, 'rebuilt': 6428, 'nfl_narrator:': 1426, 'giant': 791, 'earlier': 3053, 'death': 1427, 'plow': 4806, 'waltz': 1428, 'competitive': 6430, 'stir': 1429, 'pretty': 4807, 'pumping': 6431, 'severe': 4808, 'dispenser': 3588, 'destroyed': 1430, 'warn': 4809, 'scotch': 1433, 'blossoming': 4810, 'appalled': 5238, \"other's\": 1435, 'du': 1436, 'going': 1437, 'procedure': 1439, 'west': 1440, 'muertos': 1441, 'ref': 6550, 'disturbance': 4148, 'poker': 1442, 'presses': 4811, 'notices': 1443, 'offer': 4812, \"let's\": 4149, 'dynamite': 6436, 'relationship': 1445, 'shooting': 1446, 'woozy': 609, 'frankie': 4813, 'jelly': 1449, 'harmony': 4814, 'crimes': 4815, 'corn': 4816, \"maggie's\": 4817, 'waste': 4818, 'don': 4819, 'relieved': 1646, 'reaction': 1921, 'parking': 1450, 'attraction': 796, 'maher': 4820, 'wrong': 1453, 'queen': 4821, 'flag': 4822, 'beaumont': 4823, 'zoomed': 1454, 'knuckle-dragging': 1455, \"hell's\": 5835, 'defensive': 4825, 'onions': 1456, \"d'ya\": 4826, 'bugs': 1457, 'chairman': 6439, 'coat': 6775, 'manuel': 4828, 'county': 3589, 'presidents': 4829, '50%': 1458, 'yammering': 4830, 'and': 4832, 'fabulous': 4833, 'crap': 1459, 'self-centered': 4834, 'continuum': 4835, 'parenting': 1649, 'yard': 1460, 'unlike': 1461, 'marquee': 1462, 'boxcar': 1463, 'dessert': 4836, 'homeless': 3590, 'apron': 1466, 'enjoys': 1467, 'right-handed': 4837, 'recruiter': 4838, \"here's\": 1471, 'powers': 4839, 'take': 1473, 'sugar': 4840, 'faint': 6629, 'lou': 1475, 'scooter': 6441, 'sneering': 4841, 'cake': 4842, 'friend:': 1476, 'eyeing': 1477, 'used': 1478, 'oblivious': 4843, 'considering:': 4844, 'boxcars': 4845, 'horrible': 1479, 'forward': 1480, \"i'm\": 1481, 'courage': 4846, 'shades': 1245, 'view': 4847, 'sexy': 4848, 'excavating': 1484, 'fletcherism': 1485, 'othello': 1486, \"d'\": 1487, 'steel': 1488, 'contest': 1489, 'nein': 4851, 'clothes': 1490, 'deeply': 1491, 'driveability': 4155, 'balloon': 1493, 'mouths': 1494, \"narratin'\": 4852, 'refreshingness': 1498, 'getcha': 4854, 'manager': 1499, 'grumpy': 4855, \"town's\": 1500, 'coming': 6253, 'haw': 5270, 'liser': 1501, 'pusillanimous': 1502, \"she's\": 1503, 'sacajawea': 1338, 'la': 1930, 'circus': 1504, 'slap': 3059, 'salad': 1162, 'state': 4859, 'gary:': 4860, 'dexterous': 4861, 'pigs': 1506, 'utensils': 3788, 'full-time': 1507, 'therefore': 5265, 'everyone': 4862, 'line': 2196, 'halloween': 5273, 'gets': 4863, 'forehead': 1509, 'reluctantly': 4864, 'tremendous': 1510, 'triumphantly': 1514, 'frazier': 1513, 'torn': 1515, 'arrested:': 4865, 'nothing': 6350, 'falling': 4157, 'fiiiiile': 4866, 'koholic': 4867, 'ivy-covered': 1333, 'kyoto': 4868, 'veux': 1517, 'vote': 1518, 'faiths': 1521, 'imitating': 1523, 'selective': 4869, 'neighboreeno': 4870, 'relaxing': 1340, 'model': 4871, 'want': 2474, 'celebration': 4709, 'poster': 1524, 'backwards': 1525, 'flowers': 1526, 'another': 4872, 'stayed': 4873, 'skinner': 4874, 'fulla': 4875, 'walking': 1529, 'tsk': 1530, 'grandmother': 1531, 'old_jewish_man:': 1532, 'sinkhole': 4876, \"who's\": 4877, 'schedule': 4718, \"stealin'\": 1533, 'christopher': 4641, 'naturally': 1534, 'beings': 1535, 'malibu': 5342, 'maya:': 4879, 'skunk': 4880, 'patty_bouvier:': 3596, 'painless': 1536, 'sticker': 4881, 'moe-near-now': 4883, 'ticket': 1537, 'return': 1538, \"man'd\": 4884, 'broncos': 1539, 'racially-diverse': 1540, 'solid': 4885, 'officer': 1541, 'beeps': 1542, 'workers': 4886, 'rancid': 6447, 'rob': 4887, 'watashi': 1543, 'toxins': 4888, 'society': 4889, 'pizzicato': 4890, 'banned': 1545, 'damage': 5003, 'realizing': 1546, 'but': 4892, 'newly-published': 5278, 'depository': 5873, 'straining': 1547, 'hurry': 4893, 'ambrose': 5874, 'high-definition': 4714, 'corporate': 1548, 'older': 4895, 'troy_mcclure:': 810, 'mike_mills:': 1550, 'befouled': 1551, 'cool': 1552, 'comeback': 1553, 'appreciated': 1554, 'courteous': 6449, 'statesmanlike': 4896, 'glove': 1555, 'sixty': 4898, 'preparation': 4899, 'flips': 4900, 'adjust': 255, 'dumb-asses': 1558, 'defeated': 4901, 'africanized': 1559, 'awww': 1560, 'compliment': 1561, 'rather': 4902, 'vance': 1563, 'augustus': 4903, 'dreams': 4904, 'grub': 4905, 'mirror': 4907, 'choked-up': 298, 'permanent': 1565, \"feelin's\": 4908, 'hampstead-on-cecil-cecil': 1566, 'donut': 1568, 'yak': 4910, 'intimacy': 6569, 'drollery': 1569, 'facebook': 1570, 'universe': 4912, 'fatso': 1571, 'mmm-hmm': 4913, 'trash': 1572, 'stealings': 1573, 'jukebox': 4914, 'beer': 4915, 'fast': 4716, 'juke': 551, 'wienerschnitzel': 1575, 'los': 1576, 'often': 4916, 'penny': 4917, 'youth': 4918, 'kirk_voice_milhouse:': 1579, 'aunt': 2176, 'yesterday': 1580, 'reading:': 1581, 'hooray': 4919, 'winks': 1582, \"son's\": 1583, \"marge's\": 4920, 'reminds': 1584, 'poke': 2483, 'admiring': 1585, 'kinderhook': 4163, 'bulked': 1586, 'calm': 4921, 'advance': 1587, 'bar:': 1589, 'super-nice': 4922, 'jimmy': 4923, 'syndicate': 4476, 'smoothly': 1590, 'awake': 1591, 'wheels': 4924, 'emotion': 1592, 'fondest': 4925, 'charges': 4720, 'initially': 4926, 'bucket': 1594, 'pile': 1595, 'si-lent': 4927, 'bras': 4928, 'nominated': 2487, 'listen': 4929, 'sketch': 1597, 'intoxicated': 1598, 'strategizing': 4931, 'taxi': 4934, 'democracy': 224, 'lis': 3070, 'group': 1601, 'breathalyzer': 1602, \"when's\": 1603, 'lock': 4935, 'woe:': 1604, 'alky': 4936, 'marvin': 4723, 'sight': 1605, 'balls': 4937, 'yells': 1606, 'barbed': 4939, 'published': 4940, 'wally:': 4167, 'haikus': 4941, \"today's\": 3072, 'bless': 1608, 'religion': 4942, 'bourbon': 4943, 'brine': 3605, 'yelling': 1609, 'encore': 4944, 'cross-country': 1610, 'expired': 2490, 'awkward': 1611, 'ancestors': 4945, \"'cept\": 1612, 'promise': 1613, 'temporarily': 1615, 'roz': 6191, 'binoculars': 1616, 'eaters': 4946, 'oddest': 1618, 'cocoa': 1619, 'complaint': 1621, 'yell': 4948, 'aiden': 1622, 'businessman_#2:': 1623, 'loboto-moth': 1624, 'me': 1625, 'ripped': 1357, 'buddies': 4949, 'snorts': 1626, 'billy_the_kid:': 4950, 'be': 4951, 'machine': 4952, 'hangout': 4954, 'hot-rod': 1627, 'sleeping': 4955, 'each': 1629, 'interesting': 4956, 'britannia': 4957, 'polygon': 1631, 'imported-sounding': 1360, 'cab_driver:': 4349, 'doll-baby': 1632, 'verdict': 5116, 'pond': 4958, 'checks': 1633, 'ominous': 1944, 'arimasen': 4959, \"choosin'\": 4728, 'cars': 1634, 'while': 1635, 'wazoo': 2493, 'old-time': 1636, 'plums': 1637, 'shakes': 1638, 'clearly': 4961, 'chanting': 266, 'cueball': 4730, 'contemporary': 1641, 'walks': 1642, 'onassis': 1643, 'buttons': 1644, 'scientific': 4962, 'arrived': 4963, 'telling': 4964, 'glowers': 5891, 'all': 1645, 'sharing': 4968, 'maggie': 4966, 'eager': 4967, \"she'd\": 4969, 'stay-puft': 4732, 'atlanta': 1651, 'illustrates': 4449, 'dum-dum': 1652, 'college': 1654, 'being': 2767, 'fox': 1655, 'regretted': 1656, 'magic': 4971, 'brunswick': 4857, 'kick-ass': 1658, 'work': 1659, 'germs': 6466, 'sniffles': 1662, 'grammy': 4972, 'none': 4973, 'lisa': 1664, 'champignons': 1665, 'solves': 1666, 'rage': 1667, 'defiantly': 1668, 'quit': 4974, 'simultaneous': 1669, 'lessee': 4975, 'illegal': 1365, 'ned_flanders:': 4976, 'harder': 1671, '/': 1672, 'involved': 1673, 'mob': 501, 'appealing': 4977, 'british': 1674, 'this': 1675, 'wobble': 4735, 'villanova': 4978, 'rolls': 4979, 'toward': 4980, 'hand': 4981, 'aah': 4982, 'accident': 1679, 'turned': 1680, 'admiration': 4983, 'lately': 4984, 'eyeballs': 1681, 'subject': 4986, 'longer': 4987, 'lobster': 3552, 'blank': 4988, 'boy': 1682, 'full-bodied': 4989, '1979': 4990, 'cannot': 4991, 'heave-ho': 3081, 'sobo': 1368, 'dae': 1683, 'macaulay': 5896, 'finger': 4992, \"tootin'\": 3616, 'potato': 6159, 'botanical': 4993, 'outstanding': 1686, 'swear': 3617, 'deny': 4994, 'fragile': 1688, 'talking': 1689, 'stein-stengel-': 1691, 'pair': 4995, 'ideal': 4996, 'recap:': 1692, \"ya'\": 6641, 'sees': 1958, 'highway': 4997, 'knock': 1693, 'dreamily': 6060, 'german': 4998, 'look': 1694, 'billion': 5899, 'bum:': 1695, 'wildest': 4999, 'cheered': 3281, 'skeptical': 5000, 'ghouls': 5001, 'fritz:': 1696, 'knocked': 5002, 'jump': 1697, 'trivia': 5004, \"ma'am\": 5005, 'padres': 581, 'pulling': 1698, 'whenever': 5006, 'railroad': 5007, 'unsafe': 6464, 'won': 5008, 'abe': 1699, 'carlotta:': 1700, 'ointment': 5009, 'yellow': 1702, 'beat': 5010, 'declan_desmond:': 1703, 'rueful': 5011, 'shopping': 1704, 'browns': 5012, 'paparazzo': 3621, 'tall': 5013, 'top': 1384, 'runs': 5903, 'driving': 1705, 'near': 5015, 'honey': 5016, 'sound': 1444, 'meatpies': 1707, 'married': 1708, 'tavern': 1709, 'physical': 1710, 'shows': 5017, 'professional': 5018, 'lied': 5019, 'fire_inspector:': 5542, 'sponsor': 1371, 'edgy': 5020, 'players': 5021, 'basement': 5022, 'love': 1711, 'america': 5026, 'harv:': 5027, \"man's\": 5028, 'albeit': 3780, 'robin': 5030, 'feast': 5031, 'travel': 5906, 'charity': 1712, 'soot': 5032, 'tolerance': 1714, 'drawn': 5033, 'grubby': 1715, \"professor's\": 5301, 'choke': 1716, 'term': 1717, 'app': 1718, 'peabody': 1721, 'admirer': 1722, 'tickets': 5036, 'elephants': 1723, 'ram': 6360, 'hateful': 6486, 'astrid': 1967, 'poplar': 1724, 'changes': 5909, 'landlord': 5037, 'elder': 5038, 'mortgage': 5039, 'kidneys': 1725, 'when': 2566, 'mostly': 5040, 'meaningful': 5041, 'pit': 1726, 'shuts': 5045, 'died': 5044, 'mystery': 5046, 'safe': 1727, 'rocks': 5047, 'ahh': 1728, 'belong': 5049, 'gunter:': 1729, \"i've\": 1730, 'forty-nine': 5050, 'sad': 1731, 'elves:': 1732, 'ron': 5051, 'cologne': 1734, 'save': 1973, 'poet': 5052, 'ever': 5053, 'trapping': 1735, 'moe-clone': 5054, 'bothered': 1736, \"homer's_brain:\": 1737, 'barber': 1738, 'quimby_#2:': 1739, 'museum': 5057, 'lenny_leonard:': 5058, 'infor': 5060, 'fast-food': 956, 'laughing': 5062, 'fastest': 6679, 'data': 5063, 'pro': 1740, 'damn': 5065, 'cases': 1741, 'looks': 5066, \"waitin'\": 5067, 'broom': 1742, 'five': 1743, \"men's\": 1745, 'hellhole': 1746, 'yup': 1747, 'simpsons': 5068, 'snout': 1748, 'bones': 1403, 'own': 1749, 'result': 1750, 'fevered': 4192, 'energy': 1751, 'based': 1752, 'serve': 5308, 'coffee': 5070, 'paintings': 5071, \"fendin'\": 5072, 'offensive': 1754, 'wussy': 1755, 'dejected': 5073, 'er': 5074, 'incriminating': 5075, 'hero-phobia': 5076, 'amanda': 5077, 'ruint': 6203, 'special': 1756, 'attempting': 1758, 'watching': 1759, 'selma_bouvier:': 5078, 'accept': 4749, 'huhza': 5080, 'lookalike:': 5081, 'aristotle:': 3632, 'marjorie': 5082, 'releases': 1760, 'picnic': 1761, 'encouraging': 4282, \"wait'll\": 1762, 'squadron': 5083, 'juan': 5084, 'suspect': 1763, '250': 1764, 'exchanged': 5087, 'anniversary': 1765, 'willy': 2514, 'cutting': 5088, 'rummy': 1766, 'taking': 5090, 'poured': 5091, 'atari': 1767, 'brotherhood': 1768, 'stood': 1769, '_burns_heads:': 1770, \"meanin'\": 5092, 'knocks': 1771, 'phony': 1772, 'starla:': 1773, 'protestantism': 1774, 'blew': 1775, 'inspire': 6752, 'goal': 5315, 'suddenly': 1776, 'family-owned': 5097, 'william': 5098, \"countin'\": 5099, 'chuckle': 5100, 'lighten': 5246, 'ate': 5102, 'languages': 5103, 'listened': 1777, \"'em\": 1778, 'warmth': 1779, 'trick': 1780, 'email': 1781, 'pride': 5104, 'fighter': 1782, 'triple-sec': 5106, 'zero': 1783, 'richard': 5107, 'one': 1784, 'glee': 1785, 'itchy': 844, 'truck_driver:': 1786, 'bowl': 5109, 'rookie': 5110, 'hiring': 1787, 'duffman': 1788, 'closing': 5111, 'moe': 5112, \"spiffin'\": 5786, 'harvesting': 5113, 'apulina': 5114, 'de-scramble': 1790, 'greatest': 5317, \"o'problem\": 1792, 'root': 5117, '91': 6499, 'mater': 1793, 'copy': 1794, 'utility': 5118, 'uh-oh': 1795, 'christmas': 5120, 'grand': 5121, 'unintelligent': 5123, 'south': 1796, 'cock': 5124, \"you'll\": 1797, 'pleasant': 1798, 'disco': 1799, 'peter': 1801, 'glasses': 5126, 'answering': 1802, 'effervescence': 4757, \"lefty's\": 5127, 'pardon': 1385, 'ne': 5129, 'size': 1803, 'shakespeare': 5130, 'anti-crime': 6500, 'american': 5131, 'witty': 847, 'minute': 5132, 'squishee': 1804, \"workin'\": 1805, \"department's\": 5133, 'jaegermeister': 5850, \"dog's\": 1806, 'hootie': 5134, 'malfeasance': 4761, 'exquisite': 5135, 'popped': 1807, 'waylon': 5136, 'superior': 5137, 'type': 5138, 'certainly': 5139, 'suave': 5140, 'ho': 849, 'anymore': 5142, 'teenage_bart:': 1808, 'hello': 5144, 'seething': 1809, 'raccoons': 5146, 'list': 5147, 'religious': 5148, 'still': 1810, 'able': 6523, 'cursed': 5149, 'tick': 5150, 'mahatma': 1811, 'dignified': 1988, 'biggest': 1812, 'cecil': 5562, 'do': 5152, 'anger': 1813, 'brain': 1815, 'lachrymose': 1816, 'onion': 5153, 'visas': 5154, 'killing': 1817, 'ura': 1818, 'reynolds': 5925, 'later': 5156, 'pretzel': 1389, 'mind-numbing': 5157, 'pointedly': 1819, 'space': 1820, 'edna_krabappel-flanders:': 1821, 'winning': 1822, 'meals': 1823, 'wheel': 1824, 'riding': 4210, 'convenient': 4332, 'noble': 1825, \"plank's\": 1828, 'cesss': 1827, 'declared': 1829, 'oughtta': 1830, 'sugar-free': 5161, 'bindle': 5162, 'mission': 1831, 'rat': 5163, 'grammys': 5164, 'intrigued': 5165, 'conclude': 1832, 'indifference': 5167, 'lofty': 1833, 'her': 292, 'dilemma': 1834, 'awful': 1835, 'train': 1836, 'locklear': 5168, 'lovely': 1837, 'into': 6506, 'deli': 1840, 'pepto-bismol': 1839, 'open-casket': 6674, \"school's\": 5171, 'butterball': 5172, 'opportunity': 5173, \"beggin'\": 1841, 'wonderful': 5175, 'match': 5176, \"playin'\": 5178, \"neat's-foot\": 5179, 'bide': 1842, 'half-beer': 5180, 'color': 1843, 'sausage': 5181, 'nineteen': 5182, 'slugger': 5183, 'question': 1845, 'winner': 5184, 'invited': 294, 'damned': 5185, 'inserts': 1847, 'heh-heh': 5186, 'fact': 5187, \"bartender's\": 5188, 'catholic': 5190, 'sec': 4767, 'secrets': 1848, 'stay': 5191, 'season': 4214, 'christian': 1849, 'lady_duff:': 1850, 'hmm': 1496, 'reading': 1851, 'astronauts': 3086, 'glen': 3117, 'wonder': 5192, \"g'on\": 1852, 'stickers': 3118, 'authorized': 5194, \"that's\": 1994, 'cookies': 5196, 'position': 1854, 'hoagie': 1394, \"fans'll\": 5197, 'works': 1855, 'apu': 1856, 'wedding': 1857, 'helpless': 5198, 'tatum': 297, 'estranged': 1859, 'fresco': 1861, 'nigel_bakerbutcher:': 3653, 'rascals': 1862, 'reaches': 1864, 'alec_baldwin:': 5928, 'slapped': 3119, 'charming': 1865, 'sounds': 1866, 'chinua': 1867, 'buzz': 5199, 'body': 1868, 'bitterly': 1869, 'a': 5201, 'charter': 5202, 'gabriel': 5203, 'remember': 5204, 'family': 1870, 'arab_man:': 5205, 'bill_james:': 1871, 'managing': 5207, 'schmoe': 5497, 'days': 5208, 'hell': 1873, 'beneath': 5210, 'totalitarians': 5930, \"don't\": 1874, 'fondly': 5211, 'felt': 5212, 'besides': 1875, 'agnes_skinner:': 5213, 'suspenders': 862, \"one's\": 5214, 'finest': 1876, 'bump': 2532, 'knowingly': 5215, 'hide': 1877, 'colorado': 1880, 'photo': 1879, 'teach': 1881, 'mine': 5217, \"don'tcha\": 5219, \"nothin's\": 6515, 'need': 1882, 'david_byrne:': 3659, 'prefer': 3760, 'illegally': 1884, 'unjustly': 5221, 'babe': 2534, 'psst': 1885, 'fell': 5222, 'promised': 1886, 'tune': 5931, 'grabbing': 5223, 'bunch': 1887, 'agents': 1888, 'telemarketing': 1399, 'barkeep': 5224, 'looooooooooooooooooong': 5225, 'whaddaya': 1889, 'jane': 1890, 'stagehand:': 5226, 'comforting': 1892, 'horrors': 6516, 'mt': 5228, 'manboobs': 5229, 'brave': 5230, 'pass': 1893, 'sadly': 2110, 'over-pronouncing': 303, 'sidekick': 5231, 'necessary': 1894, \"game's\": 5232, 'connor': 5233, 'teenage_barney:': 1896, 'lottery': 1897, 'fwooof': 1898, 'important': 1899, 'unfair': 5234, 'suru': 1400, \"s'pose\": 5235, 'saga': 5236, 'lowers': 5237, 'unusual': 5239, \"g'night\": 5240, 'blur': 5241, 'squad': 1900, 'fdic': 1901, \"he'd\": 1902, \"c'mere\": 1904, 'roomy': 1905, 'cheese': 1906, 'selection': 194, 'trip': 5932, 'news': 1907, 'mexican': 5244, \"must've\": 1908, \"round's\": 5245, 'ho-ly': 1909, 'fighting': 1910, 'crumble': 5247, 'pillows': 1911, 'hyper-credits': 1912, 'end': 5248, 'chicken': 5249, 'boyfriend': 5250, 'michael_stipe:': 1913, 'jay_leno:': 5252, 'sucked': 1914, 'thought': 1915, 'beloved': 5253, 'avenue': 5254, 'spitting': 1917, 'yuh-huh': 5255, 'iddilies': 5256, 'weather': 5257, 'cigars': 1918, 'guttural': 5258, 'strategy': 1919, 'eye-gouger': 5259, 'piano': 5260, 'colossal': 5261, 'jigger': 1920, 'deadly': 1922, 'strokkur': 5263, 'coward': 1923, 'morose': 5264, 'whirlybird': 6591, 'burglary': 2543, 'blokes': 1925, 'up': 1926, 'boozer': 1927, 'hot': 5266, 'music': 5267, 'just': 5269, 'starts': 1928, 'landfill': 1929, 'clap': 3352, 'ride': 1931, 'putting': 5271, 'stopped': 5272, 'generally': 1932, 'lots': 5274, 'marge_simpson:': 1407, 'oh-so-sophisticated': 5275, 'flashing': 5936, 'watched': 5276, 'lorre': 1933, 'nonchalantly': 5277, 'plenty': 6671, 'dry': 1934, 'lucius:': 5279, 'sweetly': 1567, 'more': 5280, \"costume's\": 1935, 'we-we-we': 1936, 'tow-talitarian': 5281, 'troy': 6521, 'literature': 5282, 'tapping': 1937, 'moans': 1938, \"they'd\": 5283, 'using': 5337, 'angry': 1939, 'omigod': 2063, 'jams': 5284, 'talk': 3133, 'breathless': 1940, 'ripper': 1941, 'kisses': 1942, 'ehhhhhh': 5731, 'soul-crushing': 1943, 'girls': 5285, 'bust': 5286, 'uncle': 876, 'steely-eyed': 1945, 'mason': 6014, 'grope': 3674, 'wise': 877, 'ned': 1947, 'mural': 1948, 'undated': 5287, 'jackass': 5288, 'hi': 1949, 'towed': 1950, 'ticks': 5343, 'thirsty': 5289, 'safecracker': 1951, 'set': 5290, 'y-you': 5291, 'immiggants': 1952, \"i-i'll\": 1953, 'suburban': 1955, 'tv_husband:': 1956, 'carve': 1957, 'cage': 5795, 'flaking': 1960, 'legal': 1959, 'law-abiding': 4230, 'fingers': 1961, 'mill': 3136, 'shoot': 1962, 'saucy': 5293, 'runaway': 5294, 'turns': 2969, 'heavyweight': 5295, 'invulnerable': 5296, 'lenford': 1963, 'wholeheartedly': 5297, 'weirded-out': 5942, 'mcstagger': 5298, 'exhale': 5299, 'corporation': 5949, 'yourself': 1964, 'got': 5300, 'soon': 1965, 'tempting': 1966, 'pulls': 5302, 'springfield': 1968, 'freaking': 1969, 'praise': 1970, \"stinkin'\": 1971, 'reconsidering': 1972, 'chili': 5303, 'seymour_skinner:': 5944, 'beverage': 1974, 'twelve-step': 5305, \"depressin'\": 309, 'vomit': 1975, 'dregs': 1976, 'cruise': 1977, \"collector's\": 5309, 'what-for': 4785, 'stop': 1978, 'sexual': 5310, 'pinchpenny': 5311, 'mess': 5312, 'beam': 4710, 'misfire': 1980, 'grandiose': 5314, 'runners': 4235, 'water': 1981, 'moolah-stealing': 5316, 'rusty': 1982, 'mansions': 5318, 'life-threatening': 5319, 'well': 1983, 'cummerbund': 1984, 'patron_#2:': 5320, 'agh': 1985, 'johnny_carson:': 5321, 'whistles': 1986, 'and-and': 5322, 'cost': 1987, 'value': 5323, 'timbuk-tee': 5324, 'derisive': 1989, 'amount': 6630, 'cruel': 1990, 'acceptance': 5325, \"bladder's\": 5451, 'breaking': 1991, 'games': 6470, 'gags': 1992, 'banquo': 5326, 'huggenkiss': 1993, 'head': 1995, 'ahhhh': 1996, 'car:': 1997, 'certified': 5947, 'ground': 5327, 'hiding': 5328, 'heck': 5847, 'advice': 315, 'drives': 1998, 'heart-broken': 1999, 'examines': 4791, 'appear': 5329, 'eggs': 6531, 'walked': 5330, 'punches': 2000, 'necklace': 5331, 'anyway': 5332, 'flew': 4792, \"cat's\": 3049, 'gosh': 5952, 'outlive': 5333, 'dungeon': 5334, 'grave': 5335, \"it'll\": 2001, 'confidentially': 5336, 'growing': 6076, 'telephone': 2002, 'brief': 5338, 'spooky': 5339, 'jovial': 5340, 'studio': 5341, 'kramer': 2013, 'borrow': 5344, 'foodie': 6534, 'choking': 2004, 'after': 2005, 'terror': 3560, 'products': 2006, 'pharmaceutical': 5345, 'zack': 6535, 'wine': 5346, 'forget': 5347, \"bettin'\": 5348, 'chumbawamba': 2007, 'dint': 2008, 'intelligent': 2010, 'ollie': 2012, \"guy's\": 5349, 'homie': 2014, 'smelly': 5350, 'je': 2015, 'stained-glass': 2016, 'exactly': 5352, \"thinkin'\": 2017, 'between': 5353, 'hardwood': 5354, 'flame': 5355, \"'cause\": 2018, 'wishful': 2019, 'bowled': 2020, 'federal': 5351, 'eggshell': 5356, 'use': 2021, 'football_announcer:': 5357, 'glen:': 5358, 'drederick': 2023, 'kissed': 5359, 'enterprising': 5360, 'script': 2024, 'lovejoy': 2025, 'lame': 2026, 'wacky': 5361, 'recommend': 891, 'forgets': 5362, \"neighbor's\": 5363, 'squashing': 2027, 'away': 5364, 'militia': 2028, 'researching': 2029, 'habit': 5365, 'spend': 5366, 'coaster': 2030, 'ees': 5369, 'trenchant': 5370, 'stationery': 2031, 'quietly': 5371, 'causes': 2032, 'nachos': 2033, 'threatening': 2034, 'emporium': 5373, 'yee-ha': 5374, 'pregnancy': 2035, 'investment': 2036, 'mouth': 5376, 'polls': 2037, 'hammock': 3684, 'um': 2038, 'halfway': 5377, 'innocence': 5379, 'belches': 4800, 'bachelorette': 2039, 'sometime': 2040, 'nobody': 3685, 'bush': 5380, 'alley': 2041, \"moe's\": 5381, 'heartily': 4239, \"sat's\": 5382, 'knew': 2042, 'mags': 6542, 'army': 5383, 'considering': 5384, 'settles': 2043, 'honest': 2044, 'gear-head': 2046, 'journey': 5386, 'girlfriend': 5387, 'x': 2048, 'loudly': 5388, 'spanish': 4802, 'martini': 5389, 'refill': 2049, \"where's\": 2050, 'emergency': 2051, 'hooked': 2052, \"it's\": 5391, 'beef': 5394, 'rip-off': 5395, 'refinanced': 2053, 'brainheaded': 1423, 'yourselves': 2055, 'outlook': 2022, 'windelle': 5396, 'months': 5397, 'anyone': 4804, 'cold': 2056, 'sour': 5399, 'slightly': 5400, \"o'reilly\": 2057, '10:15': 2058, 'shifty': 2059, 'needed': 2061, 'exultant': 5402, 'thinks': 1185, 'knife': 2062, 'rabbits': 5962, 'string': 5403, 'fl': 2065, 'miss_lois_pennycandy:': 5404, 'luxury': 5405, 'partly': 5406, 'strangles': 2066, 'party': 2067, 'grim': 2068, 'focus': 2069, \"tree's\": 5407, 'loss': 5408, 'shame': 5409, 'tiger': 2070, 'clearing': 2571, 'gift': 5410, 'bartholomã©:': 5553, \"america's\": 2071, 'contract': 5412, 'forty': 2072, 'endorsement': 5413, 'fixed': 2073, 'solo': 5414, 'embarrassing': 4244, 'sheets': 5415, 'sinister': 2074, 'orphan': 5417, 'shutting': 2075, 'ones': 5963, 'taunting': 2076, 'hispanic_crowd:': 2077, 'swelling': 2078, 'tuborg': 5890, 'warren': 5418, \"speakin'\": 2079, 'normals': 6548, 'drinker': 2080, 'moe_szyslak:': 5419, 'sharps': 2081, 'domestic': 2082, 'nursemaid': 2083, 'rice': 5420, 'goodwill': 5421, 'nation': 2084, 'century': 2085, 'cowboys': 5423, 'doll': 5424, 'falsetto': 2086, 'kegs': 5426, 'celebrate': 2087, 'indignant': 5427, 'reliable': 2088, 'pity': 5428, 'venture': 3694, 'deliberate': 4246, 'larson': 2089, 'dangerous': 5430, 'krusty_the_clown:': 5431, 'ummmmmmmmm': 5432, 'pancakes': 6549, 'shaken': 5433, 'choice': 2091, 'jolly': 5434, 'should': 2092, 'prices': 5435, 'vin': 3156, 'kim_basinger:': 2093, 'eats': 3695, \"blowin'\": 5436, 'dazed': 2094, 'supposed': 5437, 'ivana': 2095, 'prison': 5439, 'naked': 5440, 'health_inspector:': 5441, 'little_man:': 5442, 'changed': 5443, 'spilled': 2096, 'snatch': 2097, 'panties': 2098, 'reluctant': 2099, 'horrified': 6146, 'seems': 5507, 'dough': 2100, 'bits': 5444, 'sustain': 5446, 'declare': 5447, 'snow': 5449, \"writin'\": 5452, 'index': 2957, \"where'd\": 2101, 'broken': 5453, 'begin': 6552, 'gordon': 2102, 'saint': 5454, 'cappuccino': 2105, 'brilliant': 3700, \"bart'd\": 3160, 'cheerleaders:': 5455, 'disillusioned': 2106, 'pretends': 5456, 'filthy': 5457, 'rain': 1432, 'carmichael': 5458, 'rats': 2107, \"wasn't\": 5459, 'entirely': 5460, 'book': 2108, 'store': 5034, 'dozen': 6161, 'sangre': 1434, 'fight': 5462, 'shocked': 5463, 'government': 5464, 'railroads': 5465, 'television': 5466, 'code': 5467, 'purse': 2111, 'gheet': 2112, 'perch': 5367, 'soaked': 5469, 'puzzled': 2113, 'percent': 1438, 'l': 5470, 'lonely': 2114, 'fat': 2115, 'twin': 2116, 'unusually': 5471, 'ballclub': 2117, 'application': 5472, 'kirk': 5368, 'ringing': 2118, 'amnesia': 5473, 'awkwardly': 2119, 'kiss': 5474, 'by': 2120, 'challenge': 5475, 'glitz': 2121, 'tummies': 2122, 'dating': 5974, 'pulitzer': 2123, 'moe_recording:': 2124, 'rev': 5477, 'flaming': 2125, 'button': 5478, 'victorious': 2126, 'piece': 5479, 'scanning': 2127, 'kept': 2128, 'coma': 5481, 'somewhere': 2130, 'yoo': 5483, 'ow': 2131, 'training': 2132, 'exit': 2133, 'entire': 6559, 'uniforms': 5484, 'peppers': 2134, 'synthesize': 5486, 'tips': 568, 'world': 2135, 'kicks': 3716, \"tinklin'\": 5487, 'perfunctory': 2136, '||comma||': 2137, 'wrote': 2138, 'sobs': 2139, 'boisterous': 5488, 'bought': 3709, 'skins': 2140, 'warranty': 2141, 'gulps': 5491, 'credit': 2142, 'banks': 2143, 'chair': 5492, 'shriners': 5985, 'ping-pong': 5372, 'excitement': 5493, 'buddha': 5494, 'pernt': 5495, 'guide': 5496, 'ninety-eight': 2144, 'releasing': 6562, 'manjula': 4252, 'thirty-nine': 1448, 'shop': 3711, 'assume': 5498, 'distance': 5499, 'kazoo': 6565, 'nor': 2145, 'asses': 2146, 'recorded': 2147, 'environment': 2148, 'volunteer': 6371, 'burns': 5503, 'doom': 5504, 'hop': 5505, 'muscle': 5506, 'handshake': 5976, 'bull': 4131, 'drive': 2149, 'shoes': 2150, 'walther': 1684, 'again': 2151, 'swings': 5508, 'repay': 2152, 'kenny': 2155, 'dimly': 5509, 'nevada': 5510, 're-al': 5375, 'you-need-man': 5511, 'been': 3715, \"'n'\": 910, 'detail': 2156, 'informant': 3170, 'disappointment': 6705, 'detecting': 5512, 'amber_dempsey:': 5513, 'restaurant': 2158, 'rush': 2159, 'barney-guarding': 5979, 'knives': 5515, 'sing-song': 5516, 'nervously': 5517, 'test-lady': 2160, 'grinch': 5518, 'bird': 5519, 'noises': 2161, 'blimp': 2162, 'morlocks': 5520, 'ignoring': 2163, 'nibble': 2164, 'wangs': 2165, 'hanh': 5522, 'winnings': 2166, 'new': 5523, 'fountain': 5524, 'cheering': 2167, 'starlets': 2168, 'fica': 2169, 'floor': 5525, 'frog': 2170, 'aggravated': 2171, 'helped': 2172, 'word': 2173, 'philosophic': 2175, 'annoyed': 1451, 'instantly': 1452, 'spent': 2177, 'helllp': 2178, \"should've\": 2179, 'donated': 6572, 'romantic': 2180, 'hoo': 2182, 'lennyy': 916, 'fill': 5530, 'bash': 5531, 'five-fifteen': 2183, 'tons': 2184, 'arguing': 5532, \"burnin'\": 5533, 'prank': 5534, 'benjamin': 5535, 'smiling': 5536, 'take-back': 5538, 'gal': 5539, 'startled': 2185, 'problem': 2186, 'mobile': 5540, 'three': 5541, 'pay': 2187, 'minutes': 5544, 'employees': 5545, 'domed': 5546, 'lookalikes': 5983, 'busted': 5547, 'patriotic': 5548, 'gulliver_dark:': 5549, 'tasty': 2188, 'b': 5550, 'musketeers': 2189, 'justify': 2190, 'fence': 1298, 'represent': 2191, 'sen': 2192, 'newsweek': 868, 'benjamin:': 2193, 'in': 2195, 'celebrities': 4824, 'anonymous': 2198, 'absentmindedly': 2199, \"spaghetti-o's\": 2200, 'country': 2202, 'catching': 5556, 'fainted': 5557, 'clipped': 5558, 'told': 2203, 'rainforest': 2204, 'sprawl': 2205, 'judges': 6577, 'logos': 2206, 'captain': 2207, 'indicates': 2208, 'spelling': 2209, 'tv-station_announcer:': 5560, 'p': 5561, 'faced': 2210, 'grade': 2216, 'avalanche': 2213, 'betcha': 2214, \"fine-lookin'\": 2215, 'cheaped': 2822, 'pyramid': 4827, 'washer': 2217, 'presently': 2218, 'beats': 5563, 'fool': 2219, 'yeah': 5565, 'shhh': 2220, 'xx': 2222, 'fist': 2709, \"lovers'\": 5567, 'fanciest': 5568, 'boozebag': 2223, 'liar': 3723, 'twenty-two': 5984, 'pajamas': 5570, 'ears': 2224, 'perfected': 5571, 'trusted': 5573, 'now': 2226, 'because': 1557, \"edna's\": 5575, 'computer': 2227, 'mate': 5576, 'takes': 5577, 'denver': 5578, 'alma': 2228, 'helen': 1366, 'childless': 2230, 'fly': 1588, 'roll': 2231, 'understood:': 5580, 'emphasis': 5581, 'producers': 2232, 'stingy': 6024, 'befriend': 5582, 'rubbed': 5583, 'filth': 5584, 'on': 5585, 'cooker': 5586, 'failed': 4831, 'delightful': 2233, 'theory': 5587, 'ingrates': 2234, 'soap': 5975, 'pennies': 2236, 'ultimate': 2237, 'ball-sized': 2949, 'italian': 5588, 'go': 6511, 'cat': 2238, 'chick': 5589, 'bumped': 5590, 'ugliest': 5592, 'finishing': 2239, 'white_rabbit:': 2240, 'eternity': 6673, 'kicked': 5639, 'seem': 6579, 'love-matic': 2241, 'acting': 5597, 'phrase': 5598, 'crawl': 2242, 'yet': 5529, 'handle': 5986, 'milk': 5599, 'teen': 5600, 'roy': 5601, 'sick': 5602, 'man_with_tree_hat:': 5528, 'suspiciously': 4266, 'sorry': 2243, 'helicopter': 5871, 'ding-a-ding-ding-a-ding-ding': 2244, 'scared': 2605, 'hose': 2245, 'getaway': 5605, 'bedtime': 2607, 'buttocks': 2246, 'pitch': 1341, 'milks': 2247, 'talkers': 5607, 'bret': 2248, \"mo'\": 5608, 'introduce': 2249, 'naegle': 1464, 'darts': 5609, 'distributor': 2045, 'disaster': 2250, 'vampire': 2047, 'elocution': 2251, 'finding': 5611, 'saved': 5612, 'ab': 1599, 'drunks': 5613, 'settlement': 5614, 'retired': 1465, \"breakin'\": 3728, 'trolls': 2252, 'senators:': 6658, 'dressed': 2253, 'commission': 6581, 'ore': 5616, 'house': 923, 'goblins': 5617, 'sabermetrics': 5618, 'bags': 5619, 'may': 2254, 'worked': 5620, 'home': 2255, 'transmission': 5621, 'hourly': 2256, 'jobless': 2257, 'achebe': 1469, \"fryer's\": 5625, 'oak': 2258, 'drown': 5626, 'rude': 2260, 'joining': 2261, 'lead': 5292, 'apu_nahasapeemapetilon:': 5762, 'choices:': 5628, 'grienke': 1472, 'lazy': 5629, 'vacations': 2262, 'wing': 5631, 'supplying': 2263, 'man_at_bar:': 2264, 'whiny': 5632, 'etc': 2265, 'quero': 2266, 'working': 5633, 'gorgeous': 5635, 'measurements': 2267, 'squeal': 5636, 'international': 2268, 'hilarious': 5637, 'peace': 1474, 'opens': 5640, 'acquitted': 2269, 'spender': 5641, 'prohibit': 5642, 'erasers': 5643, 'apply': 3732, 'photographer': 2270, 'butts': 5645, 'raise': 5390, 'scratching': 2271, 'kemi': 2272, \"she'll\": 4072, 'strong': 2273, 'asked': 2611, 'hike': 5646, 'transylvania': 5647, 'hardy': 2274, 'eye': 5648, 'glummy': 5649, 'fourteen:': 6587, 'dana_scully:': 2614, 'off': 3301, 'wittgenstein': 2275, 'lady': 5651, 'belly-aching': 5652, 'louse': 2276, \"what'll\": 2277, 'jail': 2054, 'thirty-five': 2278, 'wraps': 357, 'packets': 2279, 'overhearing': 5655, 'shesh': 3735, 'pledge': 5656, 'jebediah': 2281, 'relative': 2282, 'around': 5657, 'class': 2283, \"foolin'\": 2284, 'supports': 5658, 'philip': 3736, 'live': 2285, 'young_homer:': 5661, 'jailbird': 5662, 'tank': 2286, 'dark': 5675, 'done:': 5663, 'obama': 2287, 'ruin': 5664, 'cherry': 2288, 'pain': 2619, 'dna': 2289, 'rosey': 2290, \"didn't\": 2291, 'dumbest': 2292, 'vacuum': 5666, 'testing': 2293, 'banquet': 5667, 'sideshow': 2294, 'likes': 5670, 'hugh': 5671, \"queen's\": 5672, 'bugging': 2295, 'boxer': 5674, 'der': 2296, 'movies': 2297, 'duffed': 5676, 'dank': 5677, 'join': 2298, 'light': 3673, 'leonard': 2299, 'burn': 363, 'nigeria': 6778, 'hear': 5679, 'restless': 2300, \"bart's\": 2301, 'superhero': 932, 'poetics': 3538, 'cover': 2302, 'cards': 2303, 'nick': 2304, 'number': 6608, 'thawing': 3193, 'dyspeptic': 3740, 'duffman:': 935, \"b-52's:\": 5682, 'craft': 5683, 'plane': 5684, 'its': 2305, 'bites': 5685, 'campaign': 2307, 'animals': 2308, 'clone': 2311, 'perfume': 2310, 'abercrombie': 5401, 'feeling': 2312, 'worth': 5689, 'curiosity': 2313, 'lenny:': 2314, 'brains': 5690, 'release': 5692, 'begins': 2315, 'cushions': 2316, 'compromise:': 5693, 'gang': 2060, 'survive': 5694, 'ambrosia': 6212, 'motto': 3384, 'caveman': 5696, 'quadruple-sec': 1483, 'pontiff': 5699, 'massachusetts': 2317, 'above': 4849, 'carny:': 5701, 'attractive_woman_#2:': 5996, 'conspiracy': 2318, 'cuz': 5702, 'over': 2319, 'raises': 2320, 'greatly': 5704, 'clothespins:': 2321, 'yoink': 2323, 'larry:': 5997, 'bill': 2324, 'hunting': 5705, '&': 5706, 'explaining': 5707, 'betrayed': 3742, 'extreme': 5709, 'insurance': 5710, 'large': 5711, 'ralphie': 5712, 'various': 2326, 'funny': 4273, '_montgomery_burns:': 2327, 'leprechaun': 2328, 'passed': 5713, 'bail': 2329, 'course': 5716, 'grieving': 5998, 'chew': 2330, 'third': 2331, 'kearney_zzyzwicz:': 5717, 'agent_johnson:': 5719, 'las': 5720, 'considers': 2627, 'afloat': 6599, 'edner': 5721, 'lenses': 5722, 'endorse': 5723, 'expecting': 5724, 'ho-la': 5725, 'simplest': 2332, 'crystal': 2333, \"'im\": 2334, 'entertainer': 5727, 'terrace': 4276, 'words': 5728, 'throw': 2335, 'sequel': 5729, 'homer': 2336, 'donation': 2337, 'fayed': 2338, 'sexton': 3199, \"talkin'\": 5732, \"we'd\": 1492, 'snide': 2339, 'enjoyed': 5733, 'mediterranean': 5734, 'enjoy': 5911, 'supermodel': 2340, 'at': 6603, 'truck': 425, 'santeria': 2341, 'cronies': 2342, 'clock': 2343, 'leans': 2344, 'fraud': 2346, 'grateful': 5738, 'founded': 2347, 'buzziness': 2348, 'refresh': 2349, 'bible': 3746, 'rip': 2350, 'minister': 6605, 'troll': 5741, 'wake': 2351, 'wowww': 2352, 'cyrano': 5743, 'consciousness': 3636, 'indeedy': 2353, 'radiation': 2354, 'elect': 2355, 'butt': 372, 'backing': 2356, 'someday': 2357, 'c': 5745, 'wally': 942, 'hunky': 5746, 'prayers': 5747, 'goes': 2358, 'blow': 2359, \"tomorrow's\": 5748, 'bon-bons': 2360, 'garbage': 1495, 'column': 5751, 'something': 375, 'blowfish': 4853, 'pilsner-pusher': 2361, 'dames': 5752, 'moving': 1497, 'community': 2362, 'spy': 2363, 'bleacher': 2364, 'annual': 5753, 'sit': 2365, 'dirge-like': 5754, 'owns': 5755, 'meal': 2366, 'dracula': 2367, 'sets': 5757, 'hopeful': 2368, 'deacon': 945, 'crinkly': 3749, 'began': 5758, 'insensitive': 5759, 'courts': 5760, 'street': 5761, 'happily:': 2369, 'gold': 2370, 'linda_ronstadt:': 2634, 'help': 2371, 'hole': 5766, 'huge': 5767, 'touches': 2372, 'options': 5768, 'names': 4856, 'patterns': 5769, 'irrelevant': 2373, 'ingested': 2374, 'strictly': 2375, 'shoots': 2376, 'grenky': 5770, 'forgive': 5771, 'hollowed-out': 5772, 'as': 2377, 'bathing': 2378, 'fair': 2379, 'understanding': 2380, 'latour': 2381, 'screws': 5774, 'moe-clone:': 5775, 'tobacky': 5776, 'mel': 5777, 'rub-a-dub': 6557, 'nã£o': 5778, 'stalking': 2382, 'persia': 5779, \"'s\": 2383, 'action': 2384, \"tryin'\": 2385, 'chain': 2386, 'americans': 2388, 'robbers': 5416, 'noosey': 2389, \"puttin'\": 2390, 'shaved': 2391, 'ask': 3968, 'donor': 2392, \"tap-pullin'\": 2393, 'wildfever': 2395, 'waters': 2396, 'nail': 2397, 'broad': 5785, 'flack': 951, 'temp': 3755, 'cola': 5788, 'non-american': 2398, 'customer': 2399, 'correct': 2400, 'tasimeter': 2401, 'problemo': 3999, 'short': 2402, 'screams': 5791, 'absolut': 6620, 'additional-seating-capacity': 5792, \"plaster's\": 2403, 'touch': 2404, 'knowledge': 1505, 'mis-statement': 2405, 'quimbys:': 5797, 'shaking': 5798, 'scatter': 2406, 'delivery': 5800, 'hairs': 2407, 'lance': 2408, 'lump': 2409, 'moments': 2410, 'shoe': 5802, 'english': 2411, 'courthouse': 5803, 'behavior': 5804, 'hardhat': 6189, 'looked': 2412, 'insults': 5805, 'changing': 6320, 'tears': 4773, 'faith': 6009, 'winces': 5806, 'ziff': 5807, 'lingus': 952, 'grain': 2413, 'hangover': 5809, 'stinks': 5810, 'compels': 2414, 'knowing': 2415, 'embarrassed': 5813, 'boring': 5814, 'movement': 5815, \"that'd\": 5816, '_babcock:': 2416, 'feet': 5818, 'spits': 2417, 'win': 2418, 'iran': 2419, 'remembered': 3758, 'bike': 2420, 'yours': 2235, 'breakdown': 2421, 'squabbled': 5821, 'replace': 2422, 'stores': 5823, 'rainier': 955, 'low': 5824, 'booze': 2423, 'ladder': 5826, 'smoke': 6627, 'nose': 2425, 'jumps': 5827, 'way': 5828, 'okay': 5829, 'means': 2426, 'plant': 5831, \"cont'd:\": 5832, 'incognito': 2427, 'planet': 5833, 'samples': 3214, 'wipes': 6247, 'rubs': 2428, 'unfresh': 2429, 'pub': 6012, 'mm': 2430, 'stern': 2431, 'dr': 2432, 'stupidest': 5838, 'i/you': 2434, 'frat': 2435, 'control': 388, \"duelin'\": 2436, 'attracted': 5839, 'pills': 127, 'bart': 2437, 'misconstrue': 2439, 'overflowing': 2440, 'someplace': 2647, 'pronto': 5840, 'jeff_gordon:': 2441, 'mac-who': 2442, 'tip': 1511, \"i-i'm\": 2443, 'r': 5841, 'boat': 2444, 'swill': 1512, \"o'\": 5842, 'to': 2445, \"drawin'\": 2446, 'drains': 5843, 'hygienically': 960, 'mirthless': 391, 'years': 6624, 'every': 5422, 'drink': 5846, 'notably': 2449, 'draw': 2448, 'were': 5848, 'driver': 2450, 'pipes': 2451, 'unrelated': 5851, 'alva': 2452, 'thousands': 962, 'typed': 2454, 'neighbor': 395, 'steamed': 2455, 'bed': 3764, 'donut-shaped': 2457, 'scrutinizes': 5853, 'busy': 6747, 'kick': 964, 'diablo': 2458, 'sec_agent_#2:': 5425, 'temper': 1516, 'summer': 5855, 'act': 2459, 'bartender': 1519, 'cannoli': 5857, 'example': 965, 'joy': 3765, 'doreen': 5859, 'bono:': 5860, 'w-a-3-q-i-zed': 1018, 'attach': 2460, 'ginger': 5861, 'die-hard': 5268, 'puts': 2461, 'comment': 2462, 'splendid': 5862, 'future': 5863, 'remembers': 2463, \"raggin'\": 5864, 'barn': 2464, 'writing': 2465, 'prettiest': 2466, 'mayor': 6023, 'serum': 2467, 'saget': 5865, 'riveting': 5866, 'eating': 2468, 'upgrade': 2469, 'trucks': 5867, 'aggravazes': 2470, 'together': 6025, 'michael': 5868, 'pasta': 2471, 'spectacular': 6640, 'dang': 2473, 'nemo': 2475, \"stallin'\": 2476, 'half-back': 5869, 'folks': 2477, 'completely': 5870, 'gasps': 2478, 'wade_boggs:': 5872, 'chinese_restaurateur:': 6030, 'gayer': 2479, 'floating': 2480, 'chill': 5876, 'it:': 2481, 'coney': 5429, 'shaggy': 5878, 'aged_moe:': 5879, 'tried': 5880, 'starting': 2482, 'kansas': 1979, 'payback': 5881, \"wonderin'\": 2484, 'better': 5883, 'videotaped': 2485, 'sponge': 5884, 'billingsley': 5885, 'camera': 2486, 'ding-a-ding-ding-ding-ding-ding-ding': 2090, 'until': 5886, 'undermine': 967, 'danny': 2488, 'clear': 2489, 'ahhh': 5887, 'please': 2491, 'sturdy': 5888, 'scrape': 5889, 'exception:': 2492, 'decided': 2496, 'proof': 2494, 'peeping': 2495, 'named': 6645, \"snappin'\": 2497, 'broke': 5892, 'system': 2498, 'program': 5893, 'rafters': 2499, 'sea': 1838, 'discussing': 5894, 'drunkenly': 1528, 'ah': 5895, 'duff_announcer:': 3771, 'stage': 5897, \"haven't\": 5898, 'fixes': 2500, 'eight-year-old': 2501, 'wreck': 2502, '_kissingher:': 2503, \"they've\": 5900, 'panicked': 5901, 'pugilist': 2504, 'attitude': 5902, 'completing': 2505, 'dunno': 2506, 'joe': 2507, 'cowboy': 5905, 'customers-slash-only': 2508, 'feel': 6647, 'smuggled': 5907, 'unfamiliar': 2509, 'giggle': 5908, 'text': 2510, 'churchill': 901, \"tv's\": 5910, 'simp-sonnnn': 4878, 'publishers': 5912, 'laughter': 971, 'confident': 2511, 'punching': 2512, 'sixty-five': 2513, 'enemies': 5913, 'mumbling': 5914, 'urge': 2515, 'nailed': 2516, 'urinal': 5915, 'civil': 5916, 'nagurski': 2517, 'roach': 2518, 'chase': 5917, 'bridge': 5918, 'done': 2519, 'plain': 5920, 'promotion': 2520, 'keeping': 5922, '2nd_voice_on_transmitter:': 5923, 'vampires': 2521, 'cheaper': 2522, \"somethin's\": 6038, 'crappy': 5926, 'propose': 974, 'dies': 6650, 'fictional': 4302, \"cuckold's\": 2523, 'laws': 2524, 'guff': 2525, 'schorr': 6040, 'sistine': 5927, 'rug': 2526, 'labor': 2527, 'putty': 2528, 'julep': 5929, 'pants': 2529, 'punch': 2530, 'blood-thirsty': 2531, \"dolph's_dad:\": 2533, 'arrest': 2535, 'clubs': 2536, \"grandmother's\": 2537, 'deer': 2538, 'where': 2539, 'warning': 2540, \"england's\": 977, 'formico': 2541, 'explain': 2542, \"readin'\": 6709, 'backgammon': 5933, 'nbc': 6654, 'cuff': 5934, 'oblongata': 2544, 'baseball': 2545, 'conditioner': 4305, 'contemptuous': 5935, 'singers:': 4882, 'cocks': 2546, \"renovatin'\": 2547, 'blade': 6044, 'is:': 5937, 'demo': 5938, 'share': 5939, 'whose': 5940, \"livin'\": 2548, 'mouse': 2549, 'rainbows': 5941, 'cash': 2550, \"pullin'\": 2551, 'conversations': 5943, 'price': 2552, 'ken:': 2553, 'wears': 5945, 'bar': 2554, 'uneasy': 2555, 'nordiques': 5946, 'pockets': 6656, 'judge_snyder:': 2556, 'cadillac': 2557, 'brandy': 2606, 'owner': 2558, 'archaeologist': 5951, 'businessman_#1:': 2829, 'blind': 2559, 'who': 5953, 'penmanship': 5954, 'newest': 2560, 'culkin': 5955, \"dad's\": 2561, 'devils:': 2562, 'natured': 2563, 'plastic': 5956, 'superpower': 5957, 'occupancy': 2564, 'tied': 2565, 'or': 5958, 'kneeling': 5445, 'thousand-year': 5959, 'powerful': 2567, 'dumbbell': 5960, 'snaps': 2568, 'unsourced': 5961, 'wants': 2569, 'wire': 3236, 'wounds': 2570, 'land': 2572, 'heals': 2573, 'kwik-e-mart': 5450, 'thrown': 4309, 'bars': 2574, 'delays': 2575, 'begging': 5965, 'dee-fense': 5966, 'cecil_terwilliger:': 3781, 'cheapskates': 2576, 'himself': 2577, 'lord': 5969, 'lindsay_naegle:': 5970, 'jerks': 6663, 'kidney': 5971, 'needy': 5972, 'forbidden': 2578, 'press': 6664, 'agent_miller:': 6553, 'partners': 3241, 'icelandic': 5973, 'gestated': 2579, 'inches': 2580, \"lisa's\": 3143, 'teams': 2581, 'self': 2582, 'maitre': 2583, \"knockin'\": 2584, 'tentative': 2585, 'jerk': 5306, 'coin': 2586, 'evening': 5977, 'ford': 2587, 'meant': 2588, 'buy': 2589, 'memories': 2590, 'swatch': 5978, 'till': 2591, 'stays': 5980, 'shark': 2592, 'depression': 5981, 'rafter': 2593, 'stadium': 2104, 'covering': 924, \"car's\": 2594, \"payin'\": 5089, 'language': 2595, 'municipal': 2818, 'stretches': 2596, 'greystash': 2597, 'violations': 2598, 'gasp': 5654, 'comes': 2599, 'ninety-six': 2600, 'absentminded': 2601, 'vicious': 2602, 'trust': 2604, 'james': 2608, 'selma': 2609, 'tying': 2610, 'badges': 6669, 'singer': 1544, 'heart': 2612, 'umm': 5989, \"you're\": 2613, 'personal': 2615, 'puke-holes': 2616, 'traitors': 5990, 'deal': 2617, 'in-in-in': 4000, 'janette': 2620, 'oooo': 5993, 'rounds': 5994, 'bad': 5995, 'bauer': 5537, 'searching': 6471, 'barkeeps': 2621, 'full-blooded': 2622, 'food': 2623, 'satisfied': 989, 'phlegm': 6672, 'eddie:': 2624, 'rag': 2625, '_powers:': 2626, 'gifts': 2628, 'express': 5999, 'wang': 2629, 'impeach': 6000, 'kermit': 4891, 'examples': 6001, 'boggs': 2109, 'spare': 2630, 'edelbrock': 2631, 'ails': 4646, 'period': 2632, 'four-star': 5461, 'rumor': 6318, 'wings': 2633, 'windshield': 2635, 'palm': 6003, 'surprised': 6004, 'stored': 2636, 'stalin': 6006, 'sink': 2637, \"high-falutin'\": 6007, 'sauce': 2638, 'brace': 3790, 'led': 2669, 'suicide': 2639, 'brakes': 6008, 'whispers': 2640, 'double': 2641, 'experiments': 2642, 'touched': 2643, 'stengel': 6010, 'east': 2644, 'career': 3316, 'problems': 2645, 'marmaduke': 6011, 'neck': 2673, 'cosmetics': 5964, 'choice:': 2646, 'laughs': 6015, 'sternly': 2648, 'opening': 6016, 'watch': 2649, 't-shirt': 2650, 'alcohol': 3793, 'pickles': 6055, 'leftover': 6017, 'vodka': 2651, 'dan_gillick:': 6018, 'guts': 2652, 'almond': 2653, 'stairs': 2654, 'cleaned': 6020, 'sex': 6597, 'boston': 6021, 'einstein': 6022, \"swishifyin'\": 2655, \"rasputin's\": 2656, 'beach': 6026, 'wolfe': 6027, 's': 6028, 'faceful': 6029, 'continued': 6031, 'glass': 2675, 'knock-up': 2657, 'rump': 6032, 'distraught': 6033, 'prep': 2658, 'pop': 2659, 'flea:': 2660, \"monroe's\": 6034, 'yawns': 2661, 'paste': 6035, 'salt': 6680, 'sedaris': 6036, 'organ': 2662, 'bono': 6682, 'some': 6037, 'which': 996, 'maiden': 2663, 'delivery_man:': 6041, 'flash': 2664, 'church': 6042, 'showed': 6043, 'ing': 1549, 'castle': 6092, 'nuts': 6045, 'watered': 1596, 'rewound': 2679, 'generosity': 2665, 'skirt': 2666, 'punishment': 5468, 'gin-slingers': 2667, 'leathery': 6047, \"children's\": 6683, 'rom': 6048, \"askin'\": 4688, 'dismissive': 6013, 'deeper': 6049, 'pages': 2668, 'amends': 1101, 'squeals': 4207, 'mozzarella': 6051, 'fustigate': 6052, 'brunch': 6053, 'practice': 2671, 'wham': 3562, 'bets': 6054, 'amazed': 2672, 'brings': 1282, 'waylon_smithers:': 2674, 'sieben-gruben': 2676, 'peanuts': 6057, 'so': 2677, 'lloyd:': 2678, 'probably': 422, 'label': 999, 'handler': 4897, \"wallet's\": 6058, 'finished': 2680, 'eyeball': 2681, 'whisper': 6061, 'connection': 6524, 'rome': 2683, 'wigs': 6062, 'ha': 6708, 'produce': 2684, 'twenty-five': 6063, \"smackin'\": 6064, 'symphonies': 2685, 'woman': 6059, 'blood': 6067, 'exciting': 2686, 'grunt': 2687, 'ohmygod': 6069, 'electronic': 6070, 'other_player:': 2688, 'filled': 1556, 'picture': 424, 'smiled': 2689, 'tha': 2690, 'sugar-me-do': 6072, 'loves': 2975, 'ew': 6074, 'police': 2691, 'marry': 2682, 'fish': 6075, 'turkey': 2692, 'hundred': 6077, 'conversation': 2693, 'potatoes': 2694, 'investigating': 6078, 'birthday': 2695, 'bastard': 6079, '530': 2696, 'sap': 2697, 'scrubbing': 2698, 'following': 2699, 'pictured': 6080, 'pleading': 2700, 'yep': 2701, \"havin'\": 2702, 'stranger:': 6081, 'clench': 6082, 'trainers': 2703, 'hoped': 2704, 'author': 2705, 'stolen': 6085, 'sticking-place': 2707, 'streetcorner': 6086, 'terrifying': 2708, 'blob': 2710, 'sniffs': 3103, 'ideas': 6088, 'moan': 2711, 'ons': 1660, 'according': 6089, 'clown': 1562, 'smooth': 2712, 'exhaust': 2713, 'curious': 2715, 'breathtaking': 6090, 'savvy': 2716, \"barney's\": 2717, 'fontaine': 4326, 'gave': 2718, 'enabling': 2719, 'same': 2720, 'tastes': 2721, 'conversion': 2722, \"cashin'\": 6094, \"he'll\": 2723, 'did': 4215, 'extremely': 2725, 'frustrated': 2726, 'clothespins': 2727, 'supreme': 2728, 'slim': 6096, 'groveling': 2129, 'mayan': 5476, 'unearth': 2729, 'luckiest': 6097, 'sneeze': 2980, 'kinda': 6098, 'foil': 6068, 'composite': 2730, 'year': 4906, 'dennis_kucinich:': 6100, 'myself': 2731, 'disdainful': 2732, 'co-sign': 2733, 'raining': 6101, 'fortune': 2734, 'accidents': 6103, 'multiple': 2735, 'situation': 6104, 'soaking': 6106, 'shipment': 5023, 'gotten': 2736, 'tuna': 6071, 'allow': 2737, 'fantasy': 2738, 'steak': 4330, 'dan': 6108, 'sketching': 4909, 'demand': 6746, 'brother': 2739, 'liability': 6289, 'mount': 4203, 'congoleum': 2740, 'killer': 2741, 'attention': 5480, 'ferry': 6109, 'experienced': 6110, 'women': 6111, 'liven': 6112, 'creates': 6113, ':': 2742, \"shootin'\": 6114, 'rims': 2743, 'morning': 6115, 'sensitivity': 6117, 'kid': 2744, 'cutie': 6073, 'wad': 6118, 'teriyaki': 6120, 'reasons': 6121, 'sitcom': 2745, 'brick': 2746, 'doubt': 2747, 'novel': 3809, 'pine': 2748, 'become': 2749, 'proposing': 2750, 'ralph_wiggum:': 6123, 'pretend': 2751, 'ways': 2752, 'eyed': 6125, 'canyoner-oooo': 2753, 'part': 2754, 'burger': 6126, 'tornado': 2755, 'fruit': 6127, 'bumblebee_man:': 4911, 'stepped': 2757, 'grow': 6128, 'fortensky': 2758, 'bully': 2759, 'marvelous': 6129, 'full': 6131, 'grants': 2760, 'low-blow': 2761, 'm': 2762, 'panicky': 6133, 'seconds': 6134, 'caholic': 2763, \"tatum'll\": 6135, 'african': 6136, 'twenty': 3813, \"chewin'\": 1954, \"drinkin'\": 2764, 'thoughtfully': 2765, 'really': 2766, 'doppler': 6551, 'anyhow': 2768, 'cutest': 6137, 'door': 6138, 'slurred': 2769, 'ironic': 6140, 'score': 2603, 'service': 5482, 'authenticity': 1006, 'leg': 3263, 'counterfeit': 6141, 'smurfs': 6142, 'tv_announcer:': 2770, 'sloe': 6143, 'of': 2771, 'swell': 2772, 'grind': 6144, '50-60': 6145, 'exchange': 1574, 'rem': 2773, 'whistling': 2774, 'results': 1270, 'jogging': 6147, 'seats': 2775, 'heavens': 2776, \"beer's\": 2777, 'beer:': 1084, 'spit': 6151, 'capuchin': 5485, 'smoker': 2778, 'pre-columbian': 6153, 'loyal': 4339, 'read:': 1577, 'loathe': 2779, \"coaster's\": 3066, 'dingy': 2780, 'aging': 1578, 'jubilant': 2781, 'wok': 6698, 'canoodling': 2782, 'sympathizer': 6155, 'smallest': 6157, 'build': 426, 'bar_rag:': 6158, '||dash||': 2783, 'side': 2784, \"i'unno\": 2785, 'wa': 6160, 'hippies': 2197, '||exclamation_mark||': 2786, 'non-losers': 2788, 'sector': 6163, 'chub': 2789, 'kirk_van_houten:': 2790, 'mcclure': 6164, 'closet': 6165, 'de': 5398, 'artie': 2791, 'slit': 6166, 'lover': 6167, 'else': 2792, 'sickens': 2793, 'sign': 2795, 'taxes': 6169, 'hillbillies': 2796, 'meteor': 2797, \"murphy's\": 6171, 'worldview': 6083, 'hooters': 6172, 'gun': 6173, 'fifth': 2798, 'feisty': 2799, 'wow': 2800, 'lanes': 5845, 'man_with_crazy_beard:': 2801, 'fears': 2802, 'horribilis': 2803, 'otherwise': 2804, 'scram': 2805, 'difference': 6084, 'lemme': 2806, 'shack': 2807, 'monorails': 5489, 'bucks': 6177, 'groans': 2808, 'noose': 2809, 'achem': 6178, 'handoff': 6179, 'watt': 6181, 'free': 1468, \"singin'\": 2810, 'parasol': 6182, 'hawking:': 1380, 'log': 6184, 'self-esteem': 2811, 'club': 4345, 'ditched': 6185, 'sheet': 6186, 'vanities': 2812, \"shan't\": 2813, 'unforgettable': 2706, 'wudgy': 6187, 'egg': 4348, 'mock-up': 198, 'rolling': 441, 'ohh': 2814, 'walk': 2815, 'cartoons': 2816, 'young_marge:': 6193, 'wood': 2817, 'chuck': 2820, 'might': 2819, 'mind': 6194, 'mafia': 2821, 'sport': 2823, 'closed': 6195, 'calendars': 5799, 'missing': 2824, \"toot's\": 6198, 'germans': 2825, 'bret:': 6704, 'paying': 2826, 'across': 6200, 'menacing': 2827, \"hasn't\": 2831, 'ale': 2832, \"getting'\": 3270, 'weary': 2833, 'cab': 2834, 'frenchman': 2835, 'backbone': 2836, 'portfolium': 2837, 'plotz': 6204, 'toe': 6206, 'tries': 6207, 'clears': 6208, 'doing': 6209, 'idealistic': 2839, 'champion': 6211, 'inspector': 2840, 'happily': 6213, 'the_rich_texan:': 2714, 'narrator:': 6214, 'trouble': 6215, \"there's\": 6216, 'diamond': 2841, 'politicians': 2842, 'grampa_simpson:': 2843, 'buyer': 6217, 'ashtray': 2844, 'salary': 5773, \"liberty's\": 2845, 'jesus': 6218, 'helping': 4356, 'unbelievably': 6219, 'barflies': 6091, \"what'd\": 2846, 'losers': 6220, 'desperately': 6221, 'ehhh': 6222, 'dress': 2847, 'ran': 2848, 'sincerely': 2849, 'schnapps': 6223, \"people's\": 2850, 'an': 941, 'proud': 6225, 'totally': 6226, 'saying': 4357, 'computer_voice_2:': 6228, 'rivalry': 6229, 'intruding': 2851, 'slogan': 6231, 'winston': 6267, 'lenny': 6232, 'doof': 2852, 'kadlubowski': 2853, 'headhunters': 6093, 'coughs': 6234, 'senators': 446, 'learned': 2854, 'feld': 2855, 'runt': 2856, 'rat-like': 2857, 'shrugging': 6239, 'gentleman:': 2858, 'traitor': 2859, 'department': 5987, 'birth': 6743, 'due': 2860, 'cauliflower': 6241, 'smells': 2861, 'grease': 2863, 'she-pu': 2864, 'specialists': 2724, 'heavyset': 2865, 'thirteen': 2866, 'alter': 2868, 'whether': 2870, 'such': 2869, 'weight': 3274, 'majority': 2871, 'shoulders': 4930, 'tracks': 1014, 'holiday': 6574, 'medicine': 3828, 'guess': 6242, 'guzzles': 2872, 'support': 6095, 'tenor:': 2873, 'wave': 3925, 'quebec': 6245, 'peaked': 6246, 'effigy': 452, 'ron_howard:': 2875, 'artist': 2876, 'are': 6248, 'shush': 2877, 'channel': 2878, 'kodos:': 4933, 'huddle': 5500, 'goodbye': 6250, 'modest': 4932, 'hotenhoffer': 4364, 'soft': 702, 'thought_bubble_lenny:': 6397, \"moe's_thoughts:\": 2879, 'miracle': 5501, 'geyser': 1600, 'chipped': 2880, 'spot': 5502, \"'morning\": 2881, 'long': 6251, 'image': 6252, 'power': 2882, 'bronco': 2883, 'fat-free': 2884, 'precious': 2885, 'deserve': 2886, 'fishing': 2887, 'seymour': 6254, 'tapestry': 2889, 'sheepish': 2890, 'meaning': 6255, 'limits': 6256, 'asking': 2891, 'ruuuule': 6258, \"summer's\": 6259, 'somebody': 6260, 'wistful': 2892, 'serious': 2893, 'served': 4365, 'stock': 2895, \"table's\": 2896, 'pathetic': 2897, 'cozies': 6263, 'dime': 6264, 'iranian': 1431, 'cocking': 6265, 'furniture': 6266, 'oof': 3795, 'characteristic': 6099, 'swine': 6711, 'mmm': 6269, 'masks': 2898, 'tap': 6270, 'toms': 5624, 'playful': 2899, 'yards': 2900, 'gator:': 2901, \"wearin'\": 2902, 'bathtub': 2904, 'lurleen': 2905, 'ragtime': 2906, \"smokin'\": 6409, \"you've\": 2907, 'twelve': 2908, 'nickel': 6272, 'jokes': 2909, 'spirit': 2910, 'stirrers': 6275, 'dentist': 6276, 'allegiance': 4255, 'suffering': 6278, 'grace': 2911, 'hit': 3835, 'excuses': 2912, 'resenting': 2913, \"y'see\": 2914, 'issues': 6279, 'hostages': 6568, 'followed': 6280, 'pipe': 1482, 'swig': 6281, '14': 2915, 'gr-aargh': 2916, 'attractive': 4763, 'disgracefully': 2917, 'prince': 2918, 'teenage_homer:': 6356, 'krusty': 2919, 'directions': 6429, 'sam:': 1088, 'blend': 2920, 'director': 2921, 'crooks': 6283, 'cracked': 3839, 'bolting': 4369, \"number's\": 6724, 'szyslak': 2922, 'many': 6102, 'virility': 2923, 'rasputin': 1023, 'wolfcastle': 2924, 'koji': 6286, 'sandwich': 2925, 'gunter': 4938, 'snotty': 6287, 'lighting': 2926, \"heat's\": 2927, 'mole': 5817, 'separator': 2929, 'sensible': 6290, 'kang:': 6291, 'meet': 6292, 'attractive_woman_#1:': 2154, \"valentine's\": 2930, 'cause': 2931, 'tom': 6294, 'amber': 2932, 'shower': 2935, 'hyahh': 2934, 'thought_bubble_homer:': 254, 'weapon': 6296, 'stunned': 4373, 'brusque': 2936, 'homers': 6298, 'groan': 6299, 'hobo': 3286, 'expense': 2937, 'little_hibbert_girl:': 6300, 'drunk': 2938, 'hangs': 2939, 'triangle': 3940, 'dreamy': 1026, 'tidy': 6301, 'hollywood': 6302, 'read': 6303, 'inherent': 2941, 'showing': 2942, 'rent': 6304, 'nuked': 4377, 'social': 6307, 'hmmmm': 6308, 'bowie': 6309, \"c'mon\": 6310, 'simpson': 2943, 'tofu': 2944, 'luv': 6312, 'about': 2945, 'winch': 2946, 'gimme': 2947, 'suppose': 2948, 'blooded': 6314, \"football's\": 2157, 'civilization': 2951, 'mither': 2950, 'abandon': 2952, 'dishonor': 6315, 'white': 6105, 'hexa-': 2953, 'hmmm': 3845, 'material': 3282, 'chip': 6316, 'poking': 6317, 'progress': 2954, 'eighty-three': 6319, 'heads': 2955, 'unattractive': 2956, 'outta': 2958, 'start': 865, 'sub-monkeys': 2959, 'sledge-hammer': 6322, 'stupidly': 2960, 'hibbert': 2961, 'repeating': 2962, 'remote': 6323, 'temple': 6324, 'slick': 2963, 'spellbinding': 2964, 'monkeyshines': 6261, 'rings': 6325, 'j': 2965, 'abcs': 2966, 'experience': 6107, 'hearing': 2967, 'ze-ro': 6327, 'went': 6328, 'infiltrate': 4384, 'jã¤germeister': 2968, 'frosty': 2970, 'lager': 6329, 'tow-joes': 6330, 'dogs': 2971, 'creature': 6331, 'adrift': 2972, 'ancient': 6333, 'delivery_boy:': 5514, 'takeaway': 6334, 'mortal': 6335, 'monkey': 6336, 'hired': 6338, 'stacey': 2973, 'wha': 2974, 'dirt': 6340, 'recent': 2976, 'shelbyville': 4386, 'signed': 6583, 'kidding': 2978, 'combine': 2979, 'thnord': 6342, 'pig': 2981, 'awareness': 6343, 'ayyy': 5218, 'field': 6019, 'lousy': 2982, 'fit': 2983, 'stuff': 6346, 'she': 466, 'steal': 6348, 'quite': 6349, 'festival': 6722, \"handwriting's\": 6386, 'uncomfortable': 2984, 'highball': 6723, 'book_club_member:': 5035, 'amiable': 6352, 'stares': 2985, \"president's\": 2986, 'adeleine': 2987, 'present': 6353, 'tender': 2211, 'seemed': 6354, 'musical': 2988, 'far': 6355, 'hurt': 2989, 'bet': 2990, 'address': 6358, 'radio': 6359, 'idioms': 2991, 'bury': 2992, 'anything': 2993, 'rupert_murdoch:': 3849, 'labels': 2994, 'dig': 4388, 'susie-q': 2995, 'macbeth': 3294, 'tones': 6361, 'suits': 1039, 'chained': 2996, 'fonzie': 1617, 'chosen': 2997, 'jacques': 6726, 'barf': 6363, 'week': 2998, 'calculate': 2999, 'yelp': 6364, \"lady's\": 6365, 'once': 3000, 'advertising': 3001, 'drug': 6367, 'say': 6368, 'lushmore': 3002, 'nah': 6369, 'network': 3003, 'awesome': 3004, 'lift': 6370, 'thoughtful': 6372, 'murdoch': 3005, 'barney_gumble:': 3006, 'dramatically': 6373, 'remaining': 3007, 'scream': 1620, 'concerned': 3008, 'kidnaps': 3009, 'afternoon': 4947, 'admitting': 3010, 'quick-like': 3011, 'sure': 6374, 'drunkening': 6376, 'diaper': 6377, 'boxing': 6378, 'awfully': 3012, 'sudoku': 5094, 'star': 3013, 'cliff': 3014, 'offshoot': 4056, 'furious': 3018, 'midnight': 3017, 'arabs': 364, 'daniel': 6381, 'andy': 6382, 'protesters': 3019, 'habitrail': 3217, \"somethin':\": 3772, 'holds': 3020, 'photos': 6383, 'squeezed': 3021, 'david': 3022, 'phase': 3023, 'character': 2838, \"shouldn't\": 1653, 'loan': 4394, 'rebuttal': 3024, 'maintenance': 5393, 'boozehound': 6389, 'dizzy': 3025, 'baloney': 3026, 'vincent': 6390, \"nixon's\": 3028, 'pats': 3029, 'meaningless': 3030, 'beautiful': 6392, 'actress': 3031, 'encouraged': 6393, 'couple': 6394, 'paints': 6395, 'richard:': 3032, 'always': 6116, 'coincidentally': 6398, 'barter': 3033, 'dictating': 1044, 'pitcher': 6399, 'honeys': 3034, \"mopin'\": 3035, 'elmer': 3036, 'trail': 6402, 'cut': 6403, 'nope': 6404, 'mail': 3037, 'effects': 6406, 'kind': 3038, 'thru': 5096, 'mayor_joe_quimby:': 3039, 'one-hour': 3040, 'weak': 5526, 'lying': 4398, 'pantsless': 3041, 'site': 3042, 'sunday': 1916, 'indeed': 6411, 'wobbly': 6412, 'alls': 6413, 'dreary': 3043, 'snap': 6415, 'announcer:': 6417, 'night-crawlers': 4953, 'cheerier': 2174, 'lookalike': 6419, \"treatin'\": 3151, \"'ere\": 1628, 'allowance': 6421, 'stories': 3044, 'themselves': 3045, 'bubble': 3047, 'confidence': 3855, 'madison': 3048, 'design': 6423, 'disappear': 4399, 'inflated': 6424, 'high': 6426, 'gangrene': 1630, 'lotta': 3050, 'moustache': 3051, \"could've\": 3052, 'coast': 6427, 'ads': 3055, 'horses': 3054, 'belts': 3056, 'aboard': 6432, 'vacation': 6433, 'ends': 6434, \"y'money's\": 6435, \"spyin'\": 3057, 'hate-hugs': 6437, 'second': 6438, 'what': 313, 'woo': 3058, 'closer': 6440, 'states': 6586, 'so-ng': 6122, 'recall': 3861, 'whoever': 6442, 'lovelorn': 6443, 'ripping': 3304, 'quotes': 6522, 'trying': 451, 'wanted': 6445, \"linin'\": 3862, 'flophouse': 6124, 'human': 6732, 'cheesecake': 6446, 'gasoline': 3060, 'peach': 3061, 'listens': 6448, 'whining': 3062, 'sympathetic': 3063, \"g'ahead\": 2181, 'mic': 4402, 'temples': 3065, 'ã€': 2940, 'routine': 6451, 'unlocked': 6452, 'mistresses': 755, \"pope's\": 3069, 'comedies': 6454, 'sickened': 3071, 'hearse': 2894, 'badge': 6456, 'angel': 3073, 'automobiles': 3074, 'gift:': 6457, 'pudgy': 2756, 'decide': 6459, 'vengeance': 6460, 'savings': 6461, 'joey': 6462, 'getup': 6463, 'vigilante': 3592, 'my-y-y-y-y-y': 6465, 'bender:': 3075, 'unbelievable': 6467, 'his': 6468, 'creme': 5739, 'tradition': 3076, 'corkscrews': 6472, \"robbin'\": 3077, 'neon': 3078, 'dead': 3079, 'advantage': 3080, 'thirty-three': 6473, 'sips': 3082, 'gesture': 6474, 'bloodball': 6475, 'looting': 3083, 'earrings': 6476, 'murderously': 4403, \"clancy's\": 6477, 'sobriety': 3085, 'ass': 3087, 'apart': 5490, 'bleeding': 3088, 'frozen': 6479, 'walther_hotenhoffer:': 6480, 'attend': 3089, 'possessions': 6482, 'times': 3090, 'aw': 4960, 'radiator': 3091, 'pointless': 6484, 'golf': 6485, 'intention': 6487, 'bus': 3092, 'uncreeped-out': 3865, 'march': 5882, \"cleanin'\": 6489, 'push': 3093, 'milhouse': 6132, 'radical': 6490, 'seriously': 3094, 's-a-u-r-c-e': 6491, 'lost': 3095, 'ninety-seven': 3096, 'presidential': 6492, 'apartment': 3097, 'eighty-six': 3098, 'numeral': 3099, 'advertise': 2862, 'anti-intellectualism': 3100, 'six': 6495, 'seductive': 3402, 'chug-monkeys': 3101, 'woodchucks': 3102, 'team': 3104, 'not': 3105, 'assumed': 6497, 'bouquet': 3106, 'jerky': 3870, \"dimwit's\": 3107, \"i'd\": 3108, 'and/or': 3800, 'matter-of-fact': 4143, 'dollars': 3109, 'so-called': 487, 'brother-in-law': 6501, 'cop': 3110, 'woman_bystander:': 6502, 'mention': 6519, 'geez': 3111, 'applicant': 6503, 'alarm': 6504, 'upon': 6505, 'fox_mulder:': 489, 'tinkle': 3113, 'sheriff': 1057, 'haplessly': 3114, \"i'd'a\": 3115, 'tolerable': 2003, 'activity': 1640, 'digging': 3116, \"'your\": 4410, 'foam': 4121, 'ducked': 6507, 'came': 6508, 'though:': 6509, 'luck': 6510, 'onto': 3120, 'blaze': 6512, 'ech': 3121, 'beligerent': 3122, \"friend's\": 3123, 'dory': 6513, 'health': 3124, 'hubub': 6514, 'stars': 3125, 'kay': 3126, 'gator': 6517, 'wenceslas': 3127, 'stagy': 3128, 'small_boy:': 3129, \"ball's\": 4536, 'eh': 3130, 'owned': 6518, 'tony': 3131, 'quality': 3309, 'gut': 492, 'offa': 6520, 'rods': 6740, 'amid': 5921, 'troy:': 5877, \"isn't\": 3132, 'badly': 3134, 'beep': 3135, 'without:': 494, 'drop': 3137, 'kings': 3138, 'evasive': 6525, 'weirder': 6526, 'sending': 994, 'sickly': 3140, 'toy': 6527, 'twenty-nine': 6528, 'regretful': 6529, 'gary_chalmers:': 6481, 'scum': 6532, 'fans': 3141, 'host': 6533, 'feelings': 6139, 'protesting': 3142, 'increasingly': 3144, \"ma's\": 6744, 'wife': 6536, 'brain-switching': 3145, 'heaving': 6453, 'handwriting': 3146, 'blocked': 6537, 'weekly': 6538, 'half-day': 3147, 'terminated': 6539, 'greedy': 4413, 'hunter': 3148, 'carolina': 6540, 'thomas': 5991, 'exclusive:': 3988, 'though': 3149, 'reason': 4965, 'tear': 3150, 'collette:': 6543, 'worry': 1647, 'specified': 6544, 'teacher': 6545, 'men': 1648, 'reserve': 6546, 'ocean': 3152, 'solved': 6547, 'bow': 3153, 'settled': 502, 'radioactive': 3154, 'nards': 3155, 'hoax': 1650, 'geysir': 3157, 'kucinich': 3158, 'irish': 4417, 'waking-up': 3159, 'overstressed': 505, 'give': 6554, 'jernt': 6555, \"'bout\": 6556, 'city': 3161, 'unable': 3162, 'foot': 4418, 'discriminate': 6558, 'gol-dangit': 3163, 'howya': 6560, \"y'know\": 3164, 'relaxed': 3165, 'slow': 3166, 'buried': 3167, 'bag': 6563, 'stonewall': 4970, 'eventually': 6564, 'cleaner': 6566, 'pretending': 3168, 'hotline': 3171, 'hare-brained': 1657, 'stuck': 6567, 'chicks': 3172, 'graves': 6570, 'couch': 507, 'cigarettes': 3173, 'whee': 6571, 'killarney': 3174, 'expert': 3175, 'gel': 3176, 'refund': 1142, \"carl's\": 6573, 'crow': 3177, 'ye': 6575, 'dizer': 3179, 'japanese': 6576, \"messin'\": 3410, 'switch': 3180, 'chapter': 3181, 'raising': 3182, 'babies': 6578, 'schabadoo': 3183, 'prizefighters': 3184, 'medical': 3185, 'forever': 6580, 'madonna': 3186, 'agreement': 5551, 'sometimes': 3187, 'muscles': 3188, 'least': 6582, 'a-lug': 6584, 'ling': 3189, \"disrobin'\": 6585, \"kiddin'\": 1853, 'finance': 3190, 'worried': 6588, 'spread': 6755, 'brawled': 3747, \"s'okay\": 6589, 'underbridge': 3112, 'wordloaf': 6056, 'lease': 3191, 'lose': 1266, 'voters': 3192, 'you': 6592, 'band': 3194, 'occurrence': 5262, 'person': 6594, \"bo's\": 6596, 'have': 2194, 'graveyard': 3195, 'chorus:': 1663, 'adjourned': 6598, 'best': 3196, 'eu': 3197, 'looser': 3198, 'calls': 6401, 'magazine': 6600, 'motorcycle': 6602, \"bar's\": 5552, 'whoops': 3200, 'legally': 1791, 'given': 3201, 'angrily': 5048, 'pre-game': 6604, 'venom': 3202, 'tense': 6607, 'treats': 3203, 'place': 6759, 'guest': 5554, 'lotsa': 6609, 'wish-meat': 2903, 'puke-pail': 6610, 'dã¼ffenbraus': 3883, 'kl5-4796': 4639, 'streetlights': 6612, 'u': 6613, 'genius': 6614, 'turn': 3204, 'cranberry': 2201, 'dials': 6615, 'planning': 5555, 'scene': 6617, 'bake': 6618, \"somethin'\": 6619, \"fallin'\": 3205, 'neat': 4858, 'annie': 3206, 'shoulder': 6621, 'huh': 3207, 'assistant': 3208, \"this'll\": 3209, 'sports_announcer:': 3210, 'frink': 3885, 'money': 3211, 'dealt': 3212, \"startin'\": 2064, 'fall': 6626, 'hurting': 3213, 'eighty-five': 3215, 'hated': 6444, 'hail': 6631, 'speed': 3216, 'positive': 6633, 'i-i-i': 5559, 'washouts': 3218, \"rustlin'\": 6634, 'astonishment': 3326, 'sampler': 3219, 'mmmmm': 5992, 'shorter': 3220, 'lowering': 6635, 'ugh': 3221, 'cletus_spuckler:': 6636, 'bragging': 6637, \"starla's\": 3222, 'flown': 6130, 'feed': 6642, 'upn': 1073, 'flatly': 6643, 'gals': 6644, 'insulin': 3223, 'jets': 6646, 'kickoff': 3224, 'eva': 3225, 'pretentious_rat_lover:': 6648, 'that': 3226, 'grunts': 3227, 'became': 5665, 'twerpy': 6149, 'shirt': 3228, \"'topes\": 1670, 'hm': 6676, 'cares': 6649, 'tree_hoper:': 6150, 'bursts': 6632, 'irs': 6652, 'has': 6653, 'appropriate': 3229, 'saturday': 3230, 'practically': 6655, 'chief_wiggum:': 3231, 'punkin': 3232, 'military': 3233, 'shells': 6659, 'stocking': 3577, 'clincher': 3234, \"how's\": 6660, 'bloodiest': 6661, 'plan': 3235, 'sacrifice': 3237, 'distinct': 3238, 'slipped': 6662, 'astronaut': 6152, 'predecessor': 3239, 'case': 3240, 'adequate': 3242, 'prejudice': 6665, 'patrons:': 6666, 'elite': 6667, 'jeers': 3243, 'mid-conversation': 3244, 'whatsit': 3245, 'tire': 6670, 'art': 519, 'murmur': 3333, 'grammar': 3246, \"now's\": 3247, 'election': 3248, 'happened': 6675, 'bar-boy': 3249, \"pickin'\": 3250, 'predictable': 3251, 'blues': 6677, 'costume': 3252, 'appreciate': 3253, 'too': 6678, 'valuable': 2212, 'kako:': 6681, 'ehhhhhhhh': 3254, 'under': 2618, 'bums': 6684, 'spine': 6685, 'gentles': 6686, 'sweeter': 6687, 'hank_williams_jr': 1522, 'right': 5919, '100': 3255, 'coherent': 3256, 'mmmm': 6689, 'fringe': 3257, 'school': 1470, 'located': 6690, 'buffalo': 1676, 'can': 3258, 'turlet': 6154, 'mix': 6691, 'sobbing': 3514, 'cries': 3259, 'agent': 3260, 'flat': 6692, 'sly': 3261, \"tony's\": 6693, 'sunny': 4426, 'freeze': 6694, 'mccarthy': 1157, 'dishrag': 6695, 'playhouse': 6696, 'faded': 1677, 'jewish': 3262, 'lend': 6697, 'ohhhh': 6156, 'lists': 6699, 'loud': 3898, 'wrestle': 6700, 'answered': 6701, 'grabs': 5564, 'mike': 3264, 'dennis': 3265, 'raggie': 3266, 'thesaurus': 3267, 'sale': 3268, 'octa-': 6702, 'stops': 6703, 'uh-huh': 1678, 'silent': 3269, 'laramie': 2221, 'nature': 3271, 'tabooger': 6706, 'partially': 527, 'bottles': 3084, 'available': 3272, 'fired': 1527, 'granted': 6707, 'scientists': 6148, 'pleased': 4429, 'message': 3273, 'meditative': 1285, 'nicer': 3275, 'burps': 3276, 'alphabet': 1196, \"leavin'\": 6450, 'ha-ha': 6710, 'stumble': 3386, 'cuddling': 3277, 'fools': 6712, 'statistician': 3278, 'care': 3279, 'bonfire': 4985, 'moonnnnnnnn': 5569, 'nahasapeemapetilon': 1508, 'film': 3280, 'th': 5735, 'world-class': 3283, 'catty': 3284, 'maxed': 3285, 'swishkabobs': 4433, 'playoff': 3287, 'aghast': 5615, 'na': 6715, 'throat': 6716, 'inserted': 3288, 'suit': 6717, 'eco-fraud': 6718, 'au': 3289, 'texan': 3290, \"drexel's\": 4850, \"soundin'\": 5782, 'crippling': 5105, 'catch': 6719, 'voice_on_transmitter:': 6720, 'shyly': 2225, 'peanut': 2787, \"what'sa\": 5572, 'flourish': 6721, 'move': 3291, 'ebullient': 3292, 'imagine': 6725, 'follow': 3293, 'portuguese': 3295, 'managed': 3296, 'bottom': 6727, 'pin': 6774, \"phone's\": 3297, 'scornful': 3298, 'find': 3341, 'million': 6192, 'then:': 6651, 'multi-purpose': 6729, 'filed': 5574, 'doy': 222, 'casting': 3299, 'thousand': 4435, 'stevie': 3300, 'reviews': 3905, 'them': 3303, \"aren't\": 3302, 'smokes': 6730, 'crotch': 6731, 'principles': 4028, 'trashed': 3908, 'joke': 3305, 'before': 6734, 'pussycat': 3306, 'yes': 6736, 'combination': 3307, 'dollar': 4087, 'shores': 6738, 'julienne': 3308, 'stand': 6739, 'milhouse_van_houten:': 3311, 'beatings': 3310, '1895': 1089, 'ecru': 6741, 'trade': 2229, \"drivin'\": 6742, 'odd': 3312, \"can't-believe-how-bald-he-is\": 3913, \"world's\": 3313, 'forgiven': 3314, 'tablecloth': 3315, 'hushed': 6745, 'moment': 6601, 'gumbo': 3915, 'sweater': 3317, 'amazing': 6748, 'except': 3318, 'curds': 3319, 'out': 3320, 'nudge': 6749, 'slays': 1883, 'op': 6750, 'gin': 6751, 'radishes': 6753, 'cocktail': 2794, \"jackpot's\": 6754, 'arms': 6756, 'fry': 1685, 'beating': 6757, 'am': 5579, 'andrew': 6758, '35': 3321, 'optimistic': 3322, 'job': 1607, \"industry's\": 3323, 'reasonable': 3324, 'chapstick': 6760, 'recreate': 3325, 'aged': 3327, '6': 3328, 'sidelines': 6761, 'fellow': 3329, 'fbi_agent:': 3330, 'tough': 3346, 'convinced': 6762, 'today/': 4440, 'wallet': 6776, 'calling': 4667, 'expect': 3331, 'pinball': 3332, 'pushes': 3334, 'supermarket': 6764, 'ungrateful': 3335, 'make:': 6765, 'steam': 6766, 'pre-recorded': 3336, 'admit': 6767, 'heaven': 6768, 'spite': 6769, 'patient': 3337, 'expose': 3338, 'hate': 3339, 'resolution': 6770, 'relax': 1687, 'ingredient': 3340, 'extinguishers': 646, 'icy': 1690, 'dislike': 5737, 'intoxicants': 6771, '3': 6772, 'partner': 6773, \"team's\": 6119, 'cigarette': 6170, 'tv_wife:': 3342, 'whatchamacallit': 3343, \"jimbo's_dad:\": 3344, 'surgery': 6306, 'nice': 3345, 'upset': 1097, 'wind': 3347, 'singing/pushing': 6777, 'ripcord': 3348, 'inexorable': 3349, 'combines': 3350, 'lips': 4442, 'jumping': 540}\n",
      "<<<< int_to_vocab >>>> \n",
      " {0: 'motel', 1: 'naval', 2: 'payments', 3: 'desperate', 4: 'blows', 5: 'race', 6: 'captain:', 7: 'singing', 8: 'single-mindedness', 9: 'uh', 10: 'guilt', 11: 'sagely', 12: 'jeff', 13: 'stinky', 14: 'duel', 15: 'harm', 16: 'show', 17: 'crazy', 18: 'twenty-six', 19: 'children', 20: 'alcoholic', 21: 'female_inspector:', 22: 'limericks', 23: 'tail', 24: 'parrot', 25: 'booking', 26: 'snapping', 27: \"ain't\", 28: 'sharity', 29: 'generously', 30: 'knit', 31: 're:', 32: 'generous', 33: 'blinds', 34: \"homer's\", 35: 'nameless', 36: 'sell', 37: 'sissy', 38: 'desire', 39: 'lobster-politans', 40: 'infestation', 41: 'scores', 42: 'newsletter', 43: 'links', 44: 'worldly', 45: 'earpiece', 46: 'three-man', 47: 'corkscrew', 48: 'aerosmith', 49: 'said', 50: 'mice', 51: 'smug', 52: 'easter', 53: 'french', 54: 'kissing', 55: 'space-time', 56: 'genuinely', 57: 'pas', 58: 'washed', 59: 'pickle', 60: 'glorious', 61: 'urban', 62: 'plaintive', 63: 'impending', 64: 'odor', 65: 'owe', 66: 'ten', 67: 'date', 68: 'evil', 69: 'movie', 70: 'bottle', 71: 'breaks', 72: 'things', 73: 'mug', 74: 'speaking', 75: 'decent', 76: 'easier', 77: 'cup', 78: 'ratio', 79: 'thanks', 80: 'try', 81: '||quotation_mark||', 82: 'stiffening', 83: 'woooooo', 84: 'injury', 85: 'shag', 86: 'finale', 87: 'different', 88: 'ahead', 89: 'extract', 90: 'change', 91: 'go-near-', 92: 'england', 93: \"makin'\", 94: 'taylor', 95: 'slurps', 96: 'thirty-thousand', 97: 'dea-d-d-dead', 98: 'heroism', 99: 'ridiculous', 100: 'feedbag', 101: 'clenched', 102: 'slyly', 103: 'ribbon', 104: 'something:', 105: 'freaky', 106: 'stripe', 107: 'fledgling', 108: 'moe-ron', 109: 'already', 110: 'california', 111: 'figure', 112: 'frescas', 113: 'mccall', 114: \"cupid's\", 115: 'suspended', 116: 'oil', 117: 'room', 118: 'incredulous', 119: 'seas', 120: 'diet', 121: 'pee', 122: 'ralph', 123: 'title', 124: 'indifferent', 125: 'eyesore', 126: 'hall', 127: 'pills', 128: 'pawed', 129: 'legoland', 130: 'tribute', 131: 'usual', 132: 'hanging', 133: 'phasing', 134: 'verticality', 135: 'he', 136: 'sec_agent_#1:', 137: 'fellas', 138: 'let', 139: 'alien', 140: 'men:', 141: 'dice', 142: 'smelling', 143: 'aggie', 144: 'confession', 145: 'nectar', 146: 'disturbing', 147: 'pall', 148: 'appeals', 149: '70', 150: 'socialize', 151: 'flashbacks', 152: 'moonlight', 153: 'raging', 154: 'gutenberg', 155: 'boneheaded', 156: 'betty:', 157: 'medieval', 158: 'donuts', 159: '7g', 160: 'explanation', 161: 'wrestling', 162: 'divorced', 163: \"we'll\", 164: 'bedbugs', 165: 'flower', 166: 'kisser', 167: 'richer', 168: \"who'da\", 169: 'life-partner', 170: 'girl-bart', 171: 'thing', 172: 'sanitation', 173: 'reality', 174: 'losing', 175: 'thirty', 176: 'neighborhood', 177: 'pack', 178: 'sweetheart', 179: 'dejected_barfly:', 180: 'bowling', 181: 'heartless', 182: 'midge:', 183: 'everything', 184: 'bright', 185: 'bread', 186: 'roz:', 187: 'bulletin', 188: 'grandkids', 189: 'stu', 190: 'provide', 191: 'sing', 192: 'gimmick', 193: 'monster', 194: 'selection', 195: 'dropping', 196: 'cupid', 197: 'emotional', 198: 'mock-up', 199: 'living', 200: 'sideshow_mel:', 201: 'swimming', 202: 'smiles', 203: 'starving', 204: 'artie_ziff:', 205: 'kentucky', 206: 'ninety-nine', 207: 'oils', 208: 'single', 209: 'manjula_nahasapeemapetilon:', 210: 'wieners', 211: 'gumbel', 212: 'country-fried', 213: 'office', 214: 'un-sults', 215: 'red', 216: 'ice', 217: \"we're\", 218: 'six-barrel', 219: 'royal', 220: 'first', 221: \"weren't\", 222: 'doy', 223: 'yea', 224: 'democracy', 225: 'humiliation', 226: 'reunion', 227: 'mop', 228: \"gentleman's\", 229: 'awwww', 230: 'pronounce', 231: 'eurotrash', 232: 'caricature', 233: 'ahem', 234: 'abusive', 235: 'hops', 236: 'multi-national', 237: \"floatin'\", 238: 'gargoyle', 239: 'midge', 240: 'e', 241: 'all-all-all', 242: 'sent', 243: 'tommy', 244: 'badmouth', 245: 'horror', 246: 'yellow-belly', 247: 'spit-backs', 248: 'statue', 249: 'bathed', 250: 'terrific', 251: 'pays', 252: 'night', 253: 'darn', 254: 'thought_bubble_homer:', 255: 'adjust', 256: 'scout', 257: \"santa's\", 258: 'hustle', 259: 'humanity', 260: 'soul', 261: 'bleak', 262: 'danish', 263: 'toys', 264: 'swimmers', 265: 'deliberately', 266: 'chanting', 267: 'sense', 268: 'gone', 269: 'minimum', 270: 'boo', 271: 'mimes', 272: 'evergreen', 273: 'safer', 274: 'albert', 275: 'belly', 276: 'owes', 277: '||right_parentheses||', 278: 'for', 279: \"what's\", 280: 'respect', 281: 'painted', 282: 'soup', 283: 'parents', 284: 'send', 285: 'gruesome', 286: \"wife's\", 287: 'loved', 288: 'anxious', 289: 'coined', 290: 'f-l-a-n-r-d-s', 291: 'snort', 292: 'her', 293: \"mtv's\", 294: 'invited', 295: 'mull', 296: 'bachelor', 297: 'tatum', 298: 'choked-up', 299: 'crowbar', 300: 'test-', 301: 'forecast', 302: 'flames', 303: 'over-pronouncing', 304: 'voicemail', 305: 'brightening', 306: 'juice', 307: 'declan', 308: \"comin'\", 309: \"depressin'\", 310: 'wikipedia', 311: 'snotball', 312: 'son-of-a', 313: 'what', 314: 'syrup', 315: 'advice', 316: 'nurse', 317: 'stick', 318: 'hero', 319: 'swigmore', 320: 'porn', 321: 'rugged', 322: 'furiously', 323: 'portentous', 324: \"yesterday's\", 325: 'effect', 326: 'perfect', 327: 'coupon', 328: 'king', 329: 'obsessive-compulsive', 330: 'michelin', 331: 'united', 332: 'ivory', 333: 'items', 334: 'wiggum', 335: 'think', 336: 'delicious', 337: 'mabel', 338: 'honored', 339: 'ape-like', 340: 'crummy', 341: 'wasting', 342: 'friendship', 343: 'heard', 344: 'dumbass', 345: 'funeral', 346: 'occupied', 347: 'thank', 348: 'ugly', 349: 'skills', 350: 'henry', 351: 'hundreds', 352: 'fun', 353: 'society_matron:', 354: 'rotten', 355: 'barstools', 356: 'meeting', 357: 'wraps', 358: 'lipo', 359: 'roses', 360: 'dear', 361: 'enlightened', 362: 'beans', 363: 'burn', 364: 'arabs', 365: 'passports', 366: 'uses', 367: 'celebrity', 368: 'spending', 369: 'playing', 370: 'bonding', 371: 'exploiter', 372: 'butt', 373: 'reminded', 374: '||left_parentheses||', 375: 'something', 376: 'minus', 377: 'cap', 378: 'shred', 379: \"lenny's\", 380: 'spreads', 381: 'fresh', 382: 'mad', 383: 'bubbles-in-my-nose-y', 384: 'paper', 385: 'shutup', 386: 'disguised', 387: 'citizens', 388: 'control', 389: 'endorsed', 390: 'especially', 391: 'mirthless', 392: 'booth', 393: 'neighbors', 394: 'grab', 395: 'neighbor', 396: 'drank', 397: 'gentle', 398: 'bumpy-like', 399: 'carl_carlson:', 400: 'moonshine', 401: 'colonel:', 402: 'cotton', 403: 'gus', 404: 'professor', 405: 'crack', 406: 'belt', 407: 'hang', 408: 'countryman', 409: 'burp', 410: 'ratted', 411: 'decide:', 412: 'shoulda', 413: '_timothy_lovejoy:', 414: 'presided', 415: 'intense', 416: 'thoughtless', 417: 'chocolate', 418: 'reactions', 419: 'dinner', 420: 'committee', 421: 'anywhere', 422: 'probably', 423: 'lizard', 424: 'picture', 425: 'truck', 426: 'build', 427: 'massive', 428: 'bills', 429: 'calmly', 430: 'ad', 431: \"can't\", 432: 'resigned', 433: 'game', 434: 'whaaaa', 435: 'cent', 436: 'gore', 437: 'planned', 438: 'soaps', 439: 'coach:', 440: 'napkins', 441: 'rolling', 442: 'confidential', 443: 'old', 444: 'orders', 445: 'direction', 446: 'senators', 447: \"hawkin'\", 448: 'rule', 449: 'their', 450: 'scratcher', 451: 'trying', 452: 'effigy', 453: 'innocent', 454: 'empty', 455: 'nickels', 456: 'ihop', 457: 'crayola', 458: 'renew', 459: 'diddilies', 460: 'strips', 461: 'issuing', 462: 'alright', 463: \"'pu\", 464: 'imaginary', 465: \"ridin'\", 466: 'she', 467: \"'evening\", 468: 'renovations', 469: \"'now\", 470: 'poulet', 471: \"soakin's\", 472: \"larry's\", 473: 'ivanna', 474: 'sleeps', 475: 'rub', 476: 'sigh', 477: 'micronesian', 478: 'scruffy_blogger:', 479: 'junebug', 480: 'bedridden', 481: 'dammit', 482: 'absorbent', 483: 'inside', 484: 'massage', 485: 'neanderthal', 486: 'pal', 487: 'so-called', 488: 'patty', 489: 'fox_mulder:', 490: 'waterfront', 491: 'canyonero', 492: 'gut', 493: 'background', 494: 'without:', 495: 'they', 496: 'product', 497: 'sixteen', 498: 'junkyard', 499: 'sue', 500: 'reads', 501: 'mob', 502: 'settled', 503: 'longest', 504: 'never', 505: 'overstressed', 506: 'friction', 507: 'couch', 508: 'rumaki', 509: 'dreamed', 510: 'booze-bags', 511: 'truth', 512: 'negative', 513: 'intervention', 514: 'innocuous', 515: 'creepy', 516: 'burning', 517: 'divine', 518: 'looking', 519: 'art', 520: 'cheer', 521: 'badmouths', 522: 'pleasure', 523: 'farthest', 524: 'known', 525: 'sunk', 526: 'protecting', 527: 'partially', 528: 'george', 529: 'limber', 530: 'pulled', 531: 'elaborate', 532: 'barbara', 533: 'chips', 534: 'carlson', 535: 'surprising', 536: 'hope', 537: 'football', 538: 'blessing', 539: 'sees/', 540: 'jumping', 541: 'literary', 542: 'woman:', 543: 'measure', 544: 'supervising', 545: 'polishing', 546: 'shill', 547: 'blissful', 548: \"takin'\", 549: 'tourist', 550: 'charlie', 551: 'juke', 552: 'displeased', 553: 'test', 554: 'addiction', 555: 'thrilled', 556: 'stillwater:', 557: 'laid', 558: 'williams', 559: 'unhappy', 560: 'harvard', 561: 'whaaa', 562: 'shelf', 563: 'africa', 564: 'instrument', 565: 'comic_book_guy:', 566: 'princess', 567: 'lawyer', 568: 'tips', 569: 'nearly', 570: 'girl', 571: 'priest', 572: 'starve', 573: 'air', 574: 'chipper', 575: 'pressure', 576: 'face', 577: 'eighty-seven', 578: 'accent', 579: 'lincoln', 580: 'strongly', 581: 'padres', 582: 'pained', 583: 'tv', 584: 'homer_doubles:', 585: 'chinese', 586: 'louie:', 587: 'page', 588: 'womb', 589: 'duke', 590: 'mock', 591: 'option', 592: 'president', 593: 'possibly', 594: \"hobo's\", 595: 'skoal', 596: 'plum', 597: 'glum', 598: 'conference', 599: 'grrrreetings', 600: 'bring', 601: 'haircuts', 602: 'fuzzlepitch', 603: 'sooner', 604: \"seein'\", 605: 'reaching', 606: 'fumes', 607: 'cough', 608: 'nap', 609: 'woozy', 610: 'public', 611: 'envy-tations', 612: 'lucinda', 613: 'quickly', 614: 'attack', 615: 'those', 616: 'a-b-', 617: \"mecca's\", 618: 'hook', 619: 'cricket', 620: 'forty-seven', 621: 'complaining', 622: 'books', 623: 'strap', 624: 'wolveriskey', 625: 'eaten', 626: 'billboard', 627: 'crowded', 628: 'hoping', 629: 'mommy', 630: 'beanbag', 631: 'john', 632: 'brooklyn', 633: 'favorite', 634: 'unavailable', 635: 'alive', 636: 'rapidly', 637: 'whup', 638: 'two', 639: 'affection', 640: 'giving', 641: 'late', 642: 'burg', 643: 'knows', 644: 'beginning', 645: 'feminist', 646: 'extinguishers', 647: 'subscriptions', 648: 'valley', 649: 'cobbling', 650: 'aid', 651: 'noggin', 652: 'acronyms', 653: 'reporter:', 654: 'xanders', 655: 'fierce', 656: 'most', 657: 'car', 658: \"usin'\", 659: 'thinking', 660: 'arse', 661: 'tabs', 662: 'wh', 663: 'name:', 664: \"life's\", 665: 'bumbling', 666: 'appearance-altering', 667: 'blobbo', 668: \"scammin'\", 669: 'dawning', 670: 'rope', 671: 'mushy', 672: 'history', 673: 'crank', 674: 'tester', 675: 'ironed', 676: 'powered', 677: 'form', 678: 'reached', 679: 'mellow', 680: 'grumbling', 681: 'incredible', 682: 'toledo', 683: 'hungry', 684: 'director:', 685: 'make', 686: 'lib', 687: 'needs', 688: 'prettied', 689: 'mulder', 690: 'tanked-up', 691: 'hugh:', 692: 'cow', 693: 'funds', 694: 'capitol', 695: 'hideous', 696: 'fireball', 697: 'bell', 698: 'bathroom', 699: 'anarchy', 700: 'marguerite:', 701: 'cheap', 702: 'soft', 703: 'gentlemen', 704: 'statues', 705: 'fine', 706: 'h', 707: 'natural', 708: 'connor-politan', 709: 'the_edge:', 710: 'creeps', 711: 'reciting', 712: 'gimmicks', 713: 'lone', 714: 'charge', 715: 'premiering', 716: 'born', 717: 'adult_bart:', 718: 'determined', 719: 'fad', 720: '||period||', 721: 'mailbox', 722: 'beyond', 723: 'boyhood', 724: 'eightball', 725: 'pushing', 726: 'nerve', 727: \"smokin'_joe_frazier:\", 728: 'darkest', 729: 'chic', 730: 'adventure', 731: \"money's\", 732: 'pews', 733: 'technical', 734: 'offense', 735: '||semicolon||', 736: 'theater', 737: 'cowardly', 738: 'updated', 739: 'invite', 740: 'sits', 741: 'play/', 742: 'online', 743: 'saving', 744: 'u2:', 745: 'lloyd', 746: 'cheryl', 747: 'brown', 748: 'sighs', 749: 'disappeared', 750: 'freedom', 751: 'pool', 752: \"doesn't\", 753: 'ought', 754: 'bubbles', 755: 'mistresses', 756: 'designer', 757: 'disgraceful', 758: 'event', 759: 'earth', 760: 'compete', 761: 'familiar', 762: 'libraries', 763: 'civic', 764: 'pepper', 765: 'lot', 766: 'wanna', 767: 'distract', 768: 'town', 769: 'sneak', 770: 'crowd', 771: \"'tis\", 772: 'vengeful', 773: 'keeps', 774: 'lily-pond', 775: 'buds', 776: 'pen', 777: 'per', 778: 'judge', 779: 'apology', 780: 'firmly', 781: 'cheery', 782: \"sittin'\", 783: 'fills', 784: 'lungs', 785: '_zander:', 786: 'wiggle', 787: 'higher', 788: 'son', 789: 'stinger', 790: 'doug:', 791: 'giant', 792: 'tokens', 793: 'unhook', 794: 'whatchacallit', 795: 'reed', 796: 'attraction', 797: 'window', 798: 'hmf', 799: 'ready', 800: 'goo', 801: 'andalay', 802: 'fan', 803: 'greetings', 804: 'poorer', 805: 'left', 806: \"that'll\", 807: 'ã', 808: \"someone's\", 809: 'tomorrow', 810: 'troy_mcclure:', 811: 'two-thirds-empty', 812: 'milhouses', 813: 'kennedy', 814: 'mumble', 815: \"kids'\", 816: 'chug-a-lug', 817: 'hiya', 818: 'lay', 819: 'shaker', 820: 'barney-type', 821: 'unexplained', 822: 'socratic', 823: 'mocking', 824: 'life-sized', 825: 'peppy', 826: 'crestfallen', 827: 'anybody', 828: 'nods', 829: 'poison', 830: 'manchego', 831: 'beefs', 832: 'remembering', 833: 'payday', 834: 'chubby', 835: 'talked', 836: 'will', 837: 'guessing', 838: 'dads', 839: 'saw', 840: 'nine', 841: 'camp', 842: 'hates', 843: 'manage', 844: 'itchy', 845: 'pets', 846: 'random', 847: 'witty', 848: 'scoffs', 849: 'ho', 850: 'gallon', 851: 'european', 852: 'rash', 853: \"poisonin'\", 854: 'annoying', 855: 'lard', 856: 'honor', 857: 'load', 858: 'perking', 859: 'check', 860: 'comedy', 861: 'drop-off', 862: 'suspenders', 863: 'chateau', 864: 'stats', 865: 'start', 866: 'pursue', 867: 'makes', 868: 'newsweek', 869: 'affects', 870: 'doooown', 871: 'accepting', 872: 'shot', 873: 'disappointed', 874: 'puzzle', 875: 'tree', 876: 'uncle', 877: 'wise', 878: 'blown', 879: 'maman', 880: 'fix', 881: 'mister', 882: 'only', 883: 'jerry', 884: 'chunk', 885: 'sings', 886: 'enhance', 887: 'yap', 888: 'sack', 889: 'talk-sings', 890: 'charm', 891: 'recommend', 892: 'planted', 893: 'wiggle-frowns', 894: 'maybe', 895: 'typing', 896: 'dropped', 897: 'conclusions', 898: 'stripes', 899: 'haws', 900: 'dash', 901: 'churchill', 902: \"liftin'\", 903: 'disappointing', 904: 'papa', 905: 'goods', 906: 'whaddya', 907: 'laney_fontaine:', 908: \"tonight's\", 909: 'mathis', 910: \"'n'\", 911: 'blackjack', 912: 'queer', 913: 'monday', 914: '$42', 915: 'drove', 916: 'lennyy', 917: 'letters', 918: 'obese', 919: \"mcstagger's\", 920: 'woulda', 921: 'pageant', 922: 'fudd', 923: 'house', 924: 'covering', 925: \"fightin'\", 926: 'assert', 927: 'daaaaad', 928: 'cheers', 929: 'suds', 930: 'modern', 931: 'both', 932: 'superhero', 933: 'repairman', 934: 'baby', 935: 'duffman:', 936: 'tapered', 937: 'against', 938: 'making', 939: 'souped', 940: 'lou:', 941: 'an', 942: 'wally', 943: 'wearing', 944: 'chug', 945: 'deacon', 946: 'hounds', 947: 'noticing', 948: 'cleveland', 949: 'metal', 950: 'invented', 951: 'flack', 952: 'lingus', 953: 'lurleen_lumpkin:', 954: 'aisle', 955: 'rainier', 956: 'fast-food', 957: 'gil_gunderson:', 958: 'hemoglobin', 959: 'chauffeur', 960: 'hygienically', 961: 'referee', 962: 'thousands', 963: \"sayin'\", 964: 'kick', 965: 'example', 966: \"can'tcha\", 967: 'undermine', 968: 'tiny', 969: 'wide', 970: 'curse', 971: 'laughter', 972: 'error', 973: 'acquaintance', 974: 'propose', 975: 'pointing', 976: 'cooking', 977: \"england's\", 978: 'twelveball', 979: 'behind', 980: 'depressant', 981: 'therapist', 982: 'beers', 983: 'outs', 984: 'hillary', 985: 'deals', 986: 'zeal', 987: 'weird', 988: 'mona_simpson:', 989: 'satisfied', 990: 'built', 991: 'plans', 992: 'wiener', 993: 'tee', 994: 'sending', 995: 'grandã©', 996: 'which', 997: 'perplexed', 998: 'tax', 999: 'label', 1000: 'yello', 1001: 'brassiest', 1002: 'get', 1003: 'layer', 1004: 'al', 1005: 'sued', 1006: 'authenticity', 1007: 'entering', 1008: 'since', 1009: 'created', 1010: 'refreshing', 1011: 'snake-handler', 1012: 'count', 1013: 'restroom', 1014: 'tracks', 1015: \"s'cuse\", 1016: 'adult', 1017: 'grocery', 1018: 'w-a-3-q-i-zed', 1019: 'afraid', 1020: 'slice', 1021: 'attached', 1022: 'island', 1023: 'rasputin', 1024: 'latin', 1025: 'common', 1026: 'dreamy', 1027: 'lugs', 1028: 'hearts', 1029: 'barney', 1030: 'alternative', 1031: 'pure', 1032: \"doctor's\", 1033: 'karaoke_machine:', 1034: 'frankly', 1035: \"wouldn't\", 1036: 'moxie', 1037: 'delete', 1038: 'friends', 1039: 'suits', 1040: 'nobel', 1041: 'fever', 1042: 'theme', 1043: 'rationalizing', 1044: 'dictating', 1045: 'fortress', 1046: 'deep', 1047: 'splash', 1048: 'realize', 1049: 'up-bup-bup', 1050: 'waist', 1051: 'officials', 1052: 'marshmallow', 1053: 'quarterback', 1054: 'took', 1055: 'thing:', 1056: 'business', 1057: 'sheriff', 1058: 'tigers', 1059: 'hidden', 1060: 'larry', 1061: 'student', 1062: 'open', 1063: 'hunger', 1064: 'wakede', 1065: 'sideshow_bob:', 1066: 'flynt', 1067: 'slobbo', 1068: 'obvious', 1069: 'whoa', 1070: 'excuse', 1071: 'marriage', 1072: 'thumb', 1073: 'upn', 1074: 'mary', 1075: 'hers', 1076: 'jockey', 1077: 'exhibit', 1078: 'shut', 1079: 'arrange', 1080: 'original', 1081: 'actors', 1082: 'sanitary', 1083: 'flying', 1084: 'beer:', 1085: 'birthplace', 1086: 'throws', 1087: 'polish', 1088: 'sam:', 1089: '1895', 1090: \"aristotle's\", 1091: 'jay', 1092: 'passes', 1093: 'head-gunk', 1094: 'eliminate', 1095: 'cure', 1096: 'musta', 1097: 'upset', 1098: 'hub', 1099: 'tight', 1100: 'source', 1101: 'amends', 1102: 'buffet', 1103: 'less', 1104: 'skinny', 1105: 'lime', 1106: 'youngsters', 1107: \"bein'\", 1108: 'unkempt', 1109: 'urine', 1110: 'sitar', 1111: 'whale', 1112: 'marched', 1113: 'says', 1114: 'frightened', 1115: 'from', 1116: 'al_gore:', 1117: 'tab', 1118: 'coal', 1119: 'brockelstein', 1120: 'champ', 1121: \"duff's\", 1122: 'scornfully', 1123: 'treasure', 1124: 'also', 1125: 'believer', 1126: 'wealthy', 1127: 'korea', 1128: 'poor', 1129: 'crowd:', 1130: 'democrats', 1131: 'bluff', 1132: \"ol'\", 1133: 'notch', 1134: 'whoa-ho', 1135: 'pink', 1136: 'sodas', 1137: 'blubberino', 1138: 'friendly', 1139: 'gees', 1140: 'broadway', 1141: 'buying', 1142: 'refund', 1143: 'busiest', 1144: 'roof', 1145: 'covers', 1146: 'patented', 1147: 'represents', 1148: 'butter', 1149: 'aww', 1150: 'rife', 1151: 'good-looking', 1152: 'commanding', 1153: 'plus', 1154: 'taken', 1155: 'senator', 1156: 'notorious', 1157: 'mccarthy', 1158: 'diving', 1159: 'executive', 1160: 'lady-free', 1161: 'everybody', 1162: 'salad', 1163: \"nick's\", 1164: 'reentering', 1165: 'ruby-studded', 1166: 'folk', 1167: 'candidate', 1168: 'twenty-four', 1169: 'whole', 1170: 'tired', 1171: 'wondering', 1172: 'cloudy', 1173: 'calvin', 1174: 'kitchen', 1175: 'had', 1176: 'spoon', 1177: 'launch', 1178: 'fleabag', 1179: 'nooo', 1180: \"washin'\", 1181: 'breakfast', 1182: 'fork', 1183: 'margarita', 1184: 'forgot', 1185: 'thinks', 1186: 'young_moe:', 1187: 'reopen', 1188: 'mindless', 1189: 'lessons', 1190: 'jeez', 1191: 'sisters', 1192: 'perverse', 1193: 'norway', 1194: 'few', 1195: 'fluoroscope', 1196: 'alphabet', 1197: 'denser', 1198: 'infatuation', 1199: 'bedroom', 1200: 'shape', 1201: 'sold', 1202: 'picky', 1203: 'lifters', 1204: 'lewis', 1205: 'caused', 1206: 'scrutinizing', 1207: 'low-life', 1208: \"we've\", 1209: 'jewelry', 1210: 'species', 1211: 'wish', 1212: 'unison', 1213: 'duff', 1214: 'chum', 1215: 'two-drink', 1216: 'steaming', 1217: 'joined', 1218: 'france', 1219: 'hour', 1220: 'happy', 1221: 'reward', 1222: 'presumir', 1223: 'thankful', 1224: 'snail', 1225: 'frogs', 1226: 'ball', 1227: 'us', 1228: 'speak', 1229: 'muslim', 1230: 'junior', 1231: 'mechanical', 1232: 'sucker', 1233: 'pause', 1234: 'jukebox_record:', 1235: 'show-off', 1236: 'worse', 1237: 'sail', 1238: 'bottoms', 1239: 'complicated', 1240: 'entrance', 1241: 'beer-jerks', 1242: 'alibi', 1243: 'mariah', 1244: 'specific', 1245: 'shades', 1246: 'priceless', 1247: 'next', 1248: 'bashir', 1249: 'harrowing', 1250: 'fat_in_the_hat:', 1251: 'barney-shaped_form:', 1252: 'harv', 1253: 'equivalent', 1254: 'even', 1255: 'bottomless', 1256: 'crime', 1257: 'murmurs', 1258: 'jamaican', 1259: 'helps', 1260: 'loser', 1261: 'voice', 1262: \"hangin'\", 1263: 'santa', 1264: 'mean', 1265: 'thorough', 1266: 'lose', 1267: 'small', 1268: 'gabriel:', 1269: 'clientele', 1270: 'results', 1271: 'legs:', 1272: 'terrible', 1273: 'either', 1274: 'why', 1275: 'delicate', 1276: \"'\", 1277: \"coffee'll\", 1278: 'bushes', 1279: 'center', 1280: 'jam', 1281: 'stab', 1282: 'brings', 1283: 'man', 1284: 'safely', 1285: 'meditative', 1286: 'thrust', 1287: 'premise', 1288: 'card', 1289: 'nightmares', 1290: 'smart', 1291: 'man:', 1292: 'instead', 1293: 'moron', 1294: 'insecure', 1295: 'sob', 1296: 'gotcha', 1297: 'worthless', 1298: 'fence', 1299: \"squeezin'\", 1300: 'failure', 1301: 'bulldozing', 1302: 'continuing', 1303: 'glitterati', 1304: 'housing', 1305: 'mrs', 1306: 'sacrilicious', 1307: 'boys', 1308: 'middle', 1309: \"'round\", 1310: 'homunculus', 1311: 'way:', 1312: 'macgregor', 1313: 'voice:', 1314: 'shove', 1315: 'swan', 1316: 'collateral', 1317: 'publish', 1318: 'therapy', 1319: 'eighteen', 1320: 'spacey', 1321: 'lise:', 1322: 'southern', 1323: 'sat-is-fac-tion', 1324: 'furry', 1325: 'dutch', 1326: 'carey', 1327: 'booger', 1328: 'alfred', 1329: 'rotch', 1330: 'nasty', 1331: 'con', 1332: 'prayer', 1333: 'ivy-covered', 1334: 'scent', 1335: 'carnival', 1336: \"tellin'\", 1337: 'clinton', 1338: 'sacajawea', 1339: 'raking', 1340: 'relaxing', 1341: 'pitch', 1342: 'frontrunner', 1343: 'improv', 1344: 'champs', 1345: 'spied', 1346: 'bride', 1347: 'time', 1348: 'methinks', 1349: 'excited', 1350: 'dearest', 1351: 'merchants', 1352: 'fail', 1353: 'abolish', 1354: 'f', 1355: 'expression', 1356: 'duh', 1357: 'ripped', 1358: 'easygoing', 1359: 'blue', 1360: 'imported-sounding', 1361: 'principal', 1362: 'handling', 1363: 'sotto', 1364: 'standing', 1365: 'illegal', 1366: 'helen', 1367: 'sunglasses', 1368: 'sobo', 1369: 'clandestine', 1370: 'resist', 1371: 'sponsor', 1372: 'proper', 1373: \"'kay-zugg'\", 1374: 'sweet', 1375: 'straighten', 1376: 'cattle', 1377: 'ireland', 1378: 'fights', 1379: 'kids', 1380: 'hawking:', 1381: 'shindig', 1382: 'ignorance', 1383: 'mini-dumpsters', 1384: 'top', 1385: 'pardon', 1386: 'village', 1387: 'kent', 1388: 'guiltily', 1389: 'pretzel', 1390: 'liable', 1391: 'population', 1392: 'restaurants', 1393: 'insightful', 1394: 'hoagie', 1395: 'nascar', 1396: 'stirring', 1397: 'series', 1398: 'please/', 1399: 'telemarketing', 1400: 'suru', 1401: 'our', 1402: 'item', 1403: 'bones', 1404: 'lucius', 1405: 'package', 1406: 'increased', 1407: 'marge_simpson:', 1408: 'pope', 1409: 'dad', 1410: 'rented', 1411: 'coins', 1412: 'talkative', 1413: 'gay', 1414: 'toilet', 1415: 'quarter', 1416: 'square', 1417: 'charged', 1418: 'strains', 1419: 'any', 1420: 'jay:', 1421: 'hitchhike', 1422: 'prints', 1423: 'brainheaded', 1424: \"wouldn't-a\", 1425: 'ourselves', 1426: 'nfl_narrator:', 1427: 'death', 1428: 'waltz', 1429: 'stir', 1430: 'destroyed', 1431: 'iranian', 1432: 'rain', 1433: 'scotch', 1434: 'sangre', 1435: \"other's\", 1436: 'du', 1437: 'going', 1438: 'percent', 1439: 'procedure', 1440: 'west', 1441: 'muertos', 1442: 'poker', 1443: 'notices', 1444: 'sound', 1445: 'relationship', 1446: 'shooting', 1447: 'paris', 1448: 'thirty-nine', 1449: 'jelly', 1450: 'parking', 1451: 'annoyed', 1452: 'instantly', 1453: 'wrong', 1454: 'zoomed', 1455: 'knuckle-dragging', 1456: 'onions', 1457: 'bugs', 1458: '50%', 1459: 'crap', 1460: 'yard', 1461: 'unlike', 1462: 'marquee', 1463: 'boxcar', 1464: 'naegle', 1465: 'retired', 1466: 'apron', 1467: 'enjoys', 1468: 'free', 1469: 'achebe', 1470: 'school', 1471: \"here's\", 1472: 'grienke', 1473: 'take', 1474: 'peace', 1475: 'lou', 1476: 'friend:', 1477: 'eyeing', 1478: 'used', 1479: 'horrible', 1480: 'forward', 1481: \"i'm\", 1482: 'pipe', 1483: 'quadruple-sec', 1484: 'excavating', 1485: 'fletcherism', 1486: 'othello', 1487: \"d'\", 1488: 'steel', 1489: 'contest', 1490: 'clothes', 1491: 'deeply', 1492: \"we'd\", 1493: 'balloon', 1494: 'mouths', 1495: 'garbage', 1496: 'hmm', 1497: 'moving', 1498: 'refreshingness', 1499: 'manager', 1500: \"town's\", 1501: 'liser', 1502: 'pusillanimous', 1503: \"she's\", 1504: 'circus', 1505: 'knowledge', 1506: 'pigs', 1507: 'full-time', 1508: 'nahasapeemapetilon', 1509: 'forehead', 1510: 'tremendous', 1511: 'tip', 1512: 'swill', 1513: 'frazier', 1514: 'triumphantly', 1515: 'torn', 1516: 'temper', 1517: 'veux', 1518: 'vote', 1519: 'bartender', 1520: 'ziffcorp', 1521: 'faiths', 1522: 'hank_williams_jr', 1523: 'imitating', 1524: 'poster', 1525: 'backwards', 1526: 'flowers', 1527: 'fired', 1528: 'drunkenly', 1529: 'walking', 1530: 'tsk', 1531: 'grandmother', 1532: 'old_jewish_man:', 1533: \"stealin'\", 1534: 'naturally', 1535: 'beings', 1536: 'painless', 1537: 'ticket', 1538: 'return', 1539: 'broncos', 1540: 'racially-diverse', 1541: 'officer', 1542: 'beeps', 1543: 'watashi', 1544: 'singer', 1545: 'banned', 1546: 'realizing', 1547: 'straining', 1548: 'corporate', 1549: 'ing', 1550: 'mike_mills:', 1551: 'befouled', 1552: 'cool', 1553: 'comeback', 1554: 'appreciated', 1555: 'glove', 1556: 'filled', 1557: 'because', 1558: 'dumb-asses', 1559: 'africanized', 1560: 'awww', 1561: 'compliment', 1562: 'clown', 1563: 'vance', 1564: 'local', 1565: 'permanent', 1566: 'hampstead-on-cecil-cecil', 1567: 'sweetly', 1568: 'donut', 1569: 'drollery', 1570: 'facebook', 1571: 'fatso', 1572: 'trash', 1573: 'stealings', 1574: 'exchange', 1575: 'wienerschnitzel', 1576: 'los', 1577: 'read:', 1578: 'aging', 1579: 'kirk_voice_milhouse:', 1580: 'yesterday', 1581: 'reading:', 1582: 'winks', 1583: \"son's\", 1584: 'reminds', 1585: 'admiring', 1586: 'bulked', 1587: 'advance', 1588: 'fly', 1589: 'bar:', 1590: 'smoothly', 1591: 'awake', 1592: 'emotion', 1593: \"bashir's\", 1594: 'bucket', 1595: 'pile', 1596: 'watered', 1597: 'sketch', 1598: 'intoxicated', 1599: 'ab', 1600: 'geyser', 1601: 'group', 1602: 'breathalyzer', 1603: \"when's\", 1604: 'woe:', 1605: 'sight', 1606: 'yells', 1607: 'job', 1608: 'bless', 1609: 'yelling', 1610: 'cross-country', 1611: 'awkward', 1612: \"'cept\", 1613: 'promise', 1614: 'slaves', 1615: 'temporarily', 1616: 'binoculars', 1617: 'fonzie', 1618: 'oddest', 1619: 'cocoa', 1620: 'scream', 1621: 'complaint', 1622: 'aiden', 1623: 'businessman_#2:', 1624: 'loboto-moth', 1625: 'me', 1626: 'snorts', 1627: 'hot-rod', 1628: \"'ere\", 1629: 'each', 1630: 'gangrene', 1631: 'polygon', 1632: 'doll-baby', 1633: 'checks', 1634: 'cars', 1635: 'while', 1636: 'old-time', 1637: 'plums', 1638: 'shakes', 1639: 'adopted', 1640: 'activity', 1641: 'contemporary', 1642: 'walks', 1643: 'onassis', 1644: 'buttons', 1645: 'all', 1646: 'relieved', 1647: 'worry', 1648: 'men', 1649: 'parenting', 1650: 'hoax', 1651: 'atlanta', 1652: 'dum-dum', 1653: \"shouldn't\", 1654: 'college', 1655: 'fox', 1656: 'regretted', 1657: 'hare-brained', 1658: 'kick-ass', 1659: 'work', 1660: 'ons', 1661: 'musses', 1662: 'sniffles', 1663: 'chorus:', 1664: 'lisa', 1665: 'champignons', 1666: 'solves', 1667: 'rage', 1668: 'defiantly', 1669: 'simultaneous', 1670: \"'topes\", 1671: 'harder', 1672: '/', 1673: 'involved', 1674: 'british', 1675: 'this', 1676: 'buffalo', 1677: 'faded', 1678: 'uh-huh', 1679: 'accident', 1680: 'turned', 1681: 'eyeballs', 1682: 'boy', 1683: 'dae', 1684: 'walther', 1685: 'fry', 1686: 'outstanding', 1687: 'relax', 1688: 'fragile', 1689: 'talking', 1690: 'icy', 1691: 'stein-stengel-', 1692: 'recap:', 1693: 'knock', 1694: 'look', 1695: 'bum:', 1696: 'fritz:', 1697: 'jump', 1698: 'pulling', 1699: 'abe', 1700: 'carlotta:', 1701: 'hostile', 1702: 'yellow', 1703: 'declan_desmond:', 1704: 'shopping', 1705: 'driving', 1706: 'tanking', 1707: 'meatpies', 1708: 'married', 1709: 'tavern', 1710: 'physical', 1711: 'love', 1712: 'charity', 1713: 'painting', 1714: 'tolerance', 1715: 'grubby', 1716: 'choke', 1717: 'term', 1718: 'app', 1719: 'amused', 1720: 'all-american', 1721: 'peabody', 1722: 'admirer', 1723: 'elephants', 1724: 'poplar', 1725: 'kidneys', 1726: 'pit', 1727: 'safe', 1728: 'ahh', 1729: 'gunter:', 1730: \"i've\", 1731: 'sad', 1732: 'elves:', 1733: \"something's\", 1734: 'cologne', 1735: 'trapping', 1736: 'bothered', 1737: \"homer's_brain:\", 1738: 'barber', 1739: 'quimby_#2:', 1740: 'pro', 1741: 'cases', 1742: 'broom', 1743: 'five', 1744: 'close', 1745: \"men's\", 1746: 'hellhole', 1747: 'yup', 1748: 'snout', 1749: 'own', 1750: 'result', 1751: 'energy', 1752: 'based', 1753: 'jerking', 1754: 'offensive', 1755: 'wussy', 1756: 'special', 1757: 'o', 1758: 'attempting', 1759: 'watching', 1760: 'releases', 1761: 'picnic', 1762: \"wait'll\", 1763: 'suspect', 1764: '250', 1765: 'anniversary', 1766: 'rummy', 1767: 'atari', 1768: 'brotherhood', 1769: 'stood', 1770: '_burns_heads:', 1771: 'knocks', 1772: 'phony', 1773: 'starla:', 1774: 'protestantism', 1775: 'blew', 1776: 'suddenly', 1777: 'listened', 1778: \"'em\", 1779: 'warmth', 1780: 'trick', 1781: 'email', 1782: 'fighter', 1783: 'zero', 1784: 'one', 1785: 'glee', 1786: 'truck_driver:', 1787: 'hiring', 1788: 'duffman', 1789: 'heading', 1790: 'de-scramble', 1791: 'legally', 1792: \"o'problem\", 1793: 'mater', 1794: 'copy', 1795: 'uh-oh', 1796: 'south', 1797: \"you'll\", 1798: 'pleasant', 1799: 'disco', 1800: 'tin', 1801: 'peter', 1802: 'answering', 1803: 'size', 1804: 'squishee', 1805: \"workin'\", 1806: \"dog's\", 1807: 'popped', 1808: 'teenage_bart:', 1809: 'seething', 1810: 'still', 1811: 'mahatma', 1812: 'biggest', 1813: 'anger', 1814: 'moon-bounce', 1815: 'brain', 1816: 'lachrymose', 1817: 'killing', 1818: 'ura', 1819: 'pointedly', 1820: 'space', 1821: 'edna_krabappel-flanders:', 1822: 'winning', 1823: 'meals', 1824: 'wheel', 1825: 'noble', 1826: 'intakes', 1827: 'cesss', 1828: \"plank's\", 1829: 'declared', 1830: 'oughtta', 1831: 'mission', 1832: 'conclude', 1833: 'lofty', 1834: 'dilemma', 1835: 'awful', 1836: 'train', 1837: 'lovely', 1838: 'sea', 1839: 'pepto-bismol', 1840: 'deli', 1841: \"beggin'\", 1842: 'bide', 1843: 'color', 1844: 'wantcha', 1845: 'question', 1846: 'fritz', 1847: 'inserts', 1848: 'secrets', 1849: 'christian', 1850: 'lady_duff:', 1851: 'reading', 1852: \"g'on\", 1853: \"kiddin'\", 1854: 'position', 1855: 'works', 1856: 'apu', 1857: 'wedding', 1858: 'expensive', 1859: 'estranged', 1860: 'bliss', 1861: 'fresco', 1862: 'rascals', 1863: 'philosophical', 1864: 'reaches', 1865: 'charming', 1866: 'sounds', 1867: 'chinua', 1868: 'body', 1869: 'bitterly', 1870: 'family', 1871: 'bill_james:', 1872: 'reptile', 1873: 'hell', 1874: \"don't\", 1875: 'besides', 1876: 'finest', 1877: 'hide', 1878: \"enjoyin'\", 1879: 'photo', 1880: 'colorado', 1881: 'teach', 1882: 'need', 1883: 'slays', 1884: 'illegally', 1885: 'psst', 1886: 'promised', 1887: 'bunch', 1888: 'agents', 1889: 'whaddaya', 1890: 'jane', 1891: 'tongue', 1892: 'comforting', 1893: 'pass', 1894: 'necessary', 1895: 'knees', 1896: 'teenage_barney:', 1897: 'lottery', 1898: 'fwooof', 1899: 'important', 1900: 'squad', 1901: 'fdic', 1902: \"he'd\", 1903: 'specializes', 1904: \"c'mere\", 1905: 'roomy', 1906: 'cheese', 1907: 'news', 1908: \"must've\", 1909: 'ho-ly', 1910: 'fighting', 1911: 'pillows', 1912: 'hyper-credits', 1913: 'michael_stipe:', 1914: 'sucked', 1915: 'thought', 1916: 'sunday', 1917: 'spitting', 1918: 'cigars', 1919: 'strategy', 1920: 'jigger', 1921: 'reaction', 1922: 'deadly', 1923: 'coward', 1924: 'sesame', 1925: 'blokes', 1926: 'up', 1927: 'boozer', 1928: 'starts', 1929: 'landfill', 1930: 'la', 1931: 'ride', 1932: 'generally', 1933: 'lorre', 1934: 'dry', 1935: \"costume's\", 1936: 'we-we-we', 1937: 'tapping', 1938: 'moans', 1939: 'angry', 1940: 'breathless', 1941: 'ripper', 1942: 'kisses', 1943: 'soul-crushing', 1944: 'ominous', 1945: 'steely-eyed', 1946: 'hammy', 1947: 'ned', 1948: 'mural', 1949: 'hi', 1950: 'towed', 1951: 'safecracker', 1952: 'immiggants', 1953: \"i-i'll\", 1954: \"chewin'\", 1955: 'suburban', 1956: 'tv_husband:', 1957: 'carve', 1958: 'sees', 1959: 'legal', 1960: 'flaking', 1961: 'fingers', 1962: 'shoot', 1963: 'lenford', 1964: 'yourself', 1965: 'soon', 1966: 'tempting', 1967: 'astrid', 1968: 'springfield', 1969: 'freaking', 1970: 'praise', 1971: \"stinkin'\", 1972: 'reconsidering', 1973: 'save', 1974: 'beverage', 1975: 'vomit', 1976: 'dregs', 1977: 'cruise', 1978: 'stop', 1979: 'kansas', 1980: 'misfire', 1981: 'water', 1982: 'rusty', 1983: 'well', 1984: 'cummerbund', 1985: 'agh', 1986: 'whistles', 1987: 'cost', 1988: 'dignified', 1989: 'derisive', 1990: 'cruel', 1991: 'breaking', 1992: 'gags', 1993: 'huggenkiss', 1994: \"that's\", 1995: 'head', 1996: 'ahhhh', 1997: 'car:', 1998: 'drives', 1999: 'heart-broken', 2000: 'punches', 2001: \"it'll\", 2002: 'telephone', 2003: 'tolerable', 2004: 'choking', 2005: 'after', 2006: 'products', 2007: 'chumbawamba', 2008: 'dint', 2009: 'we', 2010: 'intelligent', 2011: 'surgeonnn', 2012: 'ollie', 2013: 'kramer', 2014: 'homie', 2015: 'je', 2016: 'stained-glass', 2017: \"thinkin'\", 2018: \"'cause\", 2019: 'wishful', 2020: 'bowled', 2021: 'use', 2022: 'outlook', 2023: 'drederick', 2024: 'script', 2025: 'lovejoy', 2026: 'lame', 2027: 'squashing', 2028: 'militia', 2029: 'researching', 2030: 'coaster', 2031: 'stationery', 2032: 'causes', 2033: 'nachos', 2034: 'threatening', 2035: 'pregnancy', 2036: 'investment', 2037: 'polls', 2038: 'um', 2039: 'bachelorette', 2040: 'sometime', 2041: 'alley', 2042: 'knew', 2043: 'settles', 2044: 'honest', 2045: 'distributor', 2046: 'gear-head', 2047: 'vampire', 2048: 'x', 2049: 'refill', 2050: \"where's\", 2051: 'emergency', 2052: 'hooked', 2053: 'refinanced', 2054: 'jail', 2055: 'yourselves', 2056: 'cold', 2057: \"o'reilly\", 2058: '10:15', 2059: 'shifty', 2060: 'gang', 2061: 'needed', 2062: 'knife', 2063: 'omigod', 2064: \"startin'\", 2065: 'fl', 2066: 'strangles', 2067: 'party', 2068: 'grim', 2069: 'focus', 2070: 'tiger', 2071: \"america's\", 2072: 'forty', 2073: 'fixed', 2074: 'sinister', 2075: 'shutting', 2076: 'taunting', 2077: 'hispanic_crowd:', 2078: 'swelling', 2079: \"speakin'\", 2080: 'drinker', 2081: 'sharps', 2082: 'domestic', 2083: 'nursemaid', 2084: 'nation', 2085: 'century', 2086: 'falsetto', 2087: 'celebrate', 2088: 'reliable', 2089: 'larson', 2090: 'ding-a-ding-ding-ding-ding-ding-ding', 2091: 'choice', 2092: 'should', 2093: 'kim_basinger:', 2094: 'dazed', 2095: 'ivana', 2096: 'spilled', 2097: 'snatch', 2098: 'panties', 2099: 'reluctant', 2100: 'dough', 2101: \"where'd\", 2102: 'gordon', 2103: 'oh-ho', 2104: 'stadium', 2105: 'cappuccino', 2106: 'disillusioned', 2107: 'rats', 2108: 'book', 2109: 'boggs', 2110: 'sadly', 2111: 'purse', 2112: 'gheet', 2113: 'puzzled', 2114: 'lonely', 2115: 'fat', 2116: 'twin', 2117: 'ballclub', 2118: 'ringing', 2119: 'awkwardly', 2120: 'by', 2121: 'glitz', 2122: 'tummies', 2123: 'pulitzer', 2124: 'moe_recording:', 2125: 'flaming', 2126: 'victorious', 2127: 'scanning', 2128: 'kept', 2129: 'groveling', 2130: 'somewhere', 2131: 'ow', 2132: 'training', 2133: 'exit', 2134: 'peppers', 2135: 'world', 2136: 'perfunctory', 2137: '||comma||', 2138: 'wrote', 2139: 'sobs', 2140: 'skins', 2141: 'warranty', 2142: 'credit', 2143: 'banks', 2144: 'ninety-eight', 2145: 'nor', 2146: 'asses', 2147: 'recorded', 2148: 'environment', 2149: 'drive', 2150: 'shoes', 2151: 'again', 2152: 'repay', 2153: 'magnanimous', 2154: 'attractive_woman_#1:', 2155: 'kenny', 2156: 'detail', 2157: \"football's\", 2158: 'restaurant', 2159: 'rush', 2160: 'test-lady', 2161: 'noises', 2162: 'blimp', 2163: 'ignoring', 2164: 'nibble', 2165: 'wangs', 2166: 'winnings', 2167: 'cheering', 2168: 'starlets', 2169: 'fica', 2170: 'frog', 2171: 'aggravated', 2172: 'helped', 2173: 'word', 2174: 'cheerier', 2175: 'philosophic', 2176: 'aunt', 2177: 'spent', 2178: 'helllp', 2179: \"should've\", 2180: 'romantic', 2181: \"g'ahead\", 2182: 'hoo', 2183: 'five-fifteen', 2184: 'tons', 2185: 'startled', 2186: 'problem', 2187: 'pay', 2188: 'tasty', 2189: 'musketeers', 2190: 'justify', 2191: 'represent', 2192: 'sen', 2193: 'benjamin:', 2194: 'have', 2195: 'in', 2196: 'line', 2197: 'hippies', 2198: 'anonymous', 2199: 'absentmindedly', 2200: \"spaghetti-o's\", 2201: 'cranberry', 2202: 'country', 2203: 'told', 2204: 'rainforest', 2205: 'sprawl', 2206: 'logos', 2207: 'captain', 2208: 'indicates', 2209: 'spelling', 2210: 'faced', 2211: 'tender', 2212: 'valuable', 2213: 'avalanche', 2214: 'betcha', 2215: \"fine-lookin'\", 2216: 'grade', 2217: 'washer', 2218: 'presently', 2219: 'fool', 2220: 'shhh', 2221: 'laramie', 2222: 'xx', 2223: 'boozebag', 2224: 'ears', 2225: 'shyly', 2226: 'now', 2227: 'computer', 2228: 'alma', 2229: 'trade', 2230: 'childless', 2231: 'roll', 2232: 'producers', 2233: 'delightful', 2234: 'ingrates', 2235: 'yours', 2236: 'pennies', 2237: 'ultimate', 2238: 'cat', 2239: 'finishing', 2240: 'white_rabbit:', 2241: 'love-matic', 2242: 'crawl', 2243: 'sorry', 2244: 'ding-a-ding-ding-a-ding-ding', 2245: 'hose', 2246: 'buttocks', 2247: 'milks', 2248: 'bret', 2249: 'introduce', 2250: 'disaster', 2251: 'elocution', 2252: 'trolls', 2253: 'dressed', 2254: 'may', 2255: 'home', 2256: 'hourly', 2257: 'jobless', 2258: 'oak', 2259: 'dog', 2260: 'rude', 2261: 'joining', 2262: 'vacations', 2263: 'supplying', 2264: 'man_at_bar:', 2265: 'etc', 2266: 'quero', 2267: 'measurements', 2268: 'international', 2269: 'acquitted', 2270: 'photographer', 2271: 'scratching', 2272: 'kemi', 2273: 'strong', 2274: 'hardy', 2275: 'wittgenstein', 2276: 'louse', 2277: \"what'll\", 2278: 'thirty-five', 2279: 'packets', 2280: 'yee-haw', 2281: 'jebediah', 2282: 'relative', 2283: 'class', 2284: \"foolin'\", 2285: 'live', 2286: 'tank', 2287: 'obama', 2288: 'cherry', 2289: 'dna', 2290: 'rosey', 2291: \"didn't\", 2292: 'dumbest', 2293: 'testing', 2294: 'sideshow', 2295: 'bugging', 2296: 'der', 2297: 'movies', 2298: 'join', 2299: 'leonard', 2300: 'restless', 2301: \"bart's\", 2302: 'cover', 2303: 'cards', 2304: 'nick', 2305: 'its', 2306: 'omit', 2307: 'campaign', 2308: 'animals', 2309: 'seven', 2310: 'perfume', 2311: 'clone', 2312: 'feeling', 2313: 'curiosity', 2314: 'lenny:', 2315: 'begins', 2316: 'cushions', 2317: 'massachusetts', 2318: 'conspiracy', 2319: 'over', 2320: 'raises', 2321: 'clothespins:', 2322: 'met', 2323: 'yoink', 2324: 'bill', 2325: 'academy', 2326: 'various', 2327: '_montgomery_burns:', 2328: 'leprechaun', 2329: 'bail', 2330: 'chew', 2331: 'third', 2332: 'simplest', 2333: 'crystal', 2334: \"'im\", 2335: 'throw', 2336: 'homer', 2337: 'donation', 2338: 'fayed', 2339: 'snide', 2340: 'supermodel', 2341: 'santeria', 2342: 'cronies', 2343: 'clock', 2344: 'leans', 2345: 'crossed', 2346: 'fraud', 2347: 'founded', 2348: 'buzziness', 2349: 'refresh', 2350: 'rip', 2351: 'wake', 2352: 'wowww', 2353: 'indeedy', 2354: 'radiation', 2355: 'elect', 2356: 'backing', 2357: 'someday', 2358: 'goes', 2359: 'blow', 2360: 'bon-bons', 2361: 'pilsner-pusher', 2362: 'community', 2363: 'spy', 2364: 'bleacher', 2365: 'sit', 2366: 'meal', 2367: 'dracula', 2368: 'hopeful', 2369: 'happily:', 2370: 'gold', 2371: 'help', 2372: 'touches', 2373: 'irrelevant', 2374: 'ingested', 2375: 'strictly', 2376: 'shoots', 2377: 'as', 2378: 'bathing', 2379: 'fair', 2380: 'understanding', 2381: 'latour', 2382: 'stalking', 2383: \"'s\", 2384: 'action', 2385: \"tryin'\", 2386: 'chain', 2387: 'involving', 2388: 'americans', 2389: 'noosey', 2390: \"puttin'\", 2391: 'shaved', 2392: 'donor', 2393: \"tap-pullin'\", 2394: 'happiness', 2395: 'wildfever', 2396: 'waters', 2397: 'nail', 2398: 'non-american', 2399: 'customer', 2400: 'correct', 2401: 'tasimeter', 2402: 'short', 2403: \"plaster's\", 2404: 'touch', 2405: 'mis-statement', 2406: 'scatter', 2407: 'hairs', 2408: 'lance', 2409: 'lump', 2410: 'moments', 2411: 'english', 2412: 'looked', 2413: 'grain', 2414: 'compels', 2415: 'knowing', 2416: '_babcock:', 2417: 'spits', 2418: 'win', 2419: 'iran', 2420: 'bike', 2421: 'breakdown', 2422: 'replace', 2423: 'booze', 2424: 'uhhhh', 2425: 'nose', 2426: 'means', 2427: 'incognito', 2428: 'rubs', 2429: 'unfresh', 2430: 'mm', 2431: 'stern', 2432: 'dr', 2433: 'navy', 2434: 'i/you', 2435: 'frat', 2436: \"duelin'\", 2437: 'bart', 2438: 'arm-pittish', 2439: 'misconstrue', 2440: 'overflowing', 2441: 'jeff_gordon:', 2442: 'mac-who', 2443: \"i-i'm\", 2444: 'boat', 2445: 'to', 2446: \"drawin'\", 2447: 'access', 2448: 'draw', 2449: 'notably', 2450: 'driver', 2451: 'pipes', 2452: 'alva', 2453: 'shreda', 2454: 'typed', 2455: 'steamed', 2456: \"sippin'\", 2457: 'donut-shaped', 2458: 'diablo', 2459: 'act', 2460: 'attach', 2461: 'puts', 2462: 'comment', 2463: 'remembers', 2464: 'barn', 2465: 'writing', 2466: 'prettiest', 2467: 'serum', 2468: 'eating', 2469: 'upgrade', 2470: 'aggravazes', 2471: 'pasta', 2472: 'lighter', 2473: 'dang', 2474: 'want', 2475: 'nemo', 2476: \"stallin'\", 2477: 'folks', 2478: 'gasps', 2479: 'gayer', 2480: 'floating', 2481: 'it:', 2482: 'starting', 2483: 'poke', 2484: \"wonderin'\", 2485: 'videotaped', 2486: 'camera', 2487: 'nominated', 2488: 'danny', 2489: 'clear', 2490: 'expired', 2491: 'please', 2492: 'exception:', 2493: 'wazoo', 2494: 'proof', 2495: 'peeping', 2496: 'decided', 2497: \"snappin'\", 2498: 'system', 2499: 'rafters', 2500: 'fixes', 2501: 'eight-year-old', 2502: 'wreck', 2503: '_kissingher:', 2504: 'pugilist', 2505: 'completing', 2506: 'dunno', 2507: 'joe', 2508: 'customers-slash-only', 2509: 'unfamiliar', 2510: 'text', 2511: 'confident', 2512: 'punching', 2513: 'sixty-five', 2514: 'willy', 2515: 'urge', 2516: 'nailed', 2517: 'nagurski', 2518: 'roach', 2519: 'done', 2520: 'promotion', 2521: 'vampires', 2522: 'cheaper', 2523: \"cuckold's\", 2524: 'laws', 2525: 'guff', 2526: 'rug', 2527: 'labor', 2528: 'putty', 2529: 'pants', 2530: 'punch', 2531: 'blood-thirsty', 2532: 'bump', 2533: \"dolph's_dad:\", 2534: 'babe', 2535: 'arrest', 2536: 'clubs', 2537: \"grandmother's\", 2538: 'deer', 2539: 'where', 2540: 'warning', 2541: 'formico', 2542: 'explain', 2543: 'burglary', 2544: 'oblongata', 2545: 'baseball', 2546: 'cocks', 2547: \"renovatin'\", 2548: \"livin'\", 2549: 'mouse', 2550: 'cash', 2551: \"pullin'\", 2552: 'price', 2553: 'ken:', 2554: 'bar', 2555: 'uneasy', 2556: 'judge_snyder:', 2557: 'cadillac', 2558: 'owner', 2559: 'blind', 2560: 'newest', 2561: \"dad's\", 2562: 'devils:', 2563: 'natured', 2564: 'occupancy', 2565: 'tied', 2566: 'when', 2567: 'powerful', 2568: 'snaps', 2569: 'wants', 2570: 'wounds', 2571: 'clearing', 2572: 'land', 2573: 'heals', 2574: 'bars', 2575: 'delays', 2576: 'cheapskates', 2577: 'himself', 2578: 'forbidden', 2579: 'gestated', 2580: 'inches', 2581: 'teams', 2582: 'self', 2583: 'maitre', 2584: \"knockin'\", 2585: 'tentative', 2586: 'coin', 2587: 'ford', 2588: 'meant', 2589: 'buy', 2590: 'memories', 2591: 'till', 2592: 'shark', 2593: 'rafter', 2594: \"car's\", 2595: 'language', 2596: 'stretches', 2597: 'greystash', 2598: 'violations', 2599: 'comes', 2600: 'ninety-six', 2601: 'absentminded', 2602: 'vicious', 2603: 'score', 2604: 'trust', 2605: 'scared', 2606: 'brandy', 2607: 'bedtime', 2608: 'james', 2609: 'selma', 2610: 'tying', 2611: 'asked', 2612: 'heart', 2613: \"you're\", 2614: 'dana_scully:', 2615: 'personal', 2616: 'puke-holes', 2617: 'deal', 2618: 'under', 2619: 'pain', 2620: 'janette', 2621: 'barkeeps', 2622: 'full-blooded', 2623: 'food', 2624: 'eddie:', 2625: 'rag', 2626: '_powers:', 2627: 'considers', 2628: 'gifts', 2629: 'wang', 2630: 'spare', 2631: 'edelbrock', 2632: 'period', 2633: 'wings', 2634: 'linda_ronstadt:', 2635: 'windshield', 2636: 'stored', 2637: 'sink', 2638: 'sauce', 2639: 'suicide', 2640: 'whispers', 2641: 'double', 2642: 'experiments', 2643: 'touched', 2644: 'east', 2645: 'problems', 2646: 'choice:', 2647: 'someplace', 2648: 'sternly', 2649: 'watch', 2650: 't-shirt', 2651: 'vodka', 2652: 'guts', 2653: 'almond', 2654: 'stairs', 2655: \"swishifyin'\", 2656: \"rasputin's\", 2657: 'knock-up', 2658: 'prep', 2659: 'pop', 2660: 'flea:', 2661: 'yawns', 2662: 'organ', 2663: 'maiden', 2664: 'flash', 2665: 'generosity', 2666: 'skirt', 2667: 'gin-slingers', 2668: 'pages', 2669: 'led', 2670: 'lisa_simpson:', 2671: 'practice', 2672: 'amazed', 2673: 'neck', 2674: 'waylon_smithers:', 2675: 'glass', 2676: 'sieben-gruben', 2677: 'so', 2678: 'lloyd:', 2679: 'rewound', 2680: 'finished', 2681: 'eyeball', 2682: 'marry', 2683: 'rome', 2684: 'produce', 2685: 'symphonies', 2686: 'exciting', 2687: 'grunt', 2688: 'other_player:', 2689: 'smiled', 2690: 'tha', 2691: 'police', 2692: 'turkey', 2693: 'conversation', 2694: 'potatoes', 2695: 'birthday', 2696: '530', 2697: 'sap', 2698: 'scrubbing', 2699: 'following', 2700: 'pleading', 2701: 'yep', 2702: \"havin'\", 2703: 'trainers', 2704: 'hoped', 2705: 'author', 2706: 'unforgettable', 2707: 'sticking-place', 2708: 'terrifying', 2709: 'fist', 2710: 'blob', 2711: 'moan', 2712: 'smooth', 2713: 'exhaust', 2714: 'the_rich_texan:', 2715: 'curious', 2716: 'savvy', 2717: \"barney's\", 2718: 'gave', 2719: 'enabling', 2720: 'same', 2721: 'tastes', 2722: 'conversion', 2723: \"he'll\", 2724: 'specialists', 2725: 'extremely', 2726: 'frustrated', 2727: 'clothespins', 2728: 'supreme', 2729: 'unearth', 2730: 'composite', 2731: 'myself', 2732: 'disdainful', 2733: 'co-sign', 2734: 'fortune', 2735: 'multiple', 2736: 'gotten', 2737: 'allow', 2738: 'fantasy', 2739: 'brother', 2740: 'congoleum', 2741: 'killer', 2742: ':', 2743: 'rims', 2744: 'kid', 2745: 'sitcom', 2746: 'brick', 2747: 'doubt', 2748: 'pine', 2749: 'become', 2750: 'proposing', 2751: 'pretend', 2752: 'ways', 2753: 'canyoner-oooo', 2754: 'part', 2755: 'tornado', 2756: 'pudgy', 2757: 'stepped', 2758: 'fortensky', 2759: 'bully', 2760: 'grants', 2761: 'low-blow', 2762: 'm', 2763: 'caholic', 2764: \"drinkin'\", 2765: 'thoughtfully', 2766: 'really', 2767: 'being', 2768: 'anyhow', 2769: 'slurred', 2770: 'tv_announcer:', 2771: 'of', 2772: 'swell', 2773: 'rem', 2774: 'whistling', 2775: 'seats', 2776: 'heavens', 2777: \"beer's\", 2778: 'smoker', 2779: 'loathe', 2780: 'dingy', 2781: 'jubilant', 2782: 'canoodling', 2783: '||dash||', 2784: 'side', 2785: \"i'unno\", 2786: '||exclamation_mark||', 2787: 'peanut', 2788: 'non-losers', 2789: 'chub', 2790: 'kirk_van_houten:', 2791: 'artie', 2792: 'else', 2793: 'sickens', 2794: 'cocktail', 2795: 'sign', 2796: 'hillbillies', 2797: 'meteor', 2798: 'fifth', 2799: 'feisty', 2800: 'wow', 2801: 'man_with_crazy_beard:', 2802: 'fears', 2803: 'horribilis', 2804: 'otherwise', 2805: 'scram', 2806: 'lemme', 2807: 'shack', 2808: 'groans', 2809: 'noose', 2810: \"singin'\", 2811: 'self-esteem', 2812: 'vanities', 2813: \"shan't\", 2814: 'ohh', 2815: 'walk', 2816: 'cartoons', 2817: 'wood', 2818: 'municipal', 2819: 'might', 2820: 'chuck', 2821: 'mafia', 2822: 'cheaped', 2823: 'sport', 2824: 'missing', 2825: 'germans', 2826: 'paying', 2827: 'menacing', 2828: 'phone', 2829: 'businessman_#1:', 2830: 'rig', 2831: \"hasn't\", 2832: 'ale', 2833: 'weary', 2834: 'cab', 2835: 'frenchman', 2836: 'backbone', 2837: 'portfolium', 2838: 'character', 2839: 'idealistic', 2840: 'inspector', 2841: 'diamond', 2842: 'politicians', 2843: 'grampa_simpson:', 2844: 'ashtray', 2845: \"liberty's\", 2846: \"what'd\", 2847: 'dress', 2848: 'ran', 2849: 'sincerely', 2850: \"people's\", 2851: 'intruding', 2852: 'doof', 2853: 'kadlubowski', 2854: 'learned', 2855: 'feld', 2856: 'runt', 2857: 'rat-like', 2858: 'gentleman:', 2859: 'traitor', 2860: 'due', 2861: 'smells', 2862: 'advertise', 2863: 'grease', 2864: 'she-pu', 2865: 'heavyset', 2866: 'thirteen', 2867: 'throwing', 2868: 'alter', 2869: 'such', 2870: 'whether', 2871: 'majority', 2872: 'guzzles', 2873: 'tenor:', 2874: 'hats', 2875: 'ron_howard:', 2876: 'artist', 2877: 'shush', 2878: 'channel', 2879: \"moe's_thoughts:\", 2880: 'chipped', 2881: \"'morning\", 2882: 'power', 2883: 'bronco', 2884: 'fat-free', 2885: 'precious', 2886: 'deserve', 2887: 'fishing', 2888: 'a-a-b-b-a', 2889: 'tapestry', 2890: 'sheepish', 2891: 'asking', 2892: 'wistful', 2893: 'serious', 2894: 'hearse', 2895: 'stock', 2896: \"table's\", 2897: 'pathetic', 2898: 'masks', 2899: 'playful', 2900: 'yards', 2901: 'gator:', 2902: \"wearin'\", 2903: 'wish-meat', 2904: 'bathtub', 2905: 'lurleen', 2906: 'ragtime', 2907: \"you've\", 2908: 'twelve', 2909: 'jokes', 2910: 'spirit', 2911: 'grace', 2912: 'excuses', 2913: 'resenting', 2914: \"y'see\", 2915: '14', 2916: 'gr-aargh', 2917: 'disgracefully', 2918: 'prince', 2919: 'krusty', 2920: 'blend', 2921: 'director', 2922: 'szyslak', 2923: 'virility', 2924: 'wolfcastle', 2925: 'sandwich', 2926: 'lighting', 2927: \"heat's\", 2928: 'k', 2929: 'separator', 2930: \"valentine's\", 2931: 'cause', 2932: 'amber', 2933: 'point', 2934: 'hyahh', 2935: 'shower', 2936: 'brusque', 2937: 'expense', 2938: 'drunk', 2939: 'hangs', 2940: 'ã€', 2941: 'inherent', 2942: 'showing', 2943: 'simpson', 2944: 'tofu', 2945: 'about', 2946: 'winch', 2947: 'gimme', 2948: 'suppose', 2949: 'ball-sized', 2950: 'mither', 2951: 'civilization', 2952: 'abandon', 2953: 'hexa-', 2954: 'progress', 2955: 'heads', 2956: 'unattractive', 2957: 'index', 2958: 'outta', 2959: 'sub-monkeys', 2960: 'stupidly', 2961: 'hibbert', 2962: 'repeating', 2963: 'slick', 2964: 'spellbinding', 2965: 'j', 2966: 'abcs', 2967: 'hearing', 2968: 'jã¤germeister', 2969: 'turns', 2970: 'frosty', 2971: 'dogs', 2972: 'adrift', 2973: 'stacey', 2974: 'wha', 2975: 'loves', 2976: 'recent', 2977: 'squirrels', 2978: 'kidding', 2979: 'combine', 2980: 'sneeze', 2981: 'pig', 2982: 'lousy', 2983: 'fit', 2984: 'uncomfortable', 2985: 'stares', 2986: \"president's\", 2987: 'adeleine', 2988: 'musical', 2989: 'hurt', 2990: 'bet', 2991: 'idioms', 2992: 'bury', 2993: 'anything', 2994: 'labels', 2995: 'susie-q', 2996: 'chained', 2997: 'chosen', 2998: 'week', 2999: 'calculate', 3000: 'once', 3001: 'advertising', 3002: 'lushmore', 3003: 'network', 3004: 'awesome', 3005: 'murdoch', 3006: 'barney_gumble:', 3007: 'remaining', 3008: 'concerned', 3009: 'kidnaps', 3010: 'admitting', 3011: 'quick-like', 3012: 'awfully', 3013: 'star', 3014: 'cliff', 3015: 'twins', 3016: 'har', 3017: 'midnight', 3018: 'furious', 3019: 'protesters', 3020: 'holds', 3021: 'squeezed', 3022: 'david', 3023: 'phase', 3024: 'rebuttal', 3025: 'dizzy', 3026: 'baloney', 3027: 'winded', 3028: \"nixon's\", 3029: 'pats', 3030: 'meaningless', 3031: 'actress', 3032: 'richard:', 3033: 'barter', 3034: 'honeys', 3035: \"mopin'\", 3036: 'elmer', 3037: 'mail', 3038: 'kind', 3039: 'mayor_joe_quimby:', 3040: 'one-hour', 3041: 'pantsless', 3042: 'site', 3043: 'dreary', 3044: 'stories', 3045: 'themselves', 3046: 'traffic', 3047: 'bubble', 3048: 'madison', 3049: \"cat's\", 3050: 'lotta', 3051: 'moustache', 3052: \"could've\", 3053: 'earlier', 3054: 'horses', 3055: 'ads', 3056: 'belts', 3057: \"spyin'\", 3058: 'woo', 3059: 'slap', 3060: 'gasoline', 3061: 'peach', 3062: 'whining', 3063: 'sympathetic', 3064: \"goin'\", 3065: 'temples', 3066: \"coaster's\", 3067: 'husband', 3068: 'righ', 3069: \"pope's\", 3070: 'lis', 3071: 'sickened', 3072: \"today's\", 3073: 'angel', 3074: 'automobiles', 3075: 'bender:', 3076: 'tradition', 3077: \"robbin'\", 3078: 'neon', 3079: 'dead', 3080: 'advantage', 3081: 'heave-ho', 3082: 'sips', 3083: 'looting', 3084: 'bottles', 3085: 'sobriety', 3086: 'astronauts', 3087: 'ass', 3088: 'bleeding', 3089: 'attend', 3090: 'times', 3091: 'radiator', 3092: 'bus', 3093: 'push', 3094: 'seriously', 3095: 'lost', 3096: 'ninety-seven', 3097: 'apartment', 3098: 'eighty-six', 3099: 'numeral', 3100: 'anti-intellectualism', 3101: 'chug-monkeys', 3102: 'woodchucks', 3103: 'sniffs', 3104: 'team', 3105: 'not', 3106: 'bouquet', 3107: \"dimwit's\", 3108: \"i'd\", 3109: 'dollars', 3110: 'cop', 3111: 'geez', 3112: 'underbridge', 3113: 'tinkle', 3114: 'haplessly', 3115: \"i'd'a\", 3116: 'digging', 3117: 'glen', 3118: 'stickers', 3119: 'slapped', 3120: 'onto', 3121: 'ech', 3122: 'beligerent', 3123: \"friend's\", 3124: 'health', 3125: 'stars', 3126: 'kay', 3127: 'wenceslas', 3128: 'stagy', 3129: 'small_boy:', 3130: 'eh', 3131: 'tony', 3132: \"isn't\", 3133: 'talk', 3134: 'badly', 3135: 'beep', 3136: 'mill', 3137: 'drop', 3138: 'kings', 3139: 'easy', 3140: 'sickly', 3141: 'fans', 3142: 'protesting', 3143: \"lisa's\", 3144: 'increasingly', 3145: 'brain-switching', 3146: 'handwriting', 3147: 'half-day', 3148: 'hunter', 3149: 'though', 3150: 'tear', 3151: \"treatin'\", 3152: 'ocean', 3153: 'bow', 3154: 'radioactive', 3155: 'nards', 3156: 'vin', 3157: 'geysir', 3158: 'kucinich', 3159: 'waking-up', 3160: \"bart'd\", 3161: 'city', 3162: 'unable', 3163: 'gol-dangit', 3164: \"y'know\", 3165: 'relaxed', 3166: 'slow', 3167: 'buried', 3168: 'pretending', 3169: '8', 3170: 'informant', 3171: 'hotline', 3172: 'chicks', 3173: 'cigarettes', 3174: 'killarney', 3175: 'expert', 3176: 'gel', 3177: 'crow', 3178: 'whip', 3179: 'dizer', 3180: 'switch', 3181: 'chapter', 3182: 'raising', 3183: 'schabadoo', 3184: 'prizefighters', 3185: 'medical', 3186: 'madonna', 3187: 'sometimes', 3188: 'muscles', 3189: 'ling', 3190: 'finance', 3191: 'lease', 3192: 'voters', 3193: 'thawing', 3194: 'band', 3195: 'graveyard', 3196: 'best', 3197: 'eu', 3198: 'looser', 3199: 'sexton', 3200: 'whoops', 3201: 'given', 3202: 'venom', 3203: 'treats', 3204: 'turn', 3205: \"fallin'\", 3206: 'annie', 3207: 'huh', 3208: 'assistant', 3209: \"this'll\", 3210: 'sports_announcer:', 3211: 'money', 3212: 'dealt', 3213: 'hurting', 3214: 'samples', 3215: 'eighty-five', 3216: 'speed', 3217: 'habitrail', 3218: 'washouts', 3219: 'sampler', 3220: 'shorter', 3221: 'ugh', 3222: \"starla's\", 3223: 'insulin', 3224: 'kickoff', 3225: 'eva', 3226: 'that', 3227: 'grunts', 3228: 'shirt', 3229: 'appropriate', 3230: 'saturday', 3231: 'chief_wiggum:', 3232: 'punkin', 3233: 'military', 3234: 'clincher', 3235: 'plan', 3236: 'wire', 3237: 'sacrifice', 3238: 'distinct', 3239: 'predecessor', 3240: 'case', 3241: 'partners', 3242: 'adequate', 3243: 'jeers', 3244: 'mid-conversation', 3245: 'whatsit', 3246: 'grammar', 3247: \"now's\", 3248: 'election', 3249: 'bar-boy', 3250: \"pickin'\", 3251: 'predictable', 3252: 'costume', 3253: 'appreciate', 3254: 'ehhhhhhhh', 3255: '100', 3256: 'coherent', 3257: 'fringe', 3258: 'can', 3259: 'cries', 3260: 'agent', 3261: 'sly', 3262: 'jewish', 3263: 'leg', 3264: 'mike', 3265: 'dennis', 3266: 'raggie', 3267: 'thesaurus', 3268: 'sale', 3269: 'silent', 3270: \"getting'\", 3271: 'nature', 3272: 'available', 3273: 'message', 3274: 'weight', 3275: 'nicer', 3276: 'burps', 3277: 'cuddling', 3278: 'statistician', 3279: 'care', 3280: 'film', 3281: 'cheered', 3282: 'material', 3283: 'world-class', 3284: 'catty', 3285: 'maxed', 3286: 'hobo', 3287: 'playoff', 3288: 'inserted', 3289: 'au', 3290: 'texan', 3291: 'move', 3292: 'ebullient', 3293: 'follow', 3294: 'macbeth', 3295: 'portuguese', 3296: 'managed', 3297: \"phone's\", 3298: 'scornful', 3299: 'casting', 3300: 'stevie', 3301: 'off', 3302: \"aren't\", 3303: 'them', 3304: 'ripping', 3305: 'joke', 3306: 'pussycat', 3307: 'combination', 3308: 'julienne', 3309: 'quality', 3310: 'beatings', 3311: 'milhouse_van_houten:', 3312: 'odd', 3313: \"world's\", 3314: 'forgiven', 3315: 'tablecloth', 3316: 'career', 3317: 'sweater', 3318: 'except', 3319: 'curds', 3320: 'out', 3321: '35', 3322: 'optimistic', 3323: \"industry's\", 3324: 'reasonable', 3325: 'recreate', 3326: 'astonishment', 3327: 'aged', 3328: '6', 3329: 'fellow', 3330: 'fbi_agent:', 3331: 'expect', 3332: 'pinball', 3333: 'murmur', 3334: 'pushes', 3335: 'ungrateful', 3336: 'pre-recorded', 3337: 'patient', 3338: 'expose', 3339: 'hate', 3340: 'ingredient', 3341: 'find', 3342: 'tv_wife:', 3343: 'whatchamacallit', 3344: \"jimbo's_dad:\", 3345: 'nice', 3346: 'tough', 3347: 'wind', 3348: 'ripcord', 3349: 'inexorable', 3350: 'combines', 3351: 'anderson', 3352: 'clap', 3353: \"father's\", 3354: 'confused', 3355: 'jazz', 3356: \"secret's\", 3357: 'mostrar', 3358: 'kill', 3359: 'with', 3360: 'afford', 3361: 'chapel', 3362: 'liquor', 3363: '1973', 3364: 'careful', 3365: 'jury', 3366: 'guy', 3367: 'delicately', 3368: 'blinded', 3369: 'tropical', 3370: 'prize', 3371: 'tenuous', 3372: 'successful', 3373: 'rekindle', 3374: 'discuss', 3375: 'brothers', 3376: 'squeeze', 3377: 'souvenir', 3378: 'pip', 3379: 'thoughts', 3380: 'staying', 3381: 'forbids', 3382: 'thighs', 3383: 'len-ny', 3384: 'motto', 3385: 'moesy', 3386: 'stumble', 3387: 'bagged', 3388: 'irishman', 3389: 'video', 3390: 'wife-swapping', 3391: 'mudflap', 3392: 'exact', 3393: 'sitting', 3394: 'feminine', 3395: 'clammy', 3396: 'byrne', 3397: 'upbeat', 3398: 'snake_jailbird:', 3399: 'stooges', 3400: 'dennis_conroy:', 3401: 'dancing', 3402: 'seductive', 3403: 'shall', 3404: 'dull', 3405: \"won't\", 3406: 'tie', 3407: 'renee', 3408: 'holding', 3409: 'no', 3410: \"messin'\", 3411: 'swallowed', 3412: 'depending', 3413: 'undies', 3414: 'button-pusher', 3415: 'gregor', 3416: 'pocket', 3417: 'menace', 3418: 'pus-bucket', 3419: 'duty', 3420: 'short_man:', 3421: 'fancy', 3422: 'bee', 3423: 'seamstress', 3424: 'sadder', 3425: 'grin', 3426: 'hibachi', 3427: 'cakes', 3428: 'donate', 3429: 'self-satisfied', 3430: 'oopsie', 3431: 'heliotrope', 3432: 'nelson_muntz:', 3433: 'hydrant', 3434: 'priority', 3435: 'solely', 3436: 'debonair', 3437: \"i'll\", 3438: 'enthusiastically', 3439: 'perhaps', 3440: 'allowed', 3441: 'sister', 3442: 'jar', 3443: 'spinning', 3444: 'trench', 3445: 'aziz', 3446: 'cobra', 3447: 'seeing', 3448: 'hug', 3449: 'arise', 3450: 'great', 3451: \"'roids\", 3452: 'hair', 3453: 'dictator', 3454: 'flanders', 3455: 'switched', 3456: 'intriguing', 3457: 'cerebral', 3458: 'oh', 3459: 'tomahto', 3460: 'then', 3461: 'tyson/secretariat', 3462: 'cute', 3463: 'koi', 3464: 'refiero', 3465: 'microwave', 3466: 'simon', 3467: \"city's\", 3468: 'muttering', 3469: 'baritone', 3470: 'fake', 3471: 'conspiratorial', 3472: 'drawer', 3473: 'cruiser', 3474: \"showin'\", 3475: 'jeter', 3476: 'tale', 3477: 'bridges', 3478: 'enforced', 3479: 'outrageous', 3480: 'jer', 3481: 'supply', 3482: 'snake', 3483: 'suing', 3484: 'fuhgetaboutit', 3485: 'tipsy', 3486: 'insulted', 3487: 'sucking', 3488: 'cents', 3489: 'rid', 3490: 'nantucket', 3491: 'sober', 3492: 'isotopes', 3493: 'mild', 3494: 'be-stainã¨d', 3495: 'germany', 3496: 'actor', 3497: 'repressed', 3498: 'guinea', 3499: 'bachelorhood', 3500: 'dipping', 3501: 'occurred', 3502: 'tells', 3503: 'conditioning', 3504: 'ordered', 3505: 'veteran', 3506: 'virile', 3507: 'yo', 3508: 'swooning', 3509: 'annus', 3510: 'quiet', 3511: 'overturned', 3512: 'sympathy', 3513: 'theatrical', 3514: 'sobbing', 3515: 'difficult', 3516: 'hafta', 3517: 'risquã©', 3518: 'counter', 3519: 'gee', 3520: 'placing', 3521: 'smile', 3522: '1-800-555-hugs', 3523: 'brag', 3524: 'jackpot-thief', 3525: 'holy', 3526: 'reckless', 3527: 'last', 3528: 'meyerhof', 3529: 'eminence', 3530: 'sweden', 3531: 'eight', 3532: 'diminish', 3533: '_eugene_blatz:', 3534: 'little', 3535: 'beady', 3536: 'bad-mouth', 3537: 'november', 3538: 'poetics', 3539: 'snackie', 3540: 'force', 3541: 'padre', 3542: 'rest', 3543: 'voyager', 3544: 'device', 3545: 'muffled', 3546: 'mini-beret', 3547: 'chuckling', 3548: 'coyly', 3549: 'male_inspector:', 3550: 'weeks', 3551: 'enter', 3552: 'lobster', 3553: 'taste', 3554: 'people', 3555: 'sweetest', 3556: 'eve', 3557: 'bigger', 3558: 'lucky', 3559: 'lifestyle', 3560: 'terror', 3561: 'meanwhile', 3562: 'wham', 3563: 'stamp', 3564: 'seen', 3565: 'dallas', 3566: 'shrieks', 3567: 'audience', 3568: 'title:', 3569: 'stole', 3570: 'ronstadt', 3571: \"others'\", 3572: 'cheat', 3573: 'liver', 3574: 'exits', 3575: 'fonda', 3576: 'accounta', 3577: 'stocking', 3578: 'heather', 3579: 'life:', 3580: 'bounced', 3581: 'distaste', 3582: 'noooooooooo', 3583: 'clams', 3584: 'encores', 3585: 'orgasmville', 3586: 'ashamed', 3587: 'virtual', 3588: 'dispenser', 3589: 'county', 3590: 'homeless', 3591: 'gas', 3592: 'vigilante', 3593: 'zone', 3594: 'crushed', 3595: \"poundin'\", 3596: 'patty_bouvier:', 3597: 'minors', 3598: \"callin'\", 3599: 'disposal', 3600: 'tragedy', 3601: 'sweaty', 3602: 'p-k', 3603: 'rock', 3604: 'aer', 3605: 'brine', 3606: 'lear', 3607: 'spotting', 3608: 'stretch', 3609: 'bookie', 3610: 'court', 3611: 'piling', 3612: 'manatee', 3613: 'and:', 3614: 'lowest', 3615: 'impressed', 3616: \"tootin'\", 3617: 'swear', 3618: 'homer_', 3619: 'enveloped', 3620: 'smugglers', 3621: 'paparazzo', 3622: 'felony', 3623: 'contractors', 3624: \"gettin'\", 3625: 'sealed', 3626: 'accurate', 3627: 'fantastic', 3628: 'salvador', 3629: 'neither', 3630: 'beer-dorf', 3631: 'slaps', 3632: 'aristotle:', 3633: 'vehicle', 3634: 'clips', 3635: 'punk', 3636: 'consciousness', 3637: 'disgusted', 3638: 'i', 3639: 'rainier_wolfcastle:', 3640: 'theatah', 3641: 'jig', 3642: 'cheated', 3643: 'wayne:', 3644: 'big', 3645: 'father', 3646: \"ladies'\", 3647: 'nelson', 3648: 'carl:', 3649: 'hawaii', 3650: 'fausto', 3651: 'insist', 3652: 'yourse', 3653: 'nigel_bakerbutcher:', 3654: 'company', 3655: 'falcons', 3656: 'forty-two', 3657: 'most:', 3658: 'linda', 3659: 'david_byrne:', 3660: 'ladies', 3661: 'mistake', 3662: 'fuss', 3663: 'recipe', 3664: 'here-here-here', 3665: 'called', 3666: 'mustard', 3667: 'scam', 3668: 'points', 3669: 'trees', 3670: 'joint', 3671: 'vestigial', 3672: 'slobs', 3673: 'light', 3674: 'grope', 3675: 'sleigh-horses', 3676: 'chauffeur:', 3677: 'placed', 3678: 'dean', 3679: 'customers', 3680: 'forced', 3681: 'inclination', 3682: 'novelty', 3683: 'step', 3684: 'hammock', 3685: 'nobody', 3686: 'kahlua', 3687: 'glad', 3688: 'ma', 3689: 'ali', 3690: 'bite', 3691: 'past', 3692: 'wrap', 3693: 'cushion', 3694: 'venture', 3695: 'eats', 3696: 'selfish', 3697: 'roller', 3698: 'diapers', 3699: 'billiard', 3700: 'brilliant', 3701: 'sponsoring', 3702: 'license', 3703: 'drift', 3704: 'burt_reynolds:', 3705: \"buffalo's\", 3706: 'chest', 3707: 'handsome', 3708: 'tar-paper', 3709: 'bought', 3710: 'sassy', 3711: 'shop', 3712: 'hat', 3713: 'warned', 3714: 'weekend', 3715: 'been', 3716: 'kicks', 3717: 'waitress', 3718: \"patrick's\", 3719: 'wizard', 3720: 'polenta', 3721: 'fink', 3722: 'loaded', 3723: 'liar', 3724: 'dollface', 3725: 'youse', 3726: 'firing', 3727: 'started', 3728: \"breakin'\", 3729: 'reach', 3730: 'renders', 3731: 'whatever', 3732: 'apply', 3733: 'thunder', 3734: 'god', 3735: 'shesh', 3736: 'philip', 3737: 'bank', 3738: 'e-z', 3739: 'flash-fry', 3740: 'dyspeptic', 3741: 'it', 3742: 'betrayed', 3743: 'luckily', 3744: 'conditioners', 3745: 'freshened', 3746: 'bible', 3747: 'brawled', 3748: 'struggling', 3749: 'crinkly', 3750: 'delighted', 3751: 'hitler', 3752: 'part-time', 3753: 'hours', 3754: 'puff', 3755: 'temp', 3756: 'heatherton', 3757: 'burt', 3758: 'remembered', 3759: 'telegraph', 3760: 'prefer', 3761: 'usually', 3762: 'enthusiasm', 3763: 'him', 3764: 'bed', 3765: 'joy', 3766: 'ninth', 3767: 'gargoyles', 3768: 'itself', 3769: 'fast-paced', 3770: 'boxers', 3771: 'duff_announcer:', 3772: \"somethin':\", 3773: \"wino's\", 3774: 'proves', 3775: 'bears', 3776: 'gum', 3777: 'goldarnit', 3778: 'drummer', 3779: 'wisconsin', 3780: 'albeit', 3781: 'cecil_terwilliger:', 3782: 'fault', 3783: 'gibson', 3784: 'die', 3785: 'these', 3786: 'developed', 3787: 'learn', 3788: 'utensils', 3789: 'ton', 3790: 'brace', 3791: 'scully', 3792: 'picked', 3793: 'alcohol', 3794: 'checking', 3795: 'oof', 3796: 'rough', 3797: 'taught', 3798: 'interested', 3799: 'peeved', 3800: 'and/or', 3801: 'agree', 3802: 'sentimonies', 3803: 'puffy', 3804: 'stan', 3805: \"everyone's\", 3806: 'wheeeee', 3807: 'brewed', 3808: \"crawlin'\", 3809: 'novel', 3810: 'good', 3811: 'screw', 3812: 'taps', 3813: 'twenty', 3814: 'sang', 3815: 'scary', 3816: 'contemplated', 3817: 'wear', 3818: \"'til\", 3819: 'vulnerable', 3820: 'round', 3821: '3rd_voice:', 3822: 'blurbs', 3823: 'bon', 3824: 'other_book_club_member:', 3825: 'administration', 3826: 'inning', 3827: 'realized', 3828: 'medicine', 3829: 'patron_#1:', 3830: 'moon', 3831: 'stagey', 3832: 'tubman', 3833: 'watered-down', 3834: 'extended', 3835: 'hit', 3836: 'strain', 3837: 'prolonged', 3838: 'louisiana', 3839: 'cracked', 3840: 'tv_father:', 3841: 'caught', 3842: 'tonic', 3843: 'numbers', 3844: 'dame', 3845: 'hmmm', 3846: 'song', 3847: 'batmobile', 3848: 'unlucky', 3849: 'rupert_murdoch:', 3850: 'average-looking', 3851: 'hosting', 3852: 'chuckles', 3853: 'compressions', 3854: 'installed', 3855: 'confidence', 3856: 'glamour', 3857: 'correction', 3858: 'cleaning', 3859: 'sales', 3860: 'crew', 3861: 'recall', 3862: \"linin'\", 3863: 'although', 3864: 'come', 3865: 'uncreeped-out', 3866: 'carll', 3867: 'like', 3868: 'evils', 3869: 'cajun', 3870: 'jerky', 3871: 'drinking', 3872: 'rector', 3873: 'wars', 3874: 'bannister', 3875: 'somehow', 3876: \"thing's\", 3877: 'nervous', 3878: 'branding', 3879: 'coms', 3880: \"games'd\", 3881: 'bartending', 3882: 'dignity', 3883: 'dã¼ffenbraus', 3884: 'stools', 3885: 'frink', 3886: 'soothing', 3887: 'fifty', 3888: \"c'mom\", 3889: 'fistiana', 3890: 'key', 3891: 'hemorrhage-amundo', 3892: 'airport', 3893: 'crisis', 3894: 'consoling', 3895: 'feat', 3896: 'wild', 3897: 'teacup', 3898: 'loud', 3899: 'foundation', 3900: 'remodel', 3901: 'despite', 3902: \"doin'\", 3903: 'johnny', 3904: 'mid-seventies', 3905: 'reviews', 3906: 'today', 3907: 'th-th-th-the', 3908: 'trashed', 3909: 'project', 3910: 'fury', 3911: 'grey', 3912: 'starters', 3913: \"can't-believe-how-bald-he-is\", 3914: 'espn', 3915: 'gumbo', 3916: 'homeland', 3917: 'quick', 3918: 'cell', 3919: 'industry', 3920: 'modestly', 3921: 'hey', 3922: 'dumb', 3923: 'jacksons', 3924: 'impatient', 3925: 'wave', 3926: 'plucked', 3927: 'hunka', 3928: 'made', 3929: 'parked', 3930: 'ventriloquism', 3931: 'seminar', 3932: 'welcome', 3933: 'clown-like', 3934: 'assent', 3935: 'klingon', 3936: 'kemi:', 3937: 'texas', 3938: 'shaky', 3939: 'stool', 3940: 'triangle', 3941: 'tease', 3942: 'brow', 3943: 'tv_daughter:', 3944: 'held', 3945: 'passion', 3946: 'see', 3947: 'grimly', 3948: 'contact', 3949: 'drag', 3950: 'benefits', 3951: 'bobo', 3952: 'feels', 3953: \"they'll\", 3954: 'murdered', 3955: 'day', 3956: 'starla', 3957: 'shoo', 3958: 'concentrate', 3959: 'anguished', 3960: 'pour', 3961: 'choices', 3962: 'favor', 3963: 'delightfully', 3964: 'slab', 3965: 'pissed', 3966: 'add', 3967: 'idea', 3968: 'ask', 3969: 'smell', 3970: 'gotta', 3971: 'forget-me-shot', 3972: \"watchin'\", 3973: 'war', 3974: 'getting', 3975: 'showered', 3976: 'frankenstein', 3977: 'name', 3978: 'appointment', 3979: 'unfortunately', 3980: 'half', 3981: 'appendectomy', 3982: 'widow', 3983: 'wooooo', 3984: 'male_singers:', 3985: 'mcbain', 3986: 'versus', 3987: 'nonchalant', 3988: 'exclusive:', 3989: 'laney', 3990: 'marge', 3991: 'sincere', 3992: 'hans:', 3993: 'dying', 3994: 'jacques:', 3995: 'vegas', 3996: 'thanksgiving', 3997: 'devastated', 3998: 'para', 3999: 'problemo', 4000: 'in-in-in', 4001: 'gently', 4002: 'dinks', 4003: 'rhyme', 4004: 'sister-in-law', 4005: 'listening', 4006: 'kinds', 4007: \"tv'll\", 4008: 'slender', 4009: 'spiritual', 4010: '7-year-old_brockman:', 4011: 'understood', 4012: 'mckinley', 4013: 'counting', 4014: 'occasion', 4015: 'breath', 4016: 'tomato', 4017: \"challengin'\", 4018: 'boxer:', 4019: 'politician', 4020: 'argue', 4021: 'dashes', 4022: 'pep', 4023: 'dryer', 4024: 'troubles', 4025: 'steampunk', 4026: \"how'd\", 4027: 'including', 4028: 'principles', 4029: 'fiction', 4030: 'register', 4031: 'criminal', 4032: 'leak', 4033: 'violin', 4034: 'gonna', 4035: 'elizabeth', 4036: 'gives', 4037: 'committing', 4038: 'mitts', 4039: '_hooper:', 4040: 'madman', 4041: 'friday', 4042: 'shareholder', 4043: 'asleep', 4044: 'young', 4045: 'treehouse', 4046: 'selling', 4047: 'sarcastic', 4048: \"springfield's\", 4049: 'judgments', 4050: 'darjeeling', 4051: 'faulkner', 4052: 'bam', 4053: 'toss', 4054: 'cans', 4055: 'guns', 4056: 'offshoot', 4057: 'awed', 4058: 'aside', 4059: 'monroe', 4060: 'swamp', 4061: 'naively', 4062: 'celeste', 4063: 'peter_buck:', 4064: 'bees', 4065: 'poetry', 4066: 'official', 4067: 'boxing_announcer:', 4068: 'poin-dexterous', 4069: \"brockman's\", 4070: 'burnside', 4071: 'youuu', 4072: \"she'll\", 4073: 'law', 4074: 'paint', 4075: 'cuckoo', 4076: 'mm-hmm', 4077: 'presto:', 4078: 'chin', 4079: 'normal', 4080: 'cats', 4081: 'wins', 4082: 'st', 4083: 'formico:', 4084: \"eatin'\", 4085: 'hospital', 4086: 'rhode', 4087: 'dollar', 4088: 'enough', 4089: 'fumigated', 4090: 'yew', 4091: 'macho', 4092: 'my', 4093: 'sorts', 4094: 'inspired', 4095: 'eleven', 4096: 'drapes', 4097: \"hadn't\", 4098: \"betsy'll\", 4099: 'however', 4100: 'cooler', 4101: 'self-made', 4102: 'lovers', 4103: 'idiots', 4104: 'tearfully', 4105: 'kool', 4106: 'shrugs', 4107: 'mall', 4108: 'lainie:', 4109: 'shard', 4110: 'lie', 4111: 'y', 4112: 'guard', 4113: 'certain', 4114: 'played', 4115: 'simple', 4116: 'detective_homer_simpson:', 4117: 'dressing', 4118: 'hooch', 4119: 'miserable', 4120: 'politics', 4121: 'foam', 4122: 'blamed', 4123: 'malabar', 4124: 'accusing', 4125: 'lurks', 4126: 'skydiving', 4127: 'joey_kramer:', 4128: 'snitch', 4129: 'happen', 4130: 'maximum', 4131: 'bull', 4132: 'brought', 4133: \"listenin'\", 4134: 'beast', 4135: 'doreen:', 4136: 'toasting', 4137: 'trustworthy', 4138: 'candy', 4139: 'motor', 4140: 'forget-me-drinks', 4141: 'skinheads', 4142: 'chow', 4143: 'matter-of-fact', 4144: 'derek', 4145: 'drinks', 4146: 'ease', 4147: 'someone', 4148: 'disturbance', 4149: \"let's\", 4150: \"daughter's\", 4151: 'privacy', 4152: 'market', 4153: 'file', 4154: 'shortcomings', 4155: 'driveability', 4156: 'bupkus', 4157: 'falling', 4158: \"brady's\", 4159: 'believe', 4160: 'perverted', 4161: 'gossipy', 4162: \"what're\", 4163: 'kinderhook', 4164: 'togetherness', 4165: 'hurts', 4166: 'safety', 4167: 'wally:', 4168: 'nitwit', 4169: 'remorseful', 4170: 'gluten', 4171: 'defected', 4172: 'championship', 4173: 'true', 4174: 'treat', 4175: 'clean', 4176: 'bald', 4177: 'hockey-fight', 4178: \"cheerin'\", 4179: 'hah', 4180: 'dirty', 4181: 'leave', 4182: 'regulations', 4183: 'degradation', 4184: 'cockroaches', 4185: 'sponge:', 4186: 'morning-after', 4187: 'suspicious', 4188: 'incapable', 4189: 'delts', 4190: 'kissingher', 4191: 'gamble', 4192: 'fevered', 4193: 'rickles', 4194: 'pantry', 4195: 'lee', 4196: 'ehhhhhhhhh', 4197: 'transfer', 4198: 'very', 4199: 'media', 4200: 'real', 4201: 'dump', 4202: 'stones', 4203: 'mount', 4204: 'jubilation', 4205: 'upsetting', 4206: 'barely', 4207: 'squeals', 4208: 'lights', 4209: 'chastity', 4210: 'riding', 4211: 'fbi', 4212: 'thanking', 4213: 'signal', 4214: 'season', 4215: 'did', 4216: 'ruled', 4217: 'insured', 4218: 'dance', 4219: 'all-star', 4220: 'throats', 4221: 'rockers', 4222: 'joking', 4223: \"man's_voice:\", 4224: 'bellyaching', 4225: 'invisible', 4226: 'profiling', 4227: 'ballot', 4228: 'commit', 4229: \"you'd\", 4230: 'law-abiding', 4231: 'must', 4232: 'remains', 4233: 'whatcha', 4234: 'north', 4235: 'runners', 4236: 'popular', 4237: \"tester's\", 4238: \"year's\", 4239: 'heartily', 4240: 'incarcerated', 4241: 'audience:', 4242: 'briefly', 4243: 'mexicans', 4244: 'embarrassing', 4245: 'manfred', 4246: 'deliberate', 4247: 'flayvin', 4248: 'muhammad', 4249: 'bid', 4250: 'could', 4251: 'princesses', 4252: 'manjula', 4253: 'inanely', 4254: 'splattered', 4255: 'allegiance', 4256: 'box', 4257: 'robot', 4258: 'moe-heads', 4259: 'approval', 4260: 'mugs', 4261: 'plywood', 4262: 'here', 4263: 'cockroach', 4264: 'louder', 4265: 'engraved', 4266: 'suspiciously', 4267: \"fun's\", 4268: 'beauty', 4269: 'wait', 4270: 'dude', 4271: 'operation', 4272: 'tape', 4273: 'funny', 4274: 'brainiac', 4275: 'femininity', 4276: 'terrace', 4277: 'composer', 4278: '/mr', 4279: 'beaumarchais', 4280: 'sticking', 4281: 'is', 4282: 'encouraging', 4283: 'terrified', 4284: 'perã³n', 4285: 'life', 4286: 'well-wisher', 4287: 'legs', 4288: 'patting', 4289: 'touchdown', 4290: 'craphole', 4291: 'than', 4292: 'easy-going', 4293: 'fat_tony:', 4294: \"stayin'\", 4295: 'squirrel', 4296: 'sanctuary', 4297: 'forgotten', 4298: 'crowds', 4299: 'nightmare', 4300: 'pirate', 4301: 'employment', 4302: 'fictional', 4303: 'golden', 4304: 'maya', 4305: 'conditioner', 4306: 'plastered', 4307: 'answers', 4308: 'mamma', 4309: 'thrown', 4310: 'catch-phrase', 4311: 'ya', 4312: '_marvin_monroe:', 4313: 'viva', 4314: 'reader', 4315: 'rap', 4316: 'almost', 4317: 'engine', 4318: 'early', 4319: 'kent_brockman:', 4320: 'carl', 4321: 'errrrrrr', 4322: 'age', 4323: 'hears', 4324: 'loafers', 4325: 'enemy', 4326: 'fontaine', 4327: 'front', 4328: 'decision', 4329: 'lemonade', 4330: 'steak', 4331: 'shares', 4332: 'convenient', 4333: 'lobster-based', 4334: 'grains', 4335: 'dealer', 4336: 'polite', 4337: 'wash', 4338: 'crunch', 4339: 'loyal', 4340: \"boy's\", 4341: 'choose', 4342: 'carpet', 4343: 'road', 4344: 'suck', 4345: 'club', 4346: 'nuclear', 4347: 'fustigation', 4348: 'egg', 4349: 'cab_driver:', 4350: 'mountain', 4351: 'stalwart', 4352: 'homesick', 4353: 'pickled', 4354: \"yieldin'\", 4355: 'bye', 4356: 'helping', 4357: 'saying', 4358: 'hollye', 4359: 'poem', 4360: 'dealie', 4361: 'wolverines', 4362: 'wells', 4363: 'during', 4364: 'hotenhoffer', 4365: 'served', 4366: 'homer_simpson:', 4367: 'dive', 4368: 'sleep', 4369: 'bolting', 4370: \"battin'\", 4371: 'worst', 4372: 'how', 4373: 'stunned', 4374: 'whispered', 4375: 'friend', 4376: 'internet', 4377: 'nuked', 4378: 'killjoy', 4379: '_julius_hibbert:', 4380: 'competing', 4381: 'famous', 4382: 'funniest', 4383: 'klown', 4384: 'infiltrate', 4385: 'limited', 4386: 'shelbyville', 4387: 'corpses', 4388: 'dig', 4389: 'pouring', 4390: 'fire', 4391: 'scarf', 4392: 'boned', 4393: 'hits', 4394: 'loan', 4395: 'plants', 4396: 'unsanitary', 4397: 'pizza', 4398: 'lying', 4399: 'disappear', 4400: 'repeated', 4401: 'wiping', 4402: 'mic', 4403: 'murderously', 4404: \"i'm-so-stupid\", 4405: 'other', 4406: 'backward', 4407: 'traditions', 4408: \"buyin'\", 4409: 'horns', 4410: \"'your\", 4411: 'pointed', 4412: 'wipe', 4413: 'greedy', 4414: 'wore', 4415: 'equal', 4416: \"calf's\", 4417: 'irish', 4418: 'foot', 4419: 'terrorizing', 4420: 'further', 4421: 'firm', 4422: 'prove', 4423: 'keys', 4424: 'exasperated', 4425: 'comic', 4426: 'sunny', 4427: 'western', 4428: 'consulting', 4429: 'pleased', 4430: 'wagering', 4431: 'flush-town', 4432: 'regret', 4433: 'swishkabobs', 4434: 'slot', 4435: 'thousand', 4436: 'depressed', 4437: 'alone', 4438: 'krabappel', 4439: 'letter', 4440: 'today/', 4441: 'disguise', 4442: 'lips', 4443: 'figures', 4444: 'compadre', 4445: 'carney', 4446: 'meaningfully', 4447: 'eat', 4448: \"time's\", 4449: 'illustrates', 4450: 'science', 4451: 'shout', 4452: 'groin', 4453: 'freely', 4454: 'stamps', 4455: 'there', 4456: 'complete', 4457: 'underpants', 4458: 'chance', 4459: 'asks', 4460: 'anyhoo', 4461: 'dateline:', 4462: \"idea's\", 4463: 'standards', 4464: 'lush', 4465: 'paramedic:', 4466: 'warily', 4467: 'pick', 4468: 'renee:', 4469: 'sizes', 4470: 'fourth', 4471: \"mother's\", 4472: 'quimby', 4473: 'moved', 4474: 'boozy', 4475: 'pad', 4476: 'syndicate', 4477: 'leaving', 4478: 'shock', 4479: \"aren'tcha\", 4480: 'gambler', 4481: 'ugliness', 4482: 'park', 4483: 'ruined', 4484: 'young_barfly:', 4485: 'smithers', 4486: 'floated', 4487: '4x4', 4488: 'underwear', 4489: 'teenage', 4490: 'sir', 4491: 'oooh', 4492: 'edison', 4493: 'blame', 4494: 'record', 4495: 'agency', 4496: 'carefully', 4497: 'nucular', 4498: 'fires', 4499: 'improved', 4500: 'victory', 4501: 'cavern', 4502: 'ooo', 4503: 'cable', 4504: 'strawberry', 4505: 'mistakes', 4506: 'tomatoes', 4507: 'break-up', 4508: 'weep', 4509: 'housewife', 4510: 'hard', 4511: \"fishin'\", 4512: 'victim', 4513: 'alcoholism', 4514: 'pigtown', 4515: 'windex', 4516: 'tactful', 4517: 'vermont', 4518: 'forty-five', 4519: 'rutabaga', 4520: 'yogurt', 4521: 'understand', 4522: \"ragin'\", 4523: 'karaoke', 4524: 'gums', 4525: 'actually', 4526: 'candles', 4527: 'fella', 4528: 'pint', 4529: 'reserved', 4530: 'wasted', 4531: 'maude', 4532: 'witches', 4533: 'idiot', 4534: 'espousing', 4535: 'uglier', 4536: \"ball's\", 4537: 'stands', 4538: 'crying', 4539: 'storms', 4540: 'new_health_inspector:', 4541: 'reporter', 4542: 'private', 4543: 'rules', 4544: \"hole'\", 4545: 'miles', 4546: 'jobs', 4547: 'the', 4548: 'lives', 4549: 'mickey', 4550: 'aidens', 4551: 'back', 4552: 'smile:', 4553: 'bitter', 4554: 'carb', 4555: 'arts', 4556: 'lap', 4557: 'mother', 4558: \"changin'\", 4559: 'hilton', 4560: 'ineffective', 4561: 'designated', 4562: 'associate', 4563: 'affectations', 4564: 'slip', 4565: 'miss', 4566: 'sloppy', 4567: 'poisoning', 4568: 'wrapped', 4569: 'i-i', 4570: 'running', 4571: 'written', 4572: 'wage', 4573: 'mom', 4574: 'wooden', 4575: 'order', 4576: \"renee's\", 4577: 'sweetie', 4578: 'handing', 4579: 'anti-lock', 4580: 'voodoo', 4581: 'regulars', 4582: 'quarry', 4583: 'break', 4584: 'casual', 4585: 'nasa', 4586: 'sniffing', 4587: 'sumatran', 4588: 'spoken', 4589: 'dateline', 4590: 'matter', 4591: 'brockman', 4592: 'montrer', 4593: 'flanders:', 4594: 'average', 4595: 'knuckles', 4596: 'indecipherable', 4597: 'sagacity', 4598: \"lookin'\", 4599: 'whoo', 4600: 'wednesday', 4601: 'ah-ha', 4602: 'in-ground', 4603: 'consider', 4604: 'classy', 4605: 'eyes', 4606: 'aquafresh', 4607: \"somebody's\", 4608: 'pian-ee', 4609: 'correcting', 4610: 'month', 4611: 'wall', 4612: 'd', 4613: \"show's\", 4614: 'beard', 4615: 'grudgingly', 4616: 'cameras', 4617: 'mint', 4618: \"o'clock\", 4619: 'windowshade', 4620: 'prompting', 4621: 'legend', 4622: 'escort', 4623: 'indigenous', 4624: 'along', 4625: 'wound', 4626: 'figured', 4627: 'station', 4628: \"bringin'\", 4629: 'crab', 4630: 'shotgun', 4631: 'information', 4632: 'uninhibited', 4633: 'scum-sucking', 4634: 'lecture', 4635: 'harvey', 4636: 'gloop', 4637: 'nash', 4638: '-ry', 4639: 'kl5-4796', 4640: 'gig', 4641: 'christopher', 4642: 'four', 4643: 'detective', 4644: 'face-macer', 4645: 'flush', 4646: 'ails', 4647: 'ring', 4648: 'secret', 4649: 'twice', 4650: 'nigerian', 4651: 'tsking', 4652: 'recorder', 4653: 'run', 4654: 'farewell', 4655: 'know', 4656: 'drinking:', 4657: 'alpha-crow', 4658: 'store-bought', 4659: 'easily', 4660: 'awe', 4661: 'excellent', 4662: 'sun', 4663: 'hands', 4664: 'broken:', 4665: 'keep', 4666: 'puke', 4667: 'calling', 4668: 'avec', 4669: 'barflies:', 4670: 'woo-hoo', 4671: 'bullet-proof', 4672: 'sounded', 4673: \"tab's\", 4674: 'down', 4675: 'skin', 4676: 'general', 4677: 'lindsay', 4678: 'smitty:', 4679: 'braun:', 4680: 'your', 4681: 'crayon', 4682: 'sneaky', 4683: 'prepared', 4684: 'edna-lover-one-seventy-two', 4685: 'four-drink', 4686: 'rich', 4687: \"they're\", 4688: \"askin'\", 4689: 'passenger', 4690: 'willing', 4691: 'drawing', 4692: 'eddie', 4693: 'compare', 4694: 'comfortable', 4695: 'libido', 4696: 'trunk', 4697: 'unless', 4698: 'trapped', 4699: 'when-i-get-a-hold-of-you', 4700: 'swe-ee-ee-ee-eet', 4701: 'chilly', 4702: 'fifteen', 4703: 'nonsense', 4704: 'corner', 4705: 'who-o-oa', 4706: 'daughter', 4707: 'eighty-one', 4708: \"'ceptin'\", 4709: 'celebration', 4710: 'beam', 4711: 'jasper_beardly:', 4712: 'threw', 4713: 'dramatic', 4714: 'high-definition', 4715: 'edna', 4716: 'fast', 4717: 'thorn', 4718: 'schedule', 4719: 'turning', 4720: 'charges', 4721: 'straight', 4722: 'lodge', 4723: 'marvin', 4724: \"kid's\", 4725: 'pretzels', 4726: 'paid', 4727: 'without', 4728: \"choosin'\", 4729: 'dumptruck', 4730: 'cueball', 4731: 'killed', 4732: 'stay-puft', 4733: 'crowned', 4734: 'ear', 4735: 'wobble', 4736: 'cell-ee', 4737: 'whoopi', 4738: 'prime', 4739: 'fund', 4740: 'freak', 4741: 'sat', 4742: 'stewart', 4743: 'recently', 4744: 'highest', 4745: 'gag', 4746: 'focused', 4747: 'occurs', 4748: 'handed', 4749: 'accept', 4750: 'cream', 4751: 'professor_jonathan_frink:', 4752: 'compliments', 4753: 'van', 4754: 'table', 4755: 'anthony_kiedis:', 4756: 'charlie:', 4757: 'effervescence', 4758: 'super', 4759: 'side:', 4760: 'surprise', 4761: 'malfeasance', 4762: \"he's\", 4763: 'attractive', 4764: 'romance', 4765: 'warmly', 4766: 'hotel', 4767: 'sec', 4768: 'wondered', 4769: 'wayne', 4770: 'contemplates', 4771: 'sweat', 4772: 'lumpa', 4773: 'tears', 4774: 'surprised/thrilled', 4775: 'if', 4776: 'sooo', 4777: 'disco_stu:', 4778: 'sky', 4779: 'zinged', 4780: 'reflected', 4781: 'bunion', 4782: 'tooth', 4783: 'pointy', 4784: 'hold', 4785: 'what-for', 4786: 'griffith', 4787: 'hems', 4788: 'daddy', 4789: 'applesauce', 4790: 'writer:', 4791: 'examines', 4792: 'flew', 4793: 'gardens', 4794: 'speech', 4795: 'impress', 4796: 'crony', 4797: 'jack_larson:', 4798: 'row', 4799: 'chief', 4800: 'belches', 4801: 'bidet', 4802: 'spanish', 4803: 'glyco-load', 4804: 'anyone', 4805: 'oww', 4806: 'plow', 4807: 'pretty', 4808: 'severe', 4809: 'warn', 4810: 'blossoming', 4811: 'presses', 4812: 'offer', 4813: 'frankie', 4814: 'harmony', 4815: 'crimes', 4816: 'corn', 4817: \"maggie's\", 4818: 'waste', 4819: 'don', 4820: 'maher', 4821: 'queen', 4822: 'flag', 4823: 'beaumont', 4824: 'celebrities', 4825: 'defensive', 4826: \"d'ya\", 4827: 'pyramid', 4828: 'manuel', 4829: 'presidents', 4830: 'yammering', 4831: 'failed', 4832: 'and', 4833: 'fabulous', 4834: 'self-centered', 4835: 'continuum', 4836: 'dessert', 4837: 'right-handed', 4838: 'recruiter', 4839: 'powers', 4840: 'sugar', 4841: 'sneering', 4842: 'cake', 4843: 'oblivious', 4844: 'considering:', 4845: 'boxcars', 4846: 'courage', 4847: 'view', 4848: 'sexy', 4849: 'above', 4850: \"drexel's\", 4851: 'nein', 4852: \"narratin'\", 4853: 'blowfish', 4854: 'getcha', 4855: 'grumpy', 4856: 'names', 4857: 'brunswick', 4858: 'neat', 4859: 'state', 4860: 'gary:', 4861: 'dexterous', 4862: 'everyone', 4863: 'gets', 4864: 'reluctantly', 4865: 'arrested:', 4866: 'fiiiiile', 4867: 'koholic', 4868: 'kyoto', 4869: 'selective', 4870: 'neighboreeno', 4871: 'model', 4872: 'another', 4873: 'stayed', 4874: 'skinner', 4875: 'fulla', 4876: 'sinkhole', 4877: \"who's\", 4878: 'simp-sonnnn', 4879: 'maya:', 4880: 'skunk', 4881: 'sticker', 4882: 'singers:', 4883: 'moe-near-now', 4884: \"man'd\", 4885: 'solid', 4886: 'workers', 4887: 'rob', 4888: 'toxins', 4889: 'society', 4890: 'pizzicato', 4891: 'kermit', 4892: 'but', 4893: 'hurry', 4894: 'ago', 4895: 'older', 4896: 'statesmanlike', 4897: 'handler', 4898: 'sixty', 4899: 'preparation', 4900: 'flips', 4901: 'defeated', 4902: 'rather', 4903: 'augustus', 4904: 'dreams', 4905: 'grub', 4906: 'year', 4907: 'mirror', 4908: \"feelin's\", 4909: 'sketching', 4910: 'yak', 4911: 'bumblebee_man:', 4912: 'universe', 4913: 'mmm-hmm', 4914: 'jukebox', 4915: 'beer', 4916: 'often', 4917: 'penny', 4918: 'youth', 4919: 'hooray', 4920: \"marge's\", 4921: 'calm', 4922: 'super-nice', 4923: 'jimmy', 4924: 'wheels', 4925: 'fondest', 4926: 'initially', 4927: 'si-lent', 4928: 'bras', 4929: 'listen', 4930: 'shoulders', 4931: 'strategizing', 4932: 'modest', 4933: 'kodos:', 4934: 'taxi', 4935: 'lock', 4936: 'alky', 4937: 'balls', 4938: 'gunter', 4939: 'barbed', 4940: 'published', 4941: 'haikus', 4942: 'religion', 4943: 'bourbon', 4944: 'encore', 4945: 'ancestors', 4946: 'eaters', 4947: 'afternoon', 4948: 'yell', 4949: 'buddies', 4950: 'billy_the_kid:', 4951: 'be', 4952: 'machine', 4953: 'night-crawlers', 4954: 'hangout', 4955: 'sleeping', 4956: 'interesting', 4957: 'britannia', 4958: 'pond', 4959: 'arimasen', 4960: 'aw', 4961: 'clearly', 4962: 'scientific', 4963: 'arrived', 4964: 'telling', 4965: 'reason', 4966: 'maggie', 4967: 'eager', 4968: 'sharing', 4969: \"she'd\", 4970: 'stonewall', 4971: 'magic', 4972: 'grammy', 4973: 'none', 4974: 'quit', 4975: 'lessee', 4976: 'ned_flanders:', 4977: 'appealing', 4978: 'villanova', 4979: 'rolls', 4980: 'toward', 4981: 'hand', 4982: 'aah', 4983: 'admiration', 4984: 'lately', 4985: 'bonfire', 4986: 'subject', 4987: 'longer', 4988: 'blank', 4989: 'full-bodied', 4990: '1979', 4991: 'cannot', 4992: 'finger', 4993: 'botanical', 4994: 'deny', 4995: 'pair', 4996: 'ideal', 4997: 'highway', 4998: 'german', 4999: 'wildest', 5000: 'skeptical', 5001: 'ghouls', 5002: 'knocked', 5003: 'damage', 5004: 'trivia', 5005: \"ma'am\", 5006: 'whenever', 5007: 'railroad', 5008: 'won', 5009: 'ointment', 5010: 'beat', 5011: 'rueful', 5012: 'browns', 5013: 'tall', 5014: 'territorial', 5015: 'near', 5016: 'honey', 5017: 'shows', 5018: 'professional', 5019: 'lied', 5020: 'edgy', 5021: 'players', 5022: 'basement', 5023: 'shipment', 5024: 'level', 5025: 'mr', 5026: 'america', 5027: 'harv:', 5028: \"man's\", 5029: 'bartenders', 5030: 'robin', 5031: 'feast', 5032: 'soot', 5033: 'drawn', 5034: 'store', 5035: 'book_club_member:', 5036: 'tickets', 5037: 'landlord', 5038: 'elder', 5039: 'mortgage', 5040: 'mostly', 5041: 'meaningful', 5042: 'afterglow', 5043: 'k-zug', 5044: 'died', 5045: 'shuts', 5046: 'mystery', 5047: 'rocks', 5048: 'angrily', 5049: 'belong', 5050: 'forty-nine', 5051: 'ron', 5052: 'poet', 5053: 'ever', 5054: 'moe-clone', 5055: \"stabbin'\", 5056: 'collapse', 5057: 'museum', 5058: 'lenny_leonard:', 5059: 'dumpster', 5060: 'infor', 5061: 'spouses', 5062: 'laughing', 5063: 'data', 5064: 'tell', 5065: 'damn', 5066: 'looks', 5067: \"waitin'\", 5068: 'simpsons', 5069: 'was', 5070: 'coffee', 5071: 'paintings', 5072: \"fendin'\", 5073: 'dejected', 5074: 'er', 5075: 'incriminating', 5076: 'hero-phobia', 5077: 'amanda', 5078: 'selma_bouvier:', 5079: 'twentieth', 5080: 'huhza', 5081: 'lookalike:', 5082: 'marjorie', 5083: 'squadron', 5084: 'juan', 5085: 'shtick', 5086: 'moe-lennium', 5087: 'exchanged', 5088: 'cutting', 5089: \"payin'\", 5090: 'taking', 5091: 'poured', 5092: \"meanin'\", 5093: 'menlo', 5094: 'sudoku', 5095: 'investor', 5096: 'thru', 5097: 'family-owned', 5098: 'william', 5099: \"countin'\", 5100: 'chuckle', 5101: 'x-men', 5102: 'ate', 5103: 'languages', 5104: 'pride', 5105: 'crippling', 5106: 'triple-sec', 5107: 'richard', 5108: 'wuss', 5109: 'bowl', 5110: 'rookie', 5111: 'closing', 5112: 'moe', 5113: 'harvesting', 5114: 'apulina', 5115: 'nauseous', 5116: 'verdict', 5117: 'root', 5118: 'utility', 5119: \"elmo's\", 5120: 'christmas', 5121: 'grand', 5122: \"nothin'\", 5123: 'unintelligent', 5124: 'cock', 5125: 'clapping', 5126: 'glasses', 5127: \"lefty's\", 5128: 'lifts', 5129: 'ne', 5130: 'shakespeare', 5131: 'american', 5132: 'minute', 5133: \"department's\", 5134: 'hootie', 5135: 'exquisite', 5136: 'waylon', 5137: 'superior', 5138: 'type', 5139: 'certainly', 5140: 'suave', 5141: \"homer'll\", 5142: 'anymore', 5143: \"it'd\", 5144: 'hello', 5145: 'drivers', 5146: 'raccoons', 5147: 'list', 5148: 'religious', 5149: 'cursed', 5150: 'tick', 5151: 'semi-imported', 5152: 'do', 5153: 'onion', 5154: 'visas', 5155: 'neil_gaiman:', 5156: 'later', 5157: 'mind-numbing', 5158: 'aerospace', 5159: 'helpful', 5160: 'pridesters:', 5161: 'sugar-free', 5162: 'bindle', 5163: 'rat', 5164: 'grammys', 5165: 'intrigued', 5166: 'play', 5167: 'indifference', 5168: 'locklear', 5169: 'babar', 5170: 'fold', 5171: \"school's\", 5172: 'butterball', 5173: 'opportunity', 5174: 'locked', 5175: 'wonderful', 5176: 'match', 5177: 'black', 5178: \"playin'\", 5179: \"neat's-foot\", 5180: 'half-beer', 5181: 'sausage', 5182: 'nineteen', 5183: 'slugger', 5184: 'winner', 5185: 'damned', 5186: 'heh-heh', 5187: 'fact', 5188: \"bartender's\", 5189: 'finally', 5190: 'catholic', 5191: 'stay', 5192: 'wonder', 5193: 'el', 5194: 'authorized', 5195: 'diets', 5196: 'cookies', 5197: \"fans'll\", 5198: 'helpless', 5199: 'buzz', 5200: 'palmerston', 5201: 'a', 5202: 'charter', 5203: 'gabriel', 5204: 'remember', 5205: 'arab_man:', 5206: 'malted', 5207: 'managing', 5208: 'days', 5209: 'pfft', 5210: 'beneath', 5211: 'fondly', 5212: 'felt', 5213: 'agnes_skinner:', 5214: \"one's\", 5215: 'knowingly', 5216: 'super-tough', 5217: 'mine', 5218: 'ayyy', 5219: \"don'tcha\", 5220: 'sadistic_barfly:', 5221: 'unjustly', 5222: 'fell', 5223: 'grabbing', 5224: 'barkeep', 5225: 'looooooooooooooooooong', 5226: 'stagehand:', 5227: 'steinbrenner', 5228: 'mt', 5229: 'manboobs', 5230: 'brave', 5231: 'sidekick', 5232: \"game's\", 5233: 'connor', 5234: 'unfair', 5235: \"s'pose\", 5236: 'saga', 5237: 'lowers', 5238: 'appalled', 5239: 'unusual', 5240: \"g'night\", 5241: 'blur', 5242: 'much', 5243: 'sight-unseen', 5244: 'mexican', 5245: \"round's\", 5246: 'lighten', 5247: 'crumble', 5248: 'end', 5249: 'chicken', 5250: 'boyfriend', 5251: 'flexible', 5252: 'jay_leno:', 5253: 'beloved', 5254: 'avenue', 5255: 'yuh-huh', 5256: 'iddilies', 5257: 'weather', 5258: 'guttural', 5259: 'eye-gouger', 5260: 'piano', 5261: 'colossal', 5262: 'occurrence', 5263: 'strokkur', 5264: 'morose', 5265: 'therefore', 5266: 'hot', 5267: 'music', 5268: 'die-hard', 5269: 'just', 5270: 'haw', 5271: 'putting', 5272: 'stopped', 5273: 'halloween', 5274: 'lots', 5275: 'oh-so-sophisticated', 5276: 'watched', 5277: 'nonchalantly', 5278: 'newly-published', 5279: 'lucius:', 5280: 'more', 5281: 'tow-talitarian', 5282: 'literature', 5283: \"they'd\", 5284: 'jams', 5285: 'girls', 5286: 'bust', 5287: 'undated', 5288: 'jackass', 5289: 'thirsty', 5290: 'set', 5291: 'y-you', 5292: 'lead', 5293: 'saucy', 5294: 'runaway', 5295: 'heavyweight', 5296: 'invulnerable', 5297: 'wholeheartedly', 5298: 'mcstagger', 5299: 'exhale', 5300: 'got', 5301: \"professor's\", 5302: 'pulls', 5303: 'chili', 5304: 'sucks', 5305: 'twelve-step', 5306: 'jerk', 5307: 'cops', 5308: 'serve', 5309: \"collector's\", 5310: 'sexual', 5311: 'pinchpenny', 5312: 'mess', 5313: 'outside', 5314: 'grandiose', 5315: 'goal', 5316: 'moolah-stealing', 5317: 'greatest', 5318: 'mansions', 5319: 'life-threatening', 5320: 'patron_#2:', 5321: 'johnny_carson:', 5322: 'and-and', 5323: 'value', 5324: 'timbuk-tee', 5325: 'acceptance', 5326: 'banquo', 5327: 'ground', 5328: 'hiding', 5329: 'appear', 5330: 'walked', 5331: 'necklace', 5332: 'anyway', 5333: 'outlive', 5334: 'dungeon', 5335: 'grave', 5336: 'confidentially', 5337: 'using', 5338: 'brief', 5339: 'spooky', 5340: 'jovial', 5341: 'studio', 5342: 'malibu', 5343: 'ticks', 5344: 'borrow', 5345: 'pharmaceutical', 5346: 'wine', 5347: 'forget', 5348: \"bettin'\", 5349: \"guy's\", 5350: 'smelly', 5351: 'federal', 5352: 'exactly', 5353: 'between', 5354: 'hardwood', 5355: 'flame', 5356: 'eggshell', 5357: 'football_announcer:', 5358: 'glen:', 5359: 'kissed', 5360: 'enterprising', 5361: 'wacky', 5362: 'forgets', 5363: \"neighbor's\", 5364: 'away', 5365: 'habit', 5366: 'spend', 5367: 'perch', 5368: 'kirk', 5369: 'ees', 5370: 'trenchant', 5371: 'quietly', 5372: 'ping-pong', 5373: 'emporium', 5374: 'yee-ha', 5375: 're-al', 5376: 'mouth', 5377: 'halfway', 5378: 'orifice', 5379: 'innocence', 5380: 'bush', 5381: \"moe's\", 5382: \"sat's\", 5383: 'army', 5384: 'considering', 5385: 'loneliness', 5386: 'journey', 5387: 'girlfriend', 5388: 'loudly', 5389: 'martini', 5390: 'raise', 5391: \"it's\", 5392: \"who'll\", 5393: 'maintenance', 5394: 'beef', 5395: 'rip-off', 5396: 'windelle', 5397: 'months', 5398: 'de', 5399: 'sour', 5400: 'slightly', 5401: 'abercrombie', 5402: 'exultant', 5403: 'string', 5404: 'miss_lois_pennycandy:', 5405: 'luxury', 5406: 'partly', 5407: \"tree's\", 5408: 'loss', 5409: 'shame', 5410: 'gift', 5411: 'spews', 5412: 'contract', 5413: 'endorsement', 5414: 'solo', 5415: 'sheets', 5416: 'robbers', 5417: 'orphan', 5418: 'warren', 5419: 'moe_szyslak:', 5420: 'rice', 5421: 'goodwill', 5422: 'every', 5423: 'cowboys', 5424: 'doll', 5425: 'sec_agent_#2:', 5426: 'kegs', 5427: 'indignant', 5428: 'pity', 5429: 'coney', 5430: 'dangerous', 5431: 'krusty_the_clown:', 5432: 'ummmmmmmmm', 5433: 'shaken', 5434: 'jolly', 5435: 'prices', 5436: \"blowin'\", 5437: 'supposed', 5438: 'sniper', 5439: 'prison', 5440: 'naked', 5441: 'health_inspector:', 5442: 'little_man:', 5443: 'changed', 5444: 'bits', 5445: 'kneeling', 5446: 'sustain', 5447: 'declare', 5448: 'halvsies', 5449: 'snow', 5450: 'kwik-e-mart', 5451: \"bladder's\", 5452: \"writin'\", 5453: 'broken', 5454: 'saint', 5455: 'cheerleaders:', 5456: 'pretends', 5457: 'filthy', 5458: 'carmichael', 5459: \"wasn't\", 5460: 'entirely', 5461: 'four-star', 5462: 'fight', 5463: 'shocked', 5464: 'government', 5465: 'railroads', 5466: 'television', 5467: 'code', 5468: 'punishment', 5469: 'soaked', 5470: 'l', 5471: 'unusually', 5472: 'application', 5473: 'amnesia', 5474: 'kiss', 5475: 'challenge', 5476: 'mayan', 5477: 'rev', 5478: 'button', 5479: 'piece', 5480: 'attention', 5481: 'coma', 5482: 'service', 5483: 'yoo', 5484: 'uniforms', 5485: 'capuchin', 5486: 'synthesize', 5487: \"tinklin'\", 5488: 'boisterous', 5489: 'monorails', 5490: 'apart', 5491: 'gulps', 5492: 'chair', 5493: 'excitement', 5494: 'buddha', 5495: 'pernt', 5496: 'guide', 5497: 'schmoe', 5498: 'assume', 5499: 'distance', 5500: 'huddle', 5501: 'miracle', 5502: 'spot', 5503: 'burns', 5504: 'doom', 5505: 'hop', 5506: 'muscle', 5507: 'seems', 5508: 'swings', 5509: 'dimly', 5510: 'nevada', 5511: 'you-need-man', 5512: 'detecting', 5513: 'amber_dempsey:', 5514: 'delivery_boy:', 5515: 'knives', 5516: 'sing-song', 5517: 'nervously', 5518: 'grinch', 5519: 'bird', 5520: 'morlocks', 5521: 'wishing', 5522: 'hanh', 5523: 'new', 5524: 'fountain', 5525: 'floor', 5526: 'weak', 5527: 'inspiring', 5528: 'man_with_tree_hat:', 5529: 'yet', 5530: 'fill', 5531: 'bash', 5532: 'arguing', 5533: \"burnin'\", 5534: 'prank', 5535: 'benjamin', 5536: 'smiling', 5537: 'bauer', 5538: 'take-back', 5539: 'gal', 5540: 'mobile', 5541: 'three', 5542: 'fire_inspector:', 5543: 'depressing', 5544: 'minutes', 5545: 'employees', 5546: 'domed', 5547: 'busted', 5548: 'patriotic', 5549: 'gulliver_dark:', 5550: 'b', 5551: 'agreement', 5552: \"bar's\", 5553: 'bartholomã©:', 5554: 'guest', 5555: 'planning', 5556: 'catching', 5557: 'fainted', 5558: 'clipped', 5559: 'i-i-i', 5560: 'tv-station_announcer:', 5561: 'p', 5562: 'cecil', 5563: 'beats', 5564: 'grabs', 5565: 'yeah', 5566: '2', 5567: \"lovers'\", 5568: 'fanciest', 5569: 'moonnnnnnnn', 5570: 'pajamas', 5571: 'perfected', 5572: \"what'sa\", 5573: 'trusted', 5574: 'filed', 5575: \"edna's\", 5576: 'mate', 5577: 'takes', 5578: 'denver', 5579: 'am', 5580: 'understood:', 5581: 'emphasis', 5582: 'befriend', 5583: 'rubbed', 5584: 'filth', 5585: 'on', 5586: 'cooker', 5587: 'theory', 5588: 'italian', 5589: 'chick', 5590: 'bumped', 5591: 'jerk-ass', 5592: 'ugliest', 5593: 'newspaper', 5594: 'disapproving', 5595: 'doctor', 5596: 'manipulation', 5597: 'acting', 5598: 'phrase', 5599: 'milk', 5600: 'teen', 5601: 'roy', 5602: 'sick', 5603: 'website', 5604: 'guys', 5605: 'getaway', 5606: 'offended', 5607: 'talkers', 5608: \"mo'\", 5609: 'darts', 5610: 'happier', 5611: 'finding', 5612: 'saved', 5613: 'drunks', 5614: 'settlement', 5615: 'aghast', 5616: 'ore', 5617: 'goblins', 5618: 'sabermetrics', 5619: 'bags', 5620: 'worked', 5621: 'transmission', 5622: 'mines', 5623: 'faces', 5624: 'toms', 5625: \"fryer's\", 5626: 'drown', 5627: 'crapmore', 5628: 'choices:', 5629: 'lazy', 5630: \"dyin'\", 5631: 'wing', 5632: 'whiny', 5633: 'working', 5634: 'hammer', 5635: 'gorgeous', 5636: 'squeal', 5637: 'hilarious', 5638: 'notice', 5639: 'kicked', 5640: 'opens', 5641: 'spender', 5642: 'prohibit', 5643: 'erasers', 5644: 'write', 5645: 'butts', 5646: 'hike', 5647: 'transylvania', 5648: 'eye', 5649: 'glummy', 5650: 'popping', 5651: 'lady', 5652: 'belly-aching', 5653: 'justice', 5654: 'gasp', 5655: 'overhearing', 5656: 'pledge', 5657: 'around', 5658: 'supports', 5659: 'voted', 5660: 'proudly', 5661: 'young_homer:', 5662: 'jailbird', 5663: 'done:', 5664: 'ruin', 5665: 'became', 5666: 'vacuum', 5667: 'banquet', 5668: 'compared', 5669: 'sass', 5670: 'likes', 5671: 'hugh', 5672: \"queen's\", 5673: 'pull', 5674: 'boxer', 5675: 'dark', 5676: 'duffed', 5677: 'dank', 5678: 'microbrew', 5679: 'hear', 5680: 'disgrace', 5681: 'assassination', 5682: \"b-52's:\", 5683: 'craft', 5684: 'plane', 5685: 'bites', 5686: 'process', 5687: 'securities', 5688: 'sudden', 5689: 'worth', 5690: 'brains', 5691: \"kearney's_dad:\", 5692: 'release', 5693: 'compromise:', 5694: 'survive', 5695: 'soir', 5696: 'caveman', 5697: 'melodramatic', 5698: 'bob', 5699: 'pontiff', 5700: 'schemes', 5701: 'carny:', 5702: 'cuz', 5703: 'teeth', 5704: 'greatly', 5705: 'hunting', 5706: '&', 5707: 'explaining', 5708: 'life-extension', 5709: 'extreme', 5710: 'insurance', 5711: 'large', 5712: 'ralphie', 5713: 'passed', 5714: \"donatin'\", 5715: 'majesty', 5716: 'course', 5717: 'kearney_zzyzwicz:', 5718: 'having', 5719: 'agent_johnson:', 5720: 'las', 5721: 'edner', 5722: 'lenses', 5723: 'endorse', 5724: 'expecting', 5725: 'ho-la', 5726: 'savagely', 5727: 'entertainer', 5728: 'words', 5729: 'sequel', 5730: 'presentable', 5731: 'ehhhhhh', 5732: \"talkin'\", 5733: 'enjoyed', 5734: 'mediterranean', 5735: 'th', 5736: 'bart_simpson:', 5737: 'dislike', 5738: 'grateful', 5739: 'creme', 5740: 'alfalfa', 5741: 'troll', 5742: 'healthier', 5743: 'cyrano', 5744: 'tang', 5745: 'c', 5746: 'hunky', 5747: 'prayers', 5748: \"tomorrow's\", 5749: 'tonight', 5750: 'wishes', 5751: 'column', 5752: 'dames', 5753: 'annual', 5754: 'dirge-like', 5755: 'owns', 5756: 'silence', 5757: 'sets', 5758: 'began', 5759: 'insensitive', 5760: 'courts', 5761: 'street', 5762: 'apu_nahasapeemapetilon:', 5763: 'interrupting', 5764: 'softer', 5765: 'does', 5766: 'hole', 5767: 'huge', 5768: 'options', 5769: 'patterns', 5770: 'grenky', 5771: 'forgive', 5772: 'hollowed-out', 5773: 'salary', 5774: 'screws', 5775: 'moe-clone:', 5776: 'tobacky', 5777: 'mel', 5778: 'nã£o', 5779: 'persia', 5780: 'chunky', 5781: 'happens', 5782: \"soundin'\", 5783: 'effervescent', 5784: 'doors', 5785: 'broad', 5786: \"spiffin'\", 5787: 'kindly', 5788: 'cola', 5789: 'goodnight', 5790: 'mexican_duffman:', 5791: 'screams', 5792: 'additional-seating-capacity', 5793: 'exited', 5794: 'inspection', 5795: 'cage', 5796: 'permitting', 5797: 'quimbys:', 5798: 'shaking', 5799: 'calendars', 5800: 'delivery', 5801: 'scare', 5802: 'shoe', 5803: 'courthouse', 5804: 'behavior', 5805: 'insults', 5806: 'winces', 5807: 'ziff', 5808: 'slight', 5809: 'hangover', 5810: 'stinks', 5811: 'seat', 5812: 'occasional', 5813: 'embarrassed', 5814: 'boring', 5815: 'movement', 5816: \"that'd\", 5817: 'mole', 5818: 'feet', 5819: 'would', 5820: 'everyday', 5821: 'squabbled', 5822: 'droning', 5823: 'stores', 5824: 'low', 5825: 'stink', 5826: 'ladder', 5827: 'jumps', 5828: 'way', 5829: 'okay', 5830: 'platinum', 5831: 'plant', 5832: \"cont'd:\", 5833: 'planet', 5834: 'sperm', 5835: \"hell's\", 5836: 'patrons', 5837: 'ga', 5838: 'stupidest', 5839: 'attracted', 5840: 'pronto', 5841: 'r', 5842: \"o'\", 5843: 'drains', 5844: 'aims', 5845: 'lanes', 5846: 'drink', 5847: 'heck', 5848: 'were', 5849: \"tramp's\", 5850: 'jaegermeister', 5851: 'unrelated', 5852: \"how're\", 5853: 'scrutinizes', 5854: 'freed', 5855: 'summer', 5856: 'bit', 5857: 'cannoli', 5858: 'factor', 5859: 'doreen', 5860: 'bono:', 5861: 'ginger', 5862: 'splendid', 5863: 'future', 5864: \"raggin'\", 5865: 'saget', 5866: 'riveting', 5867: 'trucks', 5868: 'michael', 5869: 'half-back', 5870: 'completely', 5871: 'helicopter', 5872: 'wade_boggs:', 5873: 'depository', 5874: 'ambrose', 5875: 'kills', 5876: 'chill', 5877: 'troy:', 5878: 'shaggy', 5879: 'aged_moe:', 5880: 'tried', 5881: 'payback', 5882: 'march', 5883: 'better', 5884: 'sponge', 5885: 'billingsley', 5886: 'until', 5887: 'ahhh', 5888: 'sturdy', 5889: 'scrape', 5890: 'tuborg', 5891: 'glowers', 5892: 'broke', 5893: 'program', 5894: 'discussing', 5895: 'ah', 5896: 'macaulay', 5897: 'stage', 5898: \"haven't\", 5899: 'billion', 5900: \"they've\", 5901: 'panicked', 5902: 'attitude', 5903: 'runs', 5904: 'oughta', 5905: 'cowboy', 5906: 'travel', 5907: 'smuggled', 5908: 'giggle', 5909: 'changes', 5910: \"tv's\", 5911: 'enjoy', 5912: 'publishers', 5913: 'enemies', 5914: 'mumbling', 5915: 'urinal', 5916: 'civil', 5917: 'chase', 5918: 'bridge', 5919: 'right', 5920: 'plain', 5921: 'amid', 5922: 'keeping', 5923: '2nd_voice_on_transmitter:', 5924: 'superdad', 5925: 'reynolds', 5926: 'crappy', 5927: 'sistine', 5928: 'alec_baldwin:', 5929: 'julep', 5930: 'totalitarians', 5931: 'tune', 5932: 'trip', 5933: 'backgammon', 5934: 'cuff', 5935: 'contemptuous', 5936: 'flashing', 5937: 'is:', 5938: 'demo', 5939: 'share', 5940: 'whose', 5941: 'rainbows', 5942: 'weirded-out', 5943: 'conversations', 5944: 'seymour_skinner:', 5945: 'wears', 5946: 'nordiques', 5947: 'certified', 5948: 'jackson', 5949: 'corporation', 5950: 'spamming', 5951: 'archaeologist', 5952: 'gosh', 5953: 'who', 5954: 'penmanship', 5955: 'culkin', 5956: 'plastic', 5957: 'superpower', 5958: 'or', 5959: 'thousand-year', 5960: 'dumbbell', 5961: 'unsourced', 5962: 'rabbits', 5963: 'ones', 5964: 'cosmetics', 5965: 'begging', 5966: 'dee-fense', 5967: 'housework', 5968: 'frink-y', 5969: 'lord', 5970: 'lindsay_naegle:', 5971: 'kidney', 5972: 'needy', 5973: 'icelandic', 5974: 'dating', 5975: 'soap', 5976: 'handshake', 5977: 'evening', 5978: 'swatch', 5979: 'barney-guarding', 5980: 'stays', 5981: 'depression', 5982: 'capitalists', 5983: 'lookalikes', 5984: 'twenty-two', 5985: 'shriners', 5986: 'handle', 5987: 'department', 5988: 'startup', 5989: 'umm', 5990: 'traitors', 5991: 'thomas', 5992: 'mmmmm', 5993: 'oooo', 5994: 'rounds', 5995: 'bad', 5996: 'attractive_woman_#2:', 5997: 'larry:', 5998: 'grieving', 5999: 'express', 6000: 'impeach', 6001: 'examples', 6002: 'isle', 6003: 'palm', 6004: 'surprised', 6005: 'contented', 6006: 'stalin', 6007: \"high-falutin'\", 6008: 'brakes', 6009: 'faith', 6010: 'stengel', 6011: 'marmaduke', 6012: 'pub', 6013: 'dismissive', 6014: 'mason', 6015: 'laughs', 6016: 'opening', 6017: 'leftover', 6018: 'dan_gillick:', 6019: 'field', 6020: 'cleaned', 6021: 'boston', 6022: 'einstein', 6023: 'mayor', 6024: 'stingy', 6025: 'together', 6026: 'beach', 6027: 'wolfe', 6028: 's', 6029: 'faceful', 6030: 'chinese_restaurateur:', 6031: 'continued', 6032: 'rump', 6033: 'distraught', 6034: \"monroe's\", 6035: 'paste', 6036: 'sedaris', 6037: 'some', 6038: \"somethin's\", 6039: 'missed', 6040: 'schorr', 6041: 'delivery_man:', 6042: 'church', 6043: 'showed', 6044: 'blade', 6045: 'nuts', 6046: 'stomach', 6047: 'leathery', 6048: 'rom', 6049: 'deeper', 6050: 'everywhere', 6051: 'mozzarella', 6052: 'fustigate', 6053: 'brunch', 6054: 'bets', 6055: 'pickles', 6056: 'wordloaf', 6057: 'peanuts', 6058: \"wallet's\", 6059: 'woman', 6060: 'dreamily', 6061: 'whisper', 6062: 'wigs', 6063: 'twenty-five', 6064: \"smackin'\", 6065: 'w', 6066: 'eww', 6067: 'blood', 6068: 'foil', 6069: 'ohmygod', 6070: 'electronic', 6071: 'tuna', 6072: 'sugar-me-do', 6073: 'cutie', 6074: 'ew', 6075: 'fish', 6076: 'growing', 6077: 'hundred', 6078: 'investigating', 6079: 'bastard', 6080: 'pictured', 6081: 'stranger:', 6082: 'clench', 6083: 'worldview', 6084: 'difference', 6085: 'stolen', 6086: 'streetcorner', 6087: 'tow', 6088: 'ideas', 6089: 'according', 6090: 'breathtaking', 6091: 'barflies', 6092: 'castle', 6093: 'headhunters', 6094: \"cashin'\", 6095: 'support', 6096: 'slim', 6097: 'luckiest', 6098: 'kinda', 6099: 'characteristic', 6100: 'dennis_kucinich:', 6101: 'raining', 6102: 'many', 6103: 'accidents', 6104: 'situation', 6105: 'white', 6106: 'soaking', 6107: 'experience', 6108: 'dan', 6109: 'ferry', 6110: 'experienced', 6111: 'women', 6112: 'liven', 6113: 'creates', 6114: \"shootin'\", 6115: 'morning', 6116: 'always', 6117: 'sensitivity', 6118: 'wad', 6119: \"team's\", 6120: 'teriyaki', 6121: 'reasons', 6122: 'so-ng', 6123: 'ralph_wiggum:', 6124: 'flophouse', 6125: 'eyed', 6126: 'burger', 6127: 'fruit', 6128: 'grow', 6129: 'marvelous', 6130: 'flown', 6131: 'full', 6132: 'milhouse', 6133: 'panicky', 6134: 'seconds', 6135: \"tatum'll\", 6136: 'african', 6137: 'cutest', 6138: 'door', 6139: 'feelings', 6140: 'ironic', 6141: 'counterfeit', 6142: 'smurfs', 6143: 'sloe', 6144: 'grind', 6145: '50-60', 6146: 'horrified', 6147: 'jogging', 6148: 'scientists', 6149: 'twerpy', 6150: 'tree_hoper:', 6151: 'spit', 6152: 'astronaut', 6153: 'pre-columbian', 6154: 'turlet', 6155: 'sympathizer', 6156: 'ohhhh', 6157: 'smallest', 6158: 'bar_rag:', 6159: 'potato', 6160: 'wa', 6161: 'dozen', 6162: \"couldn't\", 6163: 'sector', 6164: 'mcclure', 6165: 'closet', 6166: 'slit', 6167: 'lover', 6168: 'leno', 6169: 'taxes', 6170: 'cigarette', 6171: \"murphy's\", 6172: 'hooters', 6173: 'gun', 6174: 'vulgar', 6175: 'studied', 6176: '21', 6177: 'bucks', 6178: 'achem', 6179: 'handoff', 6180: 'caper', 6181: 'watt', 6182: 'parasol', 6183: 'olive', 6184: 'log', 6185: 'ditched', 6186: 'sheet', 6187: 'wudgy', 6188: 'proposition', 6189: 'hardhat', 6190: 'said:', 6191: 'roz', 6192: 'million', 6193: 'young_marge:', 6194: 'mind', 6195: 'closed', 6196: 'b-day', 6197: 'post-suicide', 6198: \"toot's\", 6199: 'newsies', 6200: 'across', 6201: 'found', 6202: 'finish', 6203: 'ruint', 6204: 'plotz', 6205: 'hottest', 6206: 'toe', 6207: 'tries', 6208: 'clears', 6209: 'doing', 6210: 'microphone', 6211: 'champion', 6212: 'ambrosia', 6213: 'happily', 6214: 'narrator:', 6215: 'trouble', 6216: \"there's\", 6217: 'buyer', 6218: 'jesus', 6219: 'unbelievably', 6220: 'losers', 6221: 'desperately', 6222: 'ehhh', 6223: 'schnapps', 6224: 'fireworks', 6225: 'proud', 6226: 'totally', 6227: 'presents', 6228: 'computer_voice_2:', 6229: 'rivalry', 6230: 'satisfaction', 6231: 'slogan', 6232: 'lenny', 6233: 'mixed', 6234: 'coughs', 6235: 'heh', 6236: 'certificate', 6237: 'child', 6238: 'dã¼ff', 6239: 'shrugging', 6240: 'occupation', 6241: 'cauliflower', 6242: 'guess', 6243: 'edge', 6244: 'absolutely', 6245: 'quebec', 6246: 'peaked', 6247: 'wipes', 6248: 'are', 6249: 'whim', 6250: 'goodbye', 6251: 'long', 6252: 'image', 6253: 'coming', 6254: 'seymour', 6255: 'meaning', 6256: 'limits', 6257: 'stupid', 6258: 'ruuuule', 6259: \"summer's\", 6260: 'somebody', 6261: 'monkeyshines', 6262: 'slop', 6263: 'cozies', 6264: 'dime', 6265: 'cocking', 6266: 'furniture', 6267: 'winston', 6268: 'accelerating', 6269: 'mmm', 6270: 'tap', 6271: 'flailing', 6272: 'nickel', 6273: 'herself', 6274: 'through', 6275: 'stirrers', 6276: 'dentist', 6277: 'schizophrenia', 6278: 'suffering', 6279: 'issues', 6280: 'followed', 6281: 'swig', 6282: 'replaced', 6283: 'crooks', 6284: 'story', 6285: 'lifetime', 6286: 'koji', 6287: 'snotty', 6288: 'beards', 6289: 'liability', 6290: 'sensible', 6291: 'kang:', 6292: 'meet', 6293: 'congratulations', 6294: 'tom', 6295: 'retain', 6296: 'weapon', 6297: 'nerd', 6298: 'homers', 6299: 'groan', 6300: 'little_hibbert_girl:', 6301: 'tidy', 6302: 'hollywood', 6303: 'read', 6304: 'rent', 6305: 'jack', 6306: 'surgery', 6307: 'social', 6308: 'hmmmm', 6309: 'bowie', 6310: \"c'mon\", 6311: 'bold', 6312: 'luv', 6313: \"family's\", 6314: 'blooded', 6315: 'dishonor', 6316: 'chip', 6317: 'poking', 6318: 'rumor', 6319: 'eighty-three', 6320: 'changing', 6321: 'sells', 6322: 'sledge-hammer', 6323: 'remote', 6324: 'temple', 6325: 'rings', 6326: 'beached', 6327: 'ze-ro', 6328: 'went', 6329: 'lager', 6330: 'tow-joes', 6331: 'creature', 6332: \"pressure's\", 6333: 'ancient', 6334: 'takeaway', 6335: 'mortal', 6336: 'monkey', 6337: 'ceremony', 6338: 'hired', 6339: 'teddy', 6340: 'dirt', 6341: 'all:', 6342: 'thnord', 6343: 'awareness', 6344: 'memory', 6345: 'sixty-nine', 6346: 'stuff', 6347: 'answer', 6348: 'steal', 6349: 'quite', 6350: 'nothing', 6351: 'influence', 6352: 'amiable', 6353: 'present', 6354: 'seemed', 6355: 'far', 6356: 'teenage_homer:', 6357: 'extra', 6358: 'address', 6359: 'radio', 6360: 'ram', 6361: 'tones', 6362: 'quitcher', 6363: 'barf', 6364: 'yelp', 6365: \"lady's\", 6366: 'unattended', 6367: 'drug', 6368: 'say', 6369: 'nah', 6370: 'lift', 6371: 'volunteer', 6372: 'thoughtful', 6373: 'dramatically', 6374: 'sure', 6375: 'flustered', 6376: 'drunkening', 6377: 'diaper', 6378: 'boxing', 6379: 'gunk', 6380: 'sports', 6381: 'daniel', 6382: 'andy', 6383: 'photos', 6384: 'gruff', 6385: 'holidays', 6386: \"handwriting's\", 6387: 'buddy', 6388: 'call', 6389: 'boozehound', 6390: 'vincent', 6391: 'wrecking', 6392: 'beautiful', 6393: 'encouraged', 6394: 'couple', 6395: 'paints', 6396: 'fridge', 6397: 'thought_bubble_lenny:', 6398: 'coincidentally', 6399: 'pitcher', 6400: '||question_mark||', 6401: 'calls', 6402: 'trail', 6403: 'cut', 6404: 'nope', 6405: 'belch', 6406: 'effects', 6407: 'fatty', 6408: 'decadent', 6409: \"smokin'\", 6410: 'put', 6411: 'indeed', 6412: 'wobbly', 6413: 'alls', 6414: \"rentin'\", 6415: 'snap', 6416: 'strolled', 6417: 'announcer:', 6418: 'jacks', 6419: 'lookalike', 6420: 'choked', 6421: 'allowance', 6422: 'warm_female_voice:', 6423: 'design', 6424: 'inflated', 6425: 'decency', 6426: 'high', 6427: 'coast', 6428: 'rebuilt', 6429: 'directions', 6430: 'competitive', 6431: 'pumping', 6432: 'aboard', 6433: 'vacation', 6434: 'ends', 6435: \"y'money's\", 6436: 'dynamite', 6437: 'hate-hugs', 6438: 'second', 6439: 'chairman', 6440: 'closer', 6441: 'scooter', 6442: 'whoever', 6443: 'lovelorn', 6444: 'hated', 6445: 'wanted', 6446: 'cheesecake', 6447: 'rancid', 6448: 'listens', 6449: 'courteous', 6450: \"leavin'\", 6451: 'routine', 6452: 'unlocked', 6453: 'heaving', 6454: 'comedies', 6455: 'revenge', 6456: 'badge', 6457: 'gift:', 6458: 'haiti', 6459: 'decide', 6460: 'vengeance', 6461: 'savings', 6462: 'joey', 6463: 'getup', 6464: 'unsafe', 6465: 'my-y-y-y-y-y', 6466: 'germs', 6467: 'unbelievable', 6468: 'his', 6469: 'nos', 6470: 'games', 6471: 'searching', 6472: 'corkscrews', 6473: 'thirty-three', 6474: 'gesture', 6475: 'bloodball', 6476: 'earrings', 6477: \"clancy's\", 6478: 'enthused', 6479: 'frozen', 6480: 'walther_hotenhoffer:', 6481: 'gary_chalmers:', 6482: 'possessions', 6483: \"'er\", 6484: 'pointless', 6485: 'golf', 6486: 'hateful', 6487: 'intention', 6488: 'pepsi', 6489: \"cleanin'\", 6490: 'radical', 6491: 's-a-u-r-c-e', 6492: 'presidential', 6493: 'ooh', 6494: 'noise', 6495: 'six', 6496: 'giggles', 6497: 'assumed', 6498: 'ignorant', 6499: '91', 6500: 'anti-crime', 6501: 'brother-in-law', 6502: 'woman_bystander:', 6503: 'applicant', 6504: 'alarm', 6505: 'upon', 6506: 'into', 6507: 'ducked', 6508: 'came', 6509: 'though:', 6510: 'luck', 6511: 'go', 6512: 'blaze', 6513: 'dory', 6514: 'hubub', 6515: \"nothin's\", 6516: 'horrors', 6517: 'gator', 6518: 'owned', 6519: 'mention', 6520: 'offa', 6521: 'troy', 6522: 'quotes', 6523: 'able', 6524: 'connection', 6525: 'evasive', 6526: 'weirder', 6527: 'toy', 6528: 'twenty-nine', 6529: 'regretful', 6530: 'foibles', 6531: 'eggs', 6532: 'scum', 6533: 'host', 6534: 'foodie', 6535: 'zack', 6536: 'wife', 6537: 'blocked', 6538: 'weekly', 6539: 'terminated', 6540: 'carolina', 6541: 'grampa', 6542: 'mags', 6543: 'collette:', 6544: 'specified', 6545: 'teacher', 6546: 'reserve', 6547: 'solved', 6548: 'normals', 6549: 'pancakes', 6550: 'ref', 6551: 'doppler', 6552: 'begin', 6553: 'agent_miller:', 6554: 'give', 6555: 'jernt', 6556: \"'bout\", 6557: 'rub-a-dub', 6558: 'discriminate', 6559: 'entire', 6560: 'howya', 6561: 'plug', 6562: 'releasing', 6563: 'bag', 6564: 'eventually', 6565: 'kazoo', 6566: 'cleaner', 6567: 'stuck', 6568: 'hostages', 6569: 'intimacy', 6570: 'graves', 6571: 'whee', 6572: 'donated', 6573: \"carl's\", 6574: 'holiday', 6575: 'ye', 6576: 'japanese', 6577: 'judges', 6578: 'babies', 6579: 'seem', 6580: 'forever', 6581: 'commission', 6582: 'least', 6583: 'signed', 6584: 'a-lug', 6585: \"disrobin'\", 6586: 'states', 6587: 'fourteen:', 6588: 'worried', 6589: \"s'okay\", 6590: 'hooky', 6591: 'whirlybird', 6592: 'you', 6593: 'purveyor', 6594: 'person', 6595: 'specials', 6596: \"bo's\", 6597: 'sex', 6598: 'adjourned', 6599: 'afloat', 6600: 'magazine', 6601: 'moment', 6602: 'motorcycle', 6603: 'at', 6604: 'pre-game', 6605: 'minister', 6606: 'refreshment', 6607: 'tense', 6608: 'number', 6609: 'lotsa', 6610: 'puke-pail', 6611: 'coy', 6612: 'streetlights', 6613: 'u', 6614: 'genius', 6615: 'dials', 6616: 'cousin', 6617: 'scene', 6618: 'bake', 6619: \"somethin'\", 6620: 'absolut', 6621: 'shoulder', 6622: 'churchy', 6623: 'laugh', 6624: 'years', 6625: 'this:', 6626: 'fall', 6627: 'smoke', 6628: 'inquiries', 6629: 'faint', 6630: 'amount', 6631: 'hail', 6632: 'bursts', 6633: 'positive', 6634: \"rustlin'\", 6635: 'lowering', 6636: 'cletus_spuckler:', 6637: 'bragging', 6638: 'arm', 6639: 'salvation', 6640: 'spectacular', 6641: \"ya'\", 6642: 'feed', 6643: 'flatly', 6644: 'gals', 6645: 'named', 6646: 'jets', 6647: 'feel', 6648: 'pretentious_rat_lover:', 6649: 'cares', 6650: 'dies', 6651: 'then:', 6652: 'irs', 6653: 'has', 6654: 'nbc', 6655: 'practically', 6656: 'pockets', 6657: 'writers', 6658: 'senators:', 6659: 'shells', 6660: \"how's\", 6661: 'bloodiest', 6662: 'slipped', 6663: 'jerks', 6664: 'press', 6665: 'prejudice', 6666: 'patrons:', 6667: 'elite', 6668: 'closes', 6669: 'badges', 6670: 'tire', 6671: 'plenty', 6672: 'phlegm', 6673: 'eternity', 6674: 'open-casket', 6675: 'happened', 6676: 'hm', 6677: 'blues', 6678: 'too', 6679: 'fastest', 6680: 'salt', 6681: 'kako:', 6682: 'bono', 6683: \"children's\", 6684: 'bums', 6685: 'spine', 6686: 'gentles', 6687: 'sweeter', 6688: 'darkness', 6689: 'mmmm', 6690: 'located', 6691: 'mix', 6692: 'flat', 6693: \"tony's\", 6694: 'freeze', 6695: 'dishrag', 6696: 'playhouse', 6697: 'lend', 6698: 'wok', 6699: 'lists', 6700: 'wrestle', 6701: 'answered', 6702: 'octa-', 6703: 'stops', 6704: 'bret:', 6705: 'disappointment', 6706: 'tabooger', 6707: 'granted', 6708: 'ha', 6709: \"readin'\", 6710: 'ha-ha', 6711: 'swine', 6712: 'fools', 6713: 'seek', 6714: 'super-genius', 6715: 'na', 6716: 'throat', 6717: 'suit', 6718: 'eco-fraud', 6719: 'catch', 6720: 'voice_on_transmitter:', 6721: 'flourish', 6722: 'festival', 6723: 'highball', 6724: \"number's\", 6725: 'imagine', 6726: 'jacques', 6727: 'bottom', 6728: 'bear', 6729: 'multi-purpose', 6730: 'smokes', 6731: 'crotch', 6732: 'human', 6733: 'total', 6734: 'before', 6735: 'cozy', 6736: 'yes', 6737: 'remain', 6738: 'shores', 6739: 'stand', 6740: 'rods', 6741: 'ecru', 6742: \"drivin'\", 6743: 'birth', 6744: \"ma's\", 6745: 'hushed', 6746: 'demand', 6747: 'busy', 6748: 'amazing', 6749: 'nudge', 6750: 'op', 6751: 'gin', 6752: 'inspire', 6753: 'radishes', 6754: \"jackpot's\", 6755: 'spread', 6756: 'arms', 6757: 'beating', 6758: 'andrew', 6759: 'place', 6760: 'chapstick', 6761: 'sidelines', 6762: 'convinced', 6763: 'rolled', 6764: 'supermarket', 6765: 'make:', 6766: 'steam', 6767: 'admit', 6768: 'heaven', 6769: 'spite', 6770: 'resolution', 6771: 'intoxicants', 6772: '3', 6773: 'partner', 6774: 'pin', 6775: 'coat', 6776: 'wallet', 6777: 'singing/pushing', 6778: 'nigeria'}\n"
     ]
    }
   ],
   "source": [
    "\"\"\"\n",
    "DON'T MODIFY ANYTHING IN THIS CELL\n",
    "\"\"\"\n",
    "# Preprocess Training, Validation, and Testing Data\n",
    "helper.preprocess_and_save_data(data_dir, token_lookup, create_lookup_tables)"
   ]
  },
  {
   "cell_type": "markdown",
   "metadata": {
    "deletable": true,
    "editable": true
   },
   "source": [
    "# Check Point\n",
    "This is your first checkpoint. If you ever decide to come back to this notebook or have to restart the notebook, you can start from here. The preprocessed data has been saved to disk."
   ]
  },
  {
   "cell_type": "code",
   "execution_count": 39,
   "metadata": {
    "collapsed": false,
    "deletable": true,
    "editable": true
   },
   "outputs": [],
   "source": [
    "\"\"\"\n",
    "DON'T MODIFY ANYTHING IN THIS CELL\n",
    "\"\"\"\n",
    "import helper\n",
    "import numpy as np\n",
    "import problem_unittests as tests\n",
    "\n",
    "int_text, vocab_to_int, int_to_vocab, token_dict = helper.load_preprocess()"
   ]
  },
  {
   "cell_type": "markdown",
   "metadata": {
    "deletable": true,
    "editable": true
   },
   "source": [
    "## Build the Neural Network\n",
    "You'll build the components necessary to build a RNN by implementing the following functions below:\n",
    "- get_inputs\n",
    "- get_init_cell\n",
    "- get_embed\n",
    "- build_rnn\n",
    "- build_nn\n",
    "- get_batches\n",
    "\n",
    "### Check the Version of TensorFlow and Access to GPU"
   ]
  },
  {
   "cell_type": "code",
   "execution_count": 40,
   "metadata": {
    "collapsed": false,
    "deletable": true,
    "editable": true
   },
   "outputs": [
    {
     "name": "stdout",
     "output_type": "stream",
     "text": [
      "TensorFlow Version: 1.0.1\n"
     ]
    },
    {
     "name": "stderr",
     "output_type": "stream",
     "text": [
      "C:\\Users\\ckcheung\\AppData\\Local\\Continuum\\Miniconda3\\envs\\dlnd\\lib\\site-packages\\ipykernel\\__main__.py:14: UserWarning: No GPU found. Please use a GPU to train your neural network.\n"
     ]
    }
   ],
   "source": [
    "\"\"\"\n",
    "DON'T MODIFY ANYTHING IN THIS CELL\n",
    "\"\"\"\n",
    "from distutils.version import LooseVersion\n",
    "import warnings\n",
    "import tensorflow as tf\n",
    "\n",
    "# Check TensorFlow Version\n",
    "assert LooseVersion(tf.__version__) >= LooseVersion('1.0'), 'Please use TensorFlow version 1.0 or newer'\n",
    "print('TensorFlow Version: {}'.format(tf.__version__))\n",
    "\n",
    "# Check for a GPU\n",
    "if not tf.test.gpu_device_name():\n",
    "    warnings.warn('No GPU found. Please use a GPU to train your neural network.')\n",
    "else:\n",
    "    print('Default GPU Device: {}'.format(tf.test.gpu_device_name()))"
   ]
  },
  {
   "cell_type": "markdown",
   "metadata": {
    "deletable": true,
    "editable": true
   },
   "source": [
    "### Input\n",
    "Implement the `get_inputs()` function to create TF Placeholders for the Neural Network.  It should create the following placeholders:\n",
    "- Input text placeholder named \"input\" using the [TF Placeholder](https://www.tensorflow.org/api_docs/python/tf/placeholder) `name` parameter.\n",
    "- Targets placeholder\n",
    "- Learning Rate placeholder\n",
    "\n",
    "Return the placeholders in the following the tuple `(Input, Targets, LearingRate)`"
   ]
  },
  {
   "cell_type": "code",
   "execution_count": 97,
   "metadata": {
    "collapsed": false,
    "deletable": true,
    "editable": true
   },
   "outputs": [
    {
     "name": "stdout",
     "output_type": "stream",
     "text": [
      "Tests Passed\n"
     ]
    }
   ],
   "source": [
    "def get_inputs():\n",
    "    \"\"\"\n",
    "    Create TF Placeholders for input, targets, and learning rate.\n",
    "    :return: Tuple (input, targets, learning rate)\n",
    "    \"\"\"\n",
    "    # TODO: Implement Function\n",
    "    Inputs        = tf.placeholder(tf.int32, [None, None], name='input')\n",
    "    Targets       = tf.placeholder(tf.int32, [None, None], name='target')\n",
    "    LearningRate  = tf.placeholder(tf.float32, name='learningRate')\n",
    "    return Inputs, Targets, LearningRate\n",
    "\n",
    "\n",
    "\"\"\"\n",
    "DON'T MODIFY ANYTHING IN THIS CELL THAT IS BELOW THIS LINE\n",
    "\"\"\"\n",
    "tests.test_get_inputs(get_inputs)"
   ]
  },
  {
   "cell_type": "markdown",
   "metadata": {
    "deletable": true,
    "editable": true
   },
   "source": [
    "### Build RNN Cell and Initialize\n",
    "Stack one or more [`BasicLSTMCells`](https://www.tensorflow.org/api_docs/python/tf/contrib/rnn/BasicLSTMCell) in a [`MultiRNNCell`](https://www.tensorflow.org/api_docs/python/tf/contrib/rnn/MultiRNNCell).\n",
    "- The Rnn size should be set using `rnn_size`\n",
    "- Initalize Cell State using the MultiRNNCell's [`zero_state()`](https://www.tensorflow.org/api_docs/python/tf/contrib/rnn/MultiRNNCell#zero_state) function\n",
    "    - Apply the name \"initial_state\" to the initial state using [`tf.identity()`](https://www.tensorflow.org/api_docs/python/tf/identity)\n",
    "\n",
    "Return the cell and initial state in the following tuple `(Cell, InitialState)`"
   ]
  },
  {
   "cell_type": "code",
   "execution_count": 98,
   "metadata": {
    "collapsed": false,
    "deletable": true,
    "editable": true
   },
   "outputs": [
    {
     "name": "stdout",
     "output_type": "stream",
     "text": [
      "Tests Passed\n"
     ]
    }
   ],
   "source": [
    "def get_init_cell(batch_size, rnn_size):\n",
    "    \"\"\"\n",
    "    Create an RNN Cell and initialize it.\n",
    "    :param batch_size: Size of batches\n",
    "    :param rnn_size: Size of RNNs\n",
    "    :return: Tuple (cell, initialize state)\n",
    "    \"\"\"\n",
    "    # TODO: Implement Function\n",
    "    \n",
    "    lstm = tf.contrib.rnn.BasicLSTMCell(rnn_size)\n",
    "    cell = tf.contrib.rnn.MultiRNNCell([lstm]*1)\n",
    "    initialState = cell.zero_state(batch_size, tf.float32)\n",
    "    initialState = tf.identity(initialState, \"initial_state\")\n",
    "    return cell, initialState\n",
    "\n",
    "\n",
    "\"\"\"\n",
    "DON'T MODIFY ANYTHING IN THIS CELL THAT IS BELOW THIS LINE\n",
    "\"\"\"\n",
    "tests.test_get_init_cell(get_init_cell)"
   ]
  },
  {
   "cell_type": "markdown",
   "metadata": {
    "deletable": true,
    "editable": true
   },
   "source": [
    "### Word Embedding\n",
    "Apply embedding to `input_data` using TensorFlow.  Return the embedded sequence."
   ]
  },
  {
   "cell_type": "code",
   "execution_count": 99,
   "metadata": {
    "collapsed": false,
    "deletable": true,
    "editable": true
   },
   "outputs": [
    {
     "name": "stdout",
     "output_type": "stream",
     "text": [
      "Tests Passed\n"
     ]
    }
   ],
   "source": [
    "def get_embed(input_data, vocab_size, embed_dim):\n",
    "    \"\"\"\n",
    "    Create embedding for <input_data>.\n",
    "    :param input_data: TF placeholder for text input.\n",
    "    :param vocab_size: Number of words in vocabulary.\n",
    "    :param embed_dim: Number of embedding dimensions\n",
    "    :return: Embedded input.\n",
    "    \"\"\"\n",
    "    # TODO: Implement Function\n",
    "    #print(\"<<<<< input_data >>>>> \\n\", input_data)\n",
    "    #print(\"<<<<< vocab_size >>>>> \\n\", vocab_size)\n",
    "    #print(\"<<<<< embed_dim >>>>> \\n\", embed_dim)\n",
    "    #with train_graph.as_default():\n",
    "    # create embedding weight matrix here\n",
    "    embedding = tf.Variable(tf.truncated_normal((vocab_size, embed_dim), stddev=0.1))\n",
    "    # use tf.nn.embedding_lookup to get the hidden layer output\n",
    "    embed = tf.nn.embedding_lookup(embedding, input_data)\n",
    "    return embed\n",
    "    \n",
    "    \n",
    "\"\"\"\n",
    "DON'T MODIFY ANYTHING IN THIS CELL THAT IS BELOW THIS LINE\n",
    "\"\"\"\n",
    "tests.test_get_embed(get_embed)"
   ]
  },
  {
   "cell_type": "markdown",
   "metadata": {
    "deletable": true,
    "editable": true
   },
   "source": [
    "### Build RNN\n",
    "You created a RNN Cell in the `get_init_cell()` function.  Time to use the cell to create a RNN.\n",
    "- Build the RNN using the [`tf.nn.dynamic_rnn()`](https://www.tensorflow.org/api_docs/python/tf/nn/dynamic_rnn)\n",
    " - Apply the name \"final_state\" to the final state using [`tf.identity()`](https://www.tensorflow.org/api_docs/python/tf/identity)\n",
    "\n",
    "Return the outputs and final_state state in the following tuple `(Outputs, FinalState)` "
   ]
  },
  {
   "cell_type": "code",
   "execution_count": 100,
   "metadata": {
    "collapsed": false,
    "deletable": true,
    "editable": true
   },
   "outputs": [
    {
     "name": "stdout",
     "output_type": "stream",
     "text": [
      "Tests Passed\n"
     ]
    }
   ],
   "source": [
    "def build_rnn(cell, inputs):\n",
    "    \"\"\"\n",
    "    Create a RNN using a RNN Cell\n",
    "    :param cell: RNN Cell\n",
    "    :param inputs: Input text data\n",
    "    :return: Tuple (Outputs, Final State)\n",
    "    \"\"\"\n",
    "    # TODO: Implement Function\n",
    "    \"\"\"\n",
    "    (outputs,finalState) = tf.nn.dynamic_rnn(cell, inputs, \\#sequence_length=None, \\\n",
    "                                  \\  #initial_state=None, \\\n",
    "                                    dtype=tf.float32, \\\n",
    "                                   \\ #parallel_iterations=None, swap_memory=False, \\\n",
    "                                   \\ #time_major=False, scope=None\n",
    "                                            )\n",
    "    \"\"\"\n",
    "    (outputs,finalState) = tf.nn.dynamic_rnn(cell, inputs, dtype=tf.float32)\n",
    "    finalState = tf.identity(finalState, \"final_state\")\n",
    "    return outputs, finalState\n",
    "\n",
    "\n",
    "\"\"\"\n",
    "DON'T MODIFY ANYTHING IN THIS CELL THAT IS BELOW THIS LINE\n",
    "\"\"\"\n",
    "tests.test_build_rnn(build_rnn)"
   ]
  },
  {
   "cell_type": "markdown",
   "metadata": {
    "deletable": true,
    "editable": true
   },
   "source": [
    "### Build the Neural Network\n",
    "Apply the functions you implemented above to:\n",
    "- Apply embedding to `input_data` using your `get_embed(input_data, vocab_size, embed_dim)` function.\n",
    "- Build RNN using `cell` and your `build_rnn(cell, inputs)` function.\n",
    "- Apply a fully connected layer with a linear activation and `vocab_size` as the number of outputs.\n",
    "\n",
    "Return the logits and final state in the following tuple (Logits, FinalState) "
   ]
  },
  {
   "cell_type": "code",
   "execution_count": 101,
   "metadata": {
    "collapsed": false,
    "deletable": true,
    "editable": true
   },
   "outputs": [
    {
     "name": "stdout",
     "output_type": "stream",
     "text": [
      "rnn_size= 256 \n",
      "\n",
      "vocab_size= 27 \n",
      "\n",
      "input_data\n",
      " Tensor(\"Placeholder:0\", shape=(128, 5), dtype=int32) \n",
      "\n",
      "embed\n",
      " Tensor(\"embedding_lookup:0\", shape=(128, 5, 400), dtype=float32) \n",
      "\n",
      "Tests Passed\n"
     ]
    }
   ],
   "source": [
    "def build_nn(cell, rnn_size, input_data, vocab_size):\n",
    "    \"\"\"\n",
    "    Build part of the neural network\n",
    "    :param cell: RNN cell\n",
    "    :param rnn_size: Size of rnns\n",
    "    :param input_data: Input data\n",
    "    :param vocab_size: Vocabulary size\n",
    "    :return: Tuple (Logits, FinalState)\n",
    "    \"\"\"\n",
    "    print(\"rnn_size=\", rnn_size, \"\\n\")\n",
    "    print(\"vocab_size=\", vocab_size, \"\\n\")\n",
    "    print(\"input_data\\n\", input_data, \"\\n\")\n",
    "    \n",
    "    # TODO: Implement Function\n",
    "    #Apply embedding to input_data using your get_embed(input_data, vocab_size, embed_dim) function.\n",
    "    embed_dim = 400\n",
    "    embed = get_embed(input_data, vocab_size, embed_dim)\n",
    "    print(\"embed\\n\", embed, \"\\n\")\n",
    "    \n",
    "    #Build RNN using cell and your build_rnn(cell, inputs) function.\n",
    "    output, finalState = build_rnn(cell, embed)\n",
    "    \n",
    "    #Apply a fully connected layer with a linear activation and vocab_size as the number of outputs\n",
    "    logits = tf.contrib.layers.fully_connected(output, vocab_size, \\\n",
    "                                               activation_fn=None, \\\n",
    "                                               weights_initializer = tf.truncated_normal_initializer(stddev = 0.1))\n",
    "    return logits, finalState\n",
    "\n",
    "\n",
    "\"\"\"\n",
    "DON'T MODIFY ANYTHING IN THIS CELL THAT IS BELOW THIS LINE\n",
    "\"\"\"\n",
    "tests.test_build_nn(build_nn)"
   ]
  },
  {
   "cell_type": "markdown",
   "metadata": {
    "deletable": true,
    "editable": true
   },
   "source": [
    "### Batches\n",
    "Implement `get_batches` to create batches of input and targets using `int_text`.  The batches should be a Numpy array with the shape `(number of batches, 2, batch size, sequence length)`. Each batch contains two elements:\n",
    "- The first element is a single batch of **input** with the shape `[batch size, sequence length]`\n",
    "- The second element is a single batch of **targets** with the shape `[batch size, sequence length]`\n",
    "\n",
    "If you can't fill the last batch with enough data, drop the last batch.\n",
    "\n",
    "For exmple, `get_batches([1, 2, 3, 4, 5, 6, 7, 8, 9, 10, 11, 12, 13, 14, 15], 2, 3)` would return a Numpy array of the following:\n",
    "```\n",
    "[\n",
    "  # First Batch\n",
    "  [\n",
    "    # Batch of Input\n",
    "    [[ 1  2  3], [ 7  8  9]],\n",
    "    # Batch of targets\n",
    "    [[ 2  3  4], [ 8  9 10]]\n",
    "  ],\n",
    " \n",
    "  # Second Batch\n",
    "  [\n",
    "    # Batch of Input\n",
    "    [[ 4  5  6], [10 11 12]],\n",
    "    # Batch of targets\n",
    "    [[ 5  6  7], [11 12 13]]\n",
    "  ]\n",
    "]\n",
    "```"
   ]
  },
  {
   "cell_type": "code",
   "execution_count": 102,
   "metadata": {
    "collapsed": false,
    "deletable": true,
    "editable": true
   },
   "outputs": [
    {
     "name": "stdout",
     "output_type": "stream",
     "text": [
      "n_batch=7  batch_size=128  seq_length=5\n",
      "Tests Passed\n"
     ]
    }
   ],
   "source": [
    "def get_batches(int_text, batch_size, seq_length):\n",
    "    \"\"\"\n",
    "    Return batches of input and target\n",
    "    :param int_text: Text with the words replaced by their ids\n",
    "    :param batch_size: The size of batch\n",
    "    :param seq_length: The length of sequence\n",
    "    :return: Batches as a Numpy array\n",
    "    \"\"\"\n",
    "    # TODO: Implement Function\n",
    "\n",
    "    #int_text = [1,2,3,4,5,6,7,8,9,10,11,12,13,14,15] #,16,17,28,19,20,21,22,23,24,25,26,27,28,29,30]\n",
    "    #n_batch=2\n",
    "    #batch_size=2\n",
    "    #seq_length=3\n",
    "    n_batch = len(int_text)//(batch_size * seq_length)\n",
    "    batches = []\n",
    "    \n",
    "    print(\"n_batch={}  batch_size={}  seq_length={}\".format(n_batch, batch_size, seq_length))\n",
    "    for i in range(n_batch):\n",
    "        inputs  = []\n",
    "        outputs = []\n",
    "        for k in range(batch_size):\n",
    "            #for j in range(k*batch_size*seq_length, (k+1)*batch_size*seq_length, seq_length):\n",
    "            #start = batch_size * seq_length * i + k * seq_length\n",
    "            start = (i * batch_size * seq_length) + (k * seq_length)\n",
    "            end   = start + seq_length\n",
    "            inputs.append(int_text[start:end])\n",
    "            outputs.append(int_text[start+1:end+1])\n",
    "            #if (k < 2):\n",
    "                    #print(\"inputs and outputs\")\n",
    "                    #print(inputs)\n",
    "                    #print(outputs)\n",
    "\n",
    "        batch = [inputs, outputs]\n",
    "        #if (len(batch) < 2):\n",
    "            #print(\"batch======\", batch)\n",
    "        batches.append(batch)\n",
    "        #if (i < 2):\n",
    "        #    print(\"batches    ======\", batches)\n",
    "        #print(batches)\n",
    "    #print(batches)\n",
    "    return np.array(batches)\n",
    "\n",
    "\"\"\"\n",
    "DON'T MODIFY ANYTHING IN THIS CELL THAT IS BELOW THIS LINE\n",
    "\"\"\"\n",
    "tests.test_get_batches(get_batches)"
   ]
  },
  {
   "cell_type": "markdown",
   "metadata": {
    "deletable": true,
    "editable": true
   },
   "source": [
    "## Neural Network Training\n",
    "### Hyperparameters\n",
    "Tune the following parameters:\n",
    "\n",
    "- Set `num_epochs` to the number of epochs.\n",
    "- Set `batch_size` to the batch size.\n",
    "- Set `rnn_size` to the size of the RNNs.\n",
    "- Set `seq_length` to the length of sequence.\n",
    "- Set `learning_rate` to the learning rate.\n",
    "- Set `show_every_n_batches` to the number of batches the neural network should print progress."
   ]
  },
  {
   "cell_type": "code",
   "execution_count": 103,
   "metadata": {
    "collapsed": true,
    "deletable": true,
    "editable": true
   },
   "outputs": [],
   "source": [
    "# Number of Epochs\n",
    "num_epochs = 200\n",
    "# Batch Size\n",
    "batch_size = 128\n",
    "# RNN Size\n",
    "rnn_size = 256\n",
    "# Sequence Length\n",
    "seq_length = 15\n",
    "# Learning Rate\n",
    "learning_rate = 0.001\n",
    "# Show stats for every n number of batches\n",
    "show_every_n_batches = 20\n",
    "\n",
    "\"\"\"\n",
    "DON'T MODIFY ANYTHING IN THIS CELL THAT IS BELOW THIS LINE\n",
    "\"\"\"\n",
    "save_dir = './save'"
   ]
  },
  {
   "cell_type": "markdown",
   "metadata": {
    "deletable": true,
    "editable": true
   },
   "source": [
    "### Build the Graph\n",
    "Build the graph using the neural network you implemented."
   ]
  },
  {
   "cell_type": "code",
   "execution_count": 104,
   "metadata": {
    "collapsed": false,
    "deletable": true,
    "editable": true
   },
   "outputs": [
    {
     "name": "stdout",
     "output_type": "stream",
     "text": [
      "rnn_size= 256 \n",
      "\n",
      "vocab_size= 6779 \n",
      "\n",
      "input_data\n",
      " Tensor(\"input:0\", shape=(?, ?), dtype=int32) \n",
      "\n",
      "embed\n",
      " Tensor(\"embedding_lookup:0\", shape=(?, ?, 400), dtype=float32) \n",
      "\n"
     ]
    }
   ],
   "source": [
    "\"\"\"\n",
    "DON'T MODIFY ANYTHING IN THIS CELL\n",
    "\"\"\"\n",
    "from tensorflow.contrib import seq2seq\n",
    "\n",
    "train_graph = tf.Graph()\n",
    "with train_graph.as_default():\n",
    "    vocab_size = len(int_to_vocab)\n",
    "    input_text, targets, lr = get_inputs()\n",
    "    input_data_shape = tf.shape(input_text)\n",
    "    cell, initial_state = get_init_cell(input_data_shape[0], rnn_size)\n",
    "    logits, final_state = build_nn(cell, rnn_size, input_text, vocab_size)\n",
    "\n",
    "    # Probabilities for generating words\n",
    "    probs = tf.nn.softmax(logits, name='probs')\n",
    "\n",
    "    # Loss function\n",
    "    cost = seq2seq.sequence_loss(\n",
    "        logits,\n",
    "        targets,\n",
    "        tf.ones([input_data_shape[0], input_data_shape[1]]))\n",
    "\n",
    "    # Optimizer\n",
    "    optimizer = tf.train.AdamOptimizer(lr)\n",
    "\n",
    "    # Gradient Clipping\n",
    "    gradients = optimizer.compute_gradients(cost)\n",
    "    capped_gradients = [(tf.clip_by_value(grad, -1., 1.), var) for grad, var in gradients]\n",
    "    train_op = optimizer.apply_gradients(capped_gradients)"
   ]
  },
  {
   "cell_type": "markdown",
   "metadata": {
    "deletable": true,
    "editable": true
   },
   "source": [
    "## Train\n",
    "Train the neural network on the preprocessed data.  If you have a hard time getting a good loss, check the [forms](https://discussions.udacity.com/) to see if anyone is having the same problem."
   ]
  },
  {
   "cell_type": "code",
   "execution_count": 105,
   "metadata": {
    "collapsed": false,
    "deletable": true,
    "editable": true
   },
   "outputs": [
    {
     "name": "stdout",
     "output_type": "stream",
     "text": [
      "n_batch=35  batch_size=128  seq_length=15\n",
      "Epoch   0 Batch    0/35   train_loss = 8.820\n",
      "Epoch   0 Batch   20/35   train_loss = 6.654\n",
      "Epoch   1 Batch    5/35   train_loss = 5.962\n",
      "Epoch   1 Batch   25/35   train_loss = 5.910\n",
      "Epoch   2 Batch   10/35   train_loss = 5.649\n",
      "Epoch   2 Batch   30/35   train_loss = 5.589\n",
      "Epoch   3 Batch   15/35   train_loss = 5.324\n",
      "Epoch   4 Batch    0/35   train_loss = 5.115\n",
      "Epoch   4 Batch   20/35   train_loss = 5.253\n",
      "Epoch   5 Batch    5/35   train_loss = 4.949\n",
      "Epoch   5 Batch   25/35   train_loss = 5.077\n",
      "Epoch   6 Batch   10/35   train_loss = 4.886\n",
      "Epoch   6 Batch   30/35   train_loss = 4.916\n",
      "Epoch   7 Batch   15/35   train_loss = 4.705\n",
      "Epoch   8 Batch    0/35   train_loss = 4.567\n",
      "Epoch   8 Batch   20/35   train_loss = 4.697\n",
      "Epoch   9 Batch    5/35   train_loss = 4.458\n",
      "Epoch   9 Batch   25/35   train_loss = 4.602\n",
      "Epoch  10 Batch   10/35   train_loss = 4.458\n",
      "Epoch  10 Batch   30/35   train_loss = 4.504\n",
      "Epoch  11 Batch   15/35   train_loss = 4.323\n",
      "Epoch  12 Batch    0/35   train_loss = 4.185\n",
      "Epoch  12 Batch   20/35   train_loss = 4.325\n",
      "Epoch  13 Batch    5/35   train_loss = 4.124\n",
      "Epoch  13 Batch   25/35   train_loss = 4.274\n",
      "Epoch  14 Batch   10/35   train_loss = 4.132\n",
      "Epoch  14 Batch   30/35   train_loss = 4.190\n",
      "Epoch  15 Batch   15/35   train_loss = 4.021\n",
      "Epoch  16 Batch    0/35   train_loss = 3.883\n",
      "Epoch  16 Batch   20/35   train_loss = 4.027\n",
      "Epoch  17 Batch    5/35   train_loss = 3.886\n",
      "Epoch  17 Batch   25/35   train_loss = 4.008\n",
      "Epoch  18 Batch   10/35   train_loss = 3.873\n",
      "Epoch  18 Batch   30/35   train_loss = 3.931\n",
      "Epoch  19 Batch   15/35   train_loss = 3.779\n",
      "Epoch  20 Batch    0/35   train_loss = 3.647\n",
      "Epoch  20 Batch   20/35   train_loss = 3.770\n",
      "Epoch  21 Batch    5/35   train_loss = 3.660\n",
      "Epoch  21 Batch   25/35   train_loss = 3.742\n",
      "Epoch  22 Batch   10/35   train_loss = 3.611\n",
      "Epoch  22 Batch   30/35   train_loss = 3.663\n",
      "Epoch  23 Batch   15/35   train_loss = 3.540\n",
      "Epoch  24 Batch    0/35   train_loss = 3.411\n",
      "Epoch  24 Batch   20/35   train_loss = 3.514\n",
      "Epoch  25 Batch    5/35   train_loss = 3.440\n",
      "Epoch  25 Batch   25/35   train_loss = 3.481\n",
      "Epoch  26 Batch   10/35   train_loss = 3.362\n",
      "Epoch  26 Batch   30/35   train_loss = 3.412\n",
      "Epoch  27 Batch   15/35   train_loss = 3.318\n",
      "Epoch  28 Batch    0/35   train_loss = 3.188\n",
      "Epoch  28 Batch   20/35   train_loss = 3.273\n",
      "Epoch  29 Batch    5/35   train_loss = 3.217\n",
      "Epoch  29 Batch   25/35   train_loss = 3.233\n",
      "Epoch  30 Batch   10/35   train_loss = 3.119\n",
      "Epoch  30 Batch   30/35   train_loss = 3.172\n",
      "Epoch  31 Batch   15/35   train_loss = 3.085\n",
      "Epoch  32 Batch    0/35   train_loss = 2.981\n",
      "Epoch  32 Batch   20/35   train_loss = 3.044\n",
      "Epoch  33 Batch    5/35   train_loss = 3.028\n",
      "Epoch  33 Batch   25/35   train_loss = 3.003\n",
      "Epoch  34 Batch   10/35   train_loss = 2.892\n",
      "Epoch  34 Batch   30/35   train_loss = 2.951\n",
      "Epoch  35 Batch   15/35   train_loss = 2.882\n",
      "Epoch  36 Batch    0/35   train_loss = 2.810\n",
      "Epoch  36 Batch   20/35   train_loss = 2.832\n",
      "Epoch  37 Batch    5/35   train_loss = 2.850\n",
      "Epoch  37 Batch   25/35   train_loss = 2.800\n",
      "Epoch  38 Batch   10/35   train_loss = 2.689\n",
      "Epoch  38 Batch   30/35   train_loss = 2.744\n",
      "Epoch  39 Batch   15/35   train_loss = 2.687\n",
      "Epoch  40 Batch    0/35   train_loss = 2.634\n",
      "Epoch  40 Batch   20/35   train_loss = 2.625\n",
      "Epoch  41 Batch    5/35   train_loss = 2.677\n",
      "Epoch  41 Batch   25/35   train_loss = 2.611\n",
      "Epoch  42 Batch   10/35   train_loss = 2.492\n",
      "Epoch  42 Batch   30/35   train_loss = 2.550\n",
      "Epoch  43 Batch   15/35   train_loss = 2.528\n",
      "Epoch  44 Batch    0/35   train_loss = 2.461\n",
      "Epoch  44 Batch   20/35   train_loss = 2.456\n",
      "Epoch  45 Batch    5/35   train_loss = 2.498\n",
      "Epoch  45 Batch   25/35   train_loss = 2.441\n",
      "Epoch  46 Batch   10/35   train_loss = 2.310\n",
      "Epoch  46 Batch   30/35   train_loss = 2.372\n",
      "Epoch  47 Batch   15/35   train_loss = 2.337\n",
      "Epoch  48 Batch    0/35   train_loss = 2.307\n",
      "Epoch  48 Batch   20/35   train_loss = 2.258\n",
      "Epoch  49 Batch    5/35   train_loss = 2.323\n",
      "Epoch  49 Batch   25/35   train_loss = 2.265\n",
      "Epoch  50 Batch   10/35   train_loss = 2.131\n",
      "Epoch  50 Batch   30/35   train_loss = 2.213\n",
      "Epoch  51 Batch   15/35   train_loss = 2.186\n",
      "Epoch  52 Batch    0/35   train_loss = 2.159\n",
      "Epoch  52 Batch   20/35   train_loss = 2.102\n",
      "Epoch  53 Batch    5/35   train_loss = 2.176\n",
      "Epoch  53 Batch   25/35   train_loss = 2.097\n",
      "Epoch  54 Batch   10/35   train_loss = 1.985\n",
      "Epoch  54 Batch   30/35   train_loss = 2.066\n",
      "Epoch  55 Batch   15/35   train_loss = 2.061\n",
      "Epoch  56 Batch    0/35   train_loss = 2.037\n",
      "Epoch  56 Batch   20/35   train_loss = 1.967\n",
      "Epoch  57 Batch    5/35   train_loss = 2.050\n",
      "Epoch  57 Batch   25/35   train_loss = 1.954\n",
      "Epoch  58 Batch   10/35   train_loss = 1.845\n",
      "Epoch  58 Batch   30/35   train_loss = 1.943\n",
      "Epoch  59 Batch   15/35   train_loss = 1.923\n",
      "Epoch  60 Batch    0/35   train_loss = 1.914\n",
      "Epoch  60 Batch   20/35   train_loss = 1.834\n",
      "Epoch  61 Batch    5/35   train_loss = 1.934\n",
      "Epoch  61 Batch   25/35   train_loss = 1.836\n",
      "Epoch  62 Batch   10/35   train_loss = 1.720\n",
      "Epoch  62 Batch   30/35   train_loss = 1.829\n",
      "Epoch  63 Batch   15/35   train_loss = 1.800\n",
      "Epoch  64 Batch    0/35   train_loss = 1.822\n",
      "Epoch  64 Batch   20/35   train_loss = 1.716\n",
      "Epoch  65 Batch    5/35   train_loss = 1.811\n",
      "Epoch  65 Batch   25/35   train_loss = 1.726\n",
      "Epoch  66 Batch   10/35   train_loss = 1.613\n",
      "Epoch  66 Batch   30/35   train_loss = 1.691\n",
      "Epoch  67 Batch   15/35   train_loss = 1.669\n",
      "Epoch  68 Batch    0/35   train_loss = 1.699\n",
      "Epoch  68 Batch   20/35   train_loss = 1.600\n",
      "Epoch  69 Batch    5/35   train_loss = 1.682\n",
      "Epoch  69 Batch   25/35   train_loss = 1.600\n",
      "Epoch  70 Batch   10/35   train_loss = 1.497\n",
      "Epoch  70 Batch   30/35   train_loss = 1.560\n",
      "Epoch  71 Batch   15/35   train_loss = 1.553\n",
      "Epoch  72 Batch    0/35   train_loss = 1.596\n",
      "Epoch  72 Batch   20/35   train_loss = 1.498\n",
      "Epoch  73 Batch    5/35   train_loss = 1.585\n",
      "Epoch  73 Batch   25/35   train_loss = 1.484\n",
      "Epoch  74 Batch   10/35   train_loss = 1.402\n",
      "Epoch  74 Batch   30/35   train_loss = 1.450\n",
      "Epoch  75 Batch   15/35   train_loss = 1.448\n",
      "Epoch  76 Batch    0/35   train_loss = 1.501\n",
      "Epoch  76 Batch   20/35   train_loss = 1.399\n",
      "Epoch  77 Batch    5/35   train_loss = 1.512\n",
      "Epoch  77 Batch   25/35   train_loss = 1.388\n",
      "Epoch  78 Batch   10/35   train_loss = 1.306\n",
      "Epoch  78 Batch   30/35   train_loss = 1.350\n",
      "Epoch  79 Batch   15/35   train_loss = 1.341\n",
      "Epoch  80 Batch    0/35   train_loss = 1.398\n",
      "Epoch  80 Batch   20/35   train_loss = 1.271\n",
      "Epoch  81 Batch    5/35   train_loss = 1.375\n",
      "Epoch  81 Batch   25/35   train_loss = 1.255\n",
      "Epoch  82 Batch   10/35   train_loss = 1.197\n",
      "Epoch  82 Batch   30/35   train_loss = 1.248\n",
      "Epoch  83 Batch   15/35   train_loss = 1.252\n",
      "Epoch  84 Batch    0/35   train_loss = 1.294\n",
      "Epoch  84 Batch   20/35   train_loss = 1.176\n",
      "Epoch  85 Batch    5/35   train_loss = 1.275\n",
      "Epoch  85 Batch   25/35   train_loss = 1.152\n",
      "Epoch  86 Batch   10/35   train_loss = 1.115\n",
      "Epoch  86 Batch   30/35   train_loss = 1.149\n",
      "Epoch  87 Batch   15/35   train_loss = 1.172\n",
      "Epoch  88 Batch    0/35   train_loss = 1.210\n",
      "Epoch  88 Batch   20/35   train_loss = 1.104\n",
      "Epoch  89 Batch    5/35   train_loss = 1.192\n",
      "Epoch  89 Batch   25/35   train_loss = 1.067\n",
      "Epoch  90 Batch   10/35   train_loss = 1.037\n",
      "Epoch  90 Batch   30/35   train_loss = 1.060\n",
      "Epoch  91 Batch   15/35   train_loss = 1.096\n",
      "Epoch  92 Batch    0/35   train_loss = 1.133\n",
      "Epoch  92 Batch   20/35   train_loss = 1.057\n",
      "Epoch  93 Batch    5/35   train_loss = 1.124\n",
      "Epoch  93 Batch   25/35   train_loss = 1.010\n",
      "Epoch  94 Batch   10/35   train_loss = 0.979\n",
      "Epoch  94 Batch   30/35   train_loss = 1.000\n",
      "Epoch  95 Batch   15/35   train_loss = 1.038\n",
      "Epoch  96 Batch    0/35   train_loss = 1.073\n",
      "Epoch  96 Batch   20/35   train_loss = 0.991\n",
      "Epoch  97 Batch    5/35   train_loss = 1.056\n",
      "Epoch  97 Batch   25/35   train_loss = 0.944\n",
      "Epoch  98 Batch   10/35   train_loss = 0.918\n",
      "Epoch  98 Batch   30/35   train_loss = 0.941\n",
      "Epoch  99 Batch   15/35   train_loss = 0.988\n",
      "Epoch 100 Batch    0/35   train_loss = 1.016\n",
      "Epoch 100 Batch   20/35   train_loss = 0.937\n",
      "Epoch 101 Batch    5/35   train_loss = 0.984\n",
      "Epoch 101 Batch   25/35   train_loss = 0.873\n",
      "Epoch 102 Batch   10/35   train_loss = 0.837\n",
      "Epoch 102 Batch   30/35   train_loss = 0.855\n",
      "Epoch 103 Batch   15/35   train_loss = 0.897\n",
      "Epoch 104 Batch    0/35   train_loss = 0.939\n",
      "Epoch 104 Batch   20/35   train_loss = 0.846\n",
      "Epoch 105 Batch    5/35   train_loss = 0.932\n",
      "Epoch 105 Batch   25/35   train_loss = 0.813\n",
      "Epoch 106 Batch   10/35   train_loss = 0.787\n",
      "Epoch 106 Batch   30/35   train_loss = 0.790\n",
      "Epoch 107 Batch   15/35   train_loss = 0.837\n",
      "Epoch 108 Batch    0/35   train_loss = 0.863\n",
      "Epoch 108 Batch   20/35   train_loss = 0.790\n",
      "Epoch 109 Batch    5/35   train_loss = 0.856\n",
      "Epoch 109 Batch   25/35   train_loss = 0.763\n",
      "Epoch 110 Batch   10/35   train_loss = 0.741\n",
      "Epoch 110 Batch   30/35   train_loss = 0.734\n",
      "Epoch 111 Batch   15/35   train_loss = 0.781\n",
      "Epoch 112 Batch    0/35   train_loss = 0.803\n",
      "Epoch 112 Batch   20/35   train_loss = 0.735\n",
      "Epoch 113 Batch    5/35   train_loss = 0.785\n",
      "Epoch 113 Batch   25/35   train_loss = 0.713\n",
      "Epoch 114 Batch   10/35   train_loss = 0.689\n",
      "Epoch 114 Batch   30/35   train_loss = 0.691\n",
      "Epoch 115 Batch   15/35   train_loss = 0.732\n",
      "Epoch 116 Batch    0/35   train_loss = 0.768\n",
      "Epoch 116 Batch   20/35   train_loss = 0.687\n",
      "Epoch 117 Batch    5/35   train_loss = 0.728\n",
      "Epoch 117 Batch   25/35   train_loss = 0.655\n",
      "Epoch 118 Batch   10/35   train_loss = 0.628\n",
      "Epoch 118 Batch   30/35   train_loss = 0.633\n",
      "Epoch 119 Batch   15/35   train_loss = 0.686\n",
      "Epoch 120 Batch    0/35   train_loss = 0.713\n",
      "Epoch 120 Batch   20/35   train_loss = 0.663\n",
      "Epoch 121 Batch    5/35   train_loss = 0.688\n",
      "Epoch 121 Batch   25/35   train_loss = 0.619\n",
      "Epoch 122 Batch   10/35   train_loss = 0.591\n",
      "Epoch 122 Batch   30/35   train_loss = 0.589\n",
      "Epoch 123 Batch   15/35   train_loss = 0.646\n",
      "Epoch 124 Batch    0/35   train_loss = 0.665\n",
      "Epoch 124 Batch   20/35   train_loss = 0.609\n",
      "Epoch 125 Batch    5/35   train_loss = 0.632\n",
      "Epoch 125 Batch   25/35   train_loss = 0.560\n",
      "Epoch 126 Batch   10/35   train_loss = 0.547\n",
      "Epoch 126 Batch   30/35   train_loss = 0.539\n",
      "Epoch 127 Batch   15/35   train_loss = 0.599\n",
      "Epoch 128 Batch    0/35   train_loss = 0.617\n",
      "Epoch 128 Batch   20/35   train_loss = 0.561\n",
      "Epoch 129 Batch    5/35   train_loss = 0.609\n",
      "Epoch 129 Batch   25/35   train_loss = 0.525\n",
      "Epoch 130 Batch   10/35   train_loss = 0.519\n",
      "Epoch 130 Batch   30/35   train_loss = 0.516\n",
      "Epoch 131 Batch   15/35   train_loss = 0.555\n",
      "Epoch 132 Batch    0/35   train_loss = 0.590\n",
      "Epoch 132 Batch   20/35   train_loss = 0.518\n",
      "Epoch 133 Batch    5/35   train_loss = 0.568\n",
      "Epoch 133 Batch   25/35   train_loss = 0.487\n",
      "Epoch 134 Batch   10/35   train_loss = 0.482\n",
      "Epoch 134 Batch   30/35   train_loss = 0.473\n",
      "Epoch 135 Batch   15/35   train_loss = 0.522\n",
      "Epoch 136 Batch    0/35   train_loss = 0.541\n",
      "Epoch 136 Batch   20/35   train_loss = 0.483\n",
      "Epoch 137 Batch    5/35   train_loss = 0.523\n",
      "Epoch 137 Batch   25/35   train_loss = 0.454\n",
      "Epoch 138 Batch   10/35   train_loss = 0.451\n",
      "Epoch 138 Batch   30/35   train_loss = 0.441\n",
      "Epoch 139 Batch   15/35   train_loss = 0.490\n",
      "Epoch 140 Batch    0/35   train_loss = 0.509\n",
      "Epoch 140 Batch   20/35   train_loss = 0.455\n",
      "Epoch 141 Batch    5/35   train_loss = 0.496\n",
      "Epoch 141 Batch   25/35   train_loss = 0.430\n",
      "Epoch 142 Batch   10/35   train_loss = 0.435\n",
      "Epoch 142 Batch   30/35   train_loss = 0.418\n",
      "Epoch 143 Batch   15/35   train_loss = 0.465\n",
      "Epoch 144 Batch    0/35   train_loss = 0.483\n",
      "Epoch 144 Batch   20/35   train_loss = 0.433\n",
      "Epoch 145 Batch    5/35   train_loss = 0.463\n",
      "Epoch 145 Batch   25/35   train_loss = 0.403\n",
      "Epoch 146 Batch   10/35   train_loss = 0.402\n",
      "Epoch 146 Batch   30/35   train_loss = 0.395\n",
      "Epoch 147 Batch   15/35   train_loss = 0.438\n",
      "Epoch 148 Batch    0/35   train_loss = 0.459\n",
      "Epoch 148 Batch   20/35   train_loss = 0.412\n",
      "Epoch 149 Batch    5/35   train_loss = 0.438\n",
      "Epoch 149 Batch   25/35   train_loss = 0.381\n",
      "Epoch 150 Batch   10/35   train_loss = 0.388\n",
      "Epoch 150 Batch   30/35   train_loss = 0.376\n",
      "Epoch 151 Batch   15/35   train_loss = 0.421\n",
      "Epoch 152 Batch    0/35   train_loss = 0.444\n",
      "Epoch 152 Batch   20/35   train_loss = 0.400\n",
      "Epoch 153 Batch    5/35   train_loss = 0.427\n",
      "Epoch 153 Batch   25/35   train_loss = 0.371\n",
      "Epoch 154 Batch   10/35   train_loss = 0.376\n",
      "Epoch 154 Batch   30/35   train_loss = 0.366\n",
      "Epoch 155 Batch   15/35   train_loss = 0.408\n",
      "Epoch 156 Batch    0/35   train_loss = 0.434\n",
      "Epoch 156 Batch   20/35   train_loss = 0.385\n",
      "Epoch 157 Batch    5/35   train_loss = 0.413\n",
      "Epoch 157 Batch   25/35   train_loss = 0.348\n",
      "Epoch 158 Batch   10/35   train_loss = 0.356\n",
      "Epoch 158 Batch   30/35   train_loss = 0.338\n",
      "Epoch 159 Batch   15/35   train_loss = 0.388\n",
      "Epoch 160 Batch    0/35   train_loss = 0.395\n",
      "Epoch 160 Batch   20/35   train_loss = 0.359\n",
      "Epoch 161 Batch    5/35   train_loss = 0.381\n",
      "Epoch 161 Batch   25/35   train_loss = 0.329\n",
      "Epoch 162 Batch   10/35   train_loss = 0.340\n",
      "Epoch 162 Batch   30/35   train_loss = 0.321\n",
      "Epoch 163 Batch   15/35   train_loss = 0.370\n",
      "Epoch 164 Batch    0/35   train_loss = 0.377\n",
      "Epoch 164 Batch   20/35   train_loss = 0.342\n",
      "Epoch 165 Batch    5/35   train_loss = 0.365\n",
      "Epoch 165 Batch   25/35   train_loss = 0.315\n",
      "Epoch 166 Batch   10/35   train_loss = 0.329\n",
      "Epoch 166 Batch   30/35   train_loss = 0.311\n",
      "Epoch 167 Batch   15/35   train_loss = 0.359\n",
      "Epoch 168 Batch    0/35   train_loss = 0.365\n",
      "Epoch 168 Batch   20/35   train_loss = 0.333\n",
      "Epoch 169 Batch    5/35   train_loss = 0.355\n",
      "Epoch 169 Batch   25/35   train_loss = 0.306\n",
      "Epoch 170 Batch   10/35   train_loss = 0.317\n",
      "Epoch 170 Batch   30/35   train_loss = 0.295\n",
      "Epoch 171 Batch   15/35   train_loss = 0.340\n",
      "Epoch 172 Batch    0/35   train_loss = 0.347\n",
      "Epoch 172 Batch   20/35   train_loss = 0.315\n",
      "Epoch 173 Batch    5/35   train_loss = 0.336\n",
      "Epoch 173 Batch   25/35   train_loss = 0.287\n",
      "Epoch 174 Batch   10/35   train_loss = 0.301\n",
      "Epoch 174 Batch   30/35   train_loss = 0.281\n",
      "Epoch 175 Batch   15/35   train_loss = 0.325\n",
      "Epoch 176 Batch    0/35   train_loss = 0.333\n",
      "Epoch 176 Batch   20/35   train_loss = 0.305\n",
      "Epoch 177 Batch    5/35   train_loss = 0.326\n",
      "Epoch 177 Batch   25/35   train_loss = 0.277\n",
      "Epoch 178 Batch   10/35   train_loss = 0.292\n",
      "Epoch 178 Batch   30/35   train_loss = 0.271\n",
      "Epoch 179 Batch   15/35   train_loss = 0.314\n",
      "Epoch 180 Batch    0/35   train_loss = 0.320\n",
      "Epoch 180 Batch   20/35   train_loss = 0.299\n",
      "Epoch 181 Batch    5/35   train_loss = 0.317\n",
      "Epoch 181 Batch   25/35   train_loss = 0.273\n",
      "Epoch 182 Batch   10/35   train_loss = 0.285\n",
      "Epoch 182 Batch   30/35   train_loss = 0.269\n",
      "Epoch 183 Batch   15/35   train_loss = 0.305\n",
      "Epoch 184 Batch    0/35   train_loss = 0.310\n",
      "Epoch 184 Batch   20/35   train_loss = 0.289\n",
      "Epoch 185 Batch    5/35   train_loss = 0.305\n",
      "Epoch 185 Batch   25/35   train_loss = 0.263\n",
      "Epoch 186 Batch   10/35   train_loss = 0.280\n",
      "Epoch 186 Batch   30/35   train_loss = 0.263\n",
      "Epoch 187 Batch   15/35   train_loss = 0.297\n",
      "Epoch 188 Batch    0/35   train_loss = 0.300\n",
      "Epoch 188 Batch   20/35   train_loss = 0.280\n",
      "Epoch 189 Batch    5/35   train_loss = 0.294\n",
      "Epoch 189 Batch   25/35   train_loss = 0.252\n",
      "Epoch 190 Batch   10/35   train_loss = 0.273\n",
      "Epoch 190 Batch   30/35   train_loss = 0.255\n",
      "Epoch 191 Batch   15/35   train_loss = 0.291\n",
      "Epoch 192 Batch    0/35   train_loss = 0.292\n",
      "Epoch 192 Batch   20/35   train_loss = 0.275\n",
      "Epoch 193 Batch    5/35   train_loss = 0.286\n",
      "Epoch 193 Batch   25/35   train_loss = 0.243\n",
      "Epoch 194 Batch   10/35   train_loss = 0.267\n",
      "Epoch 194 Batch   30/35   train_loss = 0.248\n",
      "Epoch 195 Batch   15/35   train_loss = 0.287\n",
      "Epoch 196 Batch    0/35   train_loss = 0.288\n",
      "Epoch 196 Batch   20/35   train_loss = 0.276\n",
      "Epoch 197 Batch    5/35   train_loss = 0.283\n",
      "Epoch 197 Batch   25/35   train_loss = 0.238\n",
      "Epoch 198 Batch   10/35   train_loss = 0.260\n",
      "Epoch 198 Batch   30/35   train_loss = 0.245\n",
      "Epoch 199 Batch   15/35   train_loss = 0.284\n",
      "Model Trained and Saved\n"
     ]
    }
   ],
   "source": [
    "\"\"\"\n",
    "DON'T MODIFY ANYTHING IN THIS CELL\n",
    "\"\"\"\n",
    "batches = get_batches(int_text, batch_size, seq_length)\n",
    "\n",
    "with tf.Session(graph=train_graph) as sess:\n",
    "    sess.run(tf.global_variables_initializer())\n",
    "\n",
    "    for epoch_i in range(num_epochs):\n",
    "        state = sess.run(initial_state, {input_text: batches[0][0]})\n",
    "\n",
    "        for batch_i, (x, y) in enumerate(batches):\n",
    "            feed = {\n",
    "                input_text: x,\n",
    "                targets: y,\n",
    "                initial_state: state,\n",
    "                lr: learning_rate}\n",
    "            train_loss, state, _ = sess.run([cost, final_state, train_op], feed)\n",
    "\n",
    "            # Show every <show_every_n_batches> batches\n",
    "            if (epoch_i * len(batches) + batch_i) % show_every_n_batches == 0:\n",
    "                print('Epoch {:>3} Batch {:>4}/{}   train_loss = {:.3f}'.format(\n",
    "                    epoch_i,\n",
    "                    batch_i,\n",
    "                    len(batches),\n",
    "                    train_loss))\n",
    "\n",
    "    # Save Model\n",
    "    saver = tf.train.Saver()\n",
    "    saver.save(sess, save_dir)\n",
    "    print('Model Trained and Saved')"
   ]
  },
  {
   "cell_type": "markdown",
   "metadata": {
    "deletable": true,
    "editable": true
   },
   "source": [
    "## Save Parameters\n",
    "Save `seq_length` and `save_dir` for generating a new TV script."
   ]
  },
  {
   "cell_type": "code",
   "execution_count": 106,
   "metadata": {
    "collapsed": false,
    "deletable": true,
    "editable": true
   },
   "outputs": [],
   "source": [
    "\"\"\"\n",
    "DON'T MODIFY ANYTHING IN THIS CELL\n",
    "\"\"\"\n",
    "# Save parameters for checkpoint\n",
    "helper.save_params((seq_length, save_dir))"
   ]
  },
  {
   "cell_type": "markdown",
   "metadata": {
    "deletable": true,
    "editable": true
   },
   "source": [
    "# Checkpoint"
   ]
  },
  {
   "cell_type": "code",
   "execution_count": 107,
   "metadata": {
    "collapsed": false,
    "deletable": true,
    "editable": true
   },
   "outputs": [],
   "source": [
    "\"\"\"\n",
    "DON'T MODIFY ANYTHING IN THIS CELL\n",
    "\"\"\"\n",
    "import tensorflow as tf\n",
    "import numpy as np\n",
    "import helper\n",
    "import problem_unittests as tests\n",
    "\n",
    "_, vocab_to_int, int_to_vocab, token_dict = helper.load_preprocess()\n",
    "seq_length, load_dir = helper.load_params()"
   ]
  },
  {
   "cell_type": "markdown",
   "metadata": {
    "deletable": true,
    "editable": true
   },
   "source": [
    "## Implement Generate Functions\n",
    "### Get Tensors\n",
    "Get tensors from `loaded_graph` using the function [`get_tensor_by_name()`](https://www.tensorflow.org/api_docs/python/tf/Graph#get_tensor_by_name).  Get the tensors using the following names:\n",
    "- \"input:0\"\n",
    "- \"initial_state:0\"\n",
    "- \"final_state:0\"\n",
    "- \"probs:0\"\n",
    "\n",
    "Return the tensors in the following tuple `(InputTensor, InitialStateTensor, FinalStateTensor, ProbsTensor)` "
   ]
  },
  {
   "cell_type": "code",
   "execution_count": 109,
   "metadata": {
    "collapsed": false,
    "deletable": true,
    "editable": true
   },
   "outputs": [
    {
     "name": "stdout",
     "output_type": "stream",
     "text": [
      "Tests Passed\n"
     ]
    }
   ],
   "source": [
    "def get_tensors(loaded_graph):\n",
    "    \"\"\"\n",
    "    Get input, initial state, final state, and probabilities tensor from <loaded_graph>\n",
    "    :param loaded_graph: TensorFlow graph loaded from file\n",
    "    :return: Tuple (InputTensor, InitialStateTensor, FinalStateTensor, ProbsTensor)\n",
    "    \"\"\"\n",
    "    # TODO: Implement Function\n",
    "    InputTensor        = loaded_graph.get_tensor_by_name(\"input:0\")\n",
    "    InitialStateTensor = loaded_graph.get_tensor_by_name(\"initial_state:0\")\n",
    "    FinalStateTensor   = loaded_graph.get_tensor_by_name(\"final_state:0\")\n",
    "    ProbsTensor        = loaded_graph.get_tensor_by_name(\"probs:0\")\n",
    "    return (InputTensor, InitialStateTensor, FinalStateTensor, ProbsTensor)\n",
    "\n",
    "\n",
    "\"\"\"\n",
    "DON'T MODIFY ANYTHING IN THIS CELL THAT IS BELOW THIS LINE\n",
    "\"\"\"\n",
    "tests.test_get_tensors(get_tensors)"
   ]
  },
  {
   "cell_type": "markdown",
   "metadata": {
    "deletable": true,
    "editable": true
   },
   "source": [
    "### Choose Word\n",
    "Implement the `pick_word()` function to select the next word using `probabilities`."
   ]
  },
  {
   "cell_type": "code",
   "execution_count": 110,
   "metadata": {
    "collapsed": false,
    "deletable": true,
    "editable": true
   },
   "outputs": [
    {
     "name": "stdout",
     "output_type": "stream",
     "text": [
      "Tests Passed\n"
     ]
    }
   ],
   "source": [
    "def pick_word(probabilities, int_to_vocab):\n",
    "    \"\"\"\n",
    "    Pick the next word in the generated text\n",
    "    :param probabilities: Probabilites of the next word\n",
    "    :param int_to_vocab: Dictionary of word ids as the keys and words as the values\n",
    "    :return: String of the predicted word\n",
    "    \"\"\"\n",
    "    # TODO: Implement Function\n",
    "    return int_to_vocab[np.argmax(probabilities)]\n",
    "\n",
    "\n",
    "\"\"\"\n",
    "DON'T MODIFY ANYTHING IN THIS CELL THAT IS BELOW THIS LINE\n",
    "\"\"\"\n",
    "tests.test_pick_word(pick_word)"
   ]
  },
  {
   "cell_type": "markdown",
   "metadata": {
    "deletable": true,
    "editable": true
   },
   "source": [
    "## Generate TV Script\n",
    "This will generate the TV script for you.  Set `gen_length` to the length of TV script you want to generate."
   ]
  },
  {
   "cell_type": "code",
   "execution_count": 111,
   "metadata": {
    "collapsed": false,
    "deletable": true,
    "editable": true
   },
   "outputs": [
    {
     "name": "stdout",
     "output_type": "stream",
     "text": [
      "moe_szyslak:(almost there) that's pretty dumb... uh... babar, king of you... what do you call it?\n",
      "homer_simpson:(sobs) oh, wait, wait-- then that stuff is very much for three years, moe. if you had to go back to drink.\n",
      "homer_simpson: it was about this bar all day you're the same.\n",
      "homer_simpson: i think you didn't win any of a new way sure... homer, can you make sure better go way to make a little more.\n",
      "moe_szyslak: homer, whatever you done to that.(small sob)\n",
      "moe_szyslak: what's wrong, homer?\n",
      "homer_simpson: ah, what are you doing?\n",
      "moe_szyslak: yeah.\n",
      "homer_simpson:(explaining) part of my new rice......\n",
      "young_marge:(reading) you know, homer, i don't want to play that i can think of someone but does your love.\n",
      "carl_carlson: hey, homer.\n",
      "homer_simpson: hugh, there's something i want you to meet my new guy\n"
     ]
    }
   ],
   "source": [
    "gen_length = 200\n",
    "# homer_simpson, moe_szyslak, or Barney_Gumble\n",
    "prime_word = 'moe_szyslak'\n",
    "\n",
    "\"\"\"\n",
    "DON'T MODIFY ANYTHING IN THIS CELL THAT IS BELOW THIS LINE\n",
    "\"\"\"\n",
    "loaded_graph = tf.Graph()\n",
    "with tf.Session(graph=loaded_graph) as sess:\n",
    "    # Load saved model\n",
    "    loader = tf.train.import_meta_graph(load_dir + '.meta')\n",
    "    loader.restore(sess, load_dir)\n",
    "\n",
    "    # Get Tensors from loaded model\n",
    "    input_text, initial_state, final_state, probs = get_tensors(loaded_graph)\n",
    "\n",
    "    # Sentences generation setup\n",
    "    gen_sentences = [prime_word + ':']\n",
    "    prev_state = sess.run(initial_state, {input_text: np.array([[1]])})\n",
    "\n",
    "    # Generate sentences\n",
    "    for n in range(gen_length):\n",
    "        # Dynamic Input\n",
    "        dyn_input = [[vocab_to_int[word] for word in gen_sentences[-seq_length:]]]\n",
    "        dyn_seq_length = len(dyn_input[0])\n",
    "\n",
    "        # Get Prediction\n",
    "        probabilities, prev_state = sess.run(\n",
    "            [probs, final_state],\n",
    "            {input_text: dyn_input, initial_state: prev_state})\n",
    "        \n",
    "        pred_word = pick_word(probabilities[dyn_seq_length-1], int_to_vocab)\n",
    "\n",
    "        gen_sentences.append(pred_word)\n",
    "    \n",
    "    # Remove tokens\n",
    "    tv_script = ' '.join(gen_sentences)\n",
    "    for key, token in token_dict.items():\n",
    "        ending = ' ' if key in ['\\n', '(', '\"'] else ''\n",
    "        tv_script = tv_script.replace(' ' + token.lower(), key)\n",
    "    tv_script = tv_script.replace('\\n ', '\\n')\n",
    "    tv_script = tv_script.replace('( ', '(')\n",
    "        \n",
    "    print(tv_script)"
   ]
  },
  {
   "cell_type": "markdown",
   "metadata": {
    "deletable": true,
    "editable": true
   },
   "source": [
    "# The TV Script is Nonsensical\n",
    "It's ok if the TV script doesn't make any sense.  We trained on less than a megabyte of text.  In order to get good results, you'll have to use a smaller vocabulary or get more data.  Luckly there's more data!  As we mentioned in the begging of this project, this is a subset of [another dataset](https://www.kaggle.com/wcukierski/the-simpsons-by-the-data).  We didn't have you train on all the data, because that would take too long.  However, you are free to train your neural network on all the data.  After you complete the project, of course.\n",
    "# Submitting This Project\n",
    "When submitting this project, make sure to run all the cells before saving the notebook. Save the notebook file as \"dlnd_tv_script_generation.ipynb\" and save it as a HTML file under \"File\" -> \"Download as\". Include the \"helper.py\" and \"problem_unittests.py\" files in your submission."
   ]
  }
 ],
 "metadata": {
  "kernelspec": {
   "display_name": "Python 3",
   "language": "python",
   "name": "python3"
  },
  "language_info": {
   "codemirror_mode": {
    "name": "ipython",
    "version": 3
   },
   "file_extension": ".py",
   "mimetype": "text/x-python",
   "name": "python",
   "nbconvert_exporter": "python",
   "pygments_lexer": "ipython3",
   "version": "3.5.3"
  },
  "widgets": {
   "state": {},
   "version": "1.1.2"
  }
 },
 "nbformat": 4,
 "nbformat_minor": 0
}
